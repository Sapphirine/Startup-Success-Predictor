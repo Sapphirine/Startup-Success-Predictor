{
 "cells": [
  {
   "cell_type": "markdown",
   "metadata": {
    "id": "TiJUwTDu5_XS",
    "papermill": {
     "duration": 0.063613,
     "end_time": "2021-05-09T10:36:09.720517",
     "exception": false,
     "start_time": "2021-05-09T10:36:09.656904",
     "status": "completed"
    },
    "tags": []
   },
   "source": [
    "## Startup Exploration\n",
    "\n",
    "\n",
    "\n",
    "Investment in Startups is a speculative and intuitive venture in which investors are willing to put their money in an idea that has not been proved but shows potential to make more money. From the different kinds of investors, there are those that do not have a direct exit strategy and those that have.\n",
    "\n",
    "It is from this view that then investors protect themselves leading to such events like ipos, closure, acquisition and continous operation as a company. Therefore being a speculative venture, closure is the most expensive events for investors as their is a high likelihood of them loosing their money.\n",
    "\n",
    "\n",
    "With this background this notebook, seeks to learn the characteristics of the ipo, closure, acquisition and still operating events, predict if a company would undergo one of the events and finally try to recommend startups for consideration as part of the investment portfolio."
   ]
  },
  {
   "cell_type": "markdown",
   "metadata": {
    "papermill": {
     "duration": 0.061382,
     "end_time": "2021-05-09T10:36:09.844253",
     "exception": false,
     "start_time": "2021-05-09T10:36:09.782871",
     "status": "completed"
    },
    "tags": []
   },
   "source": [
    "#### Setting up the s3 environment for this notebook"
   ]
  },
  {
   "cell_type": "code",
   "execution_count": 1,
   "metadata": {
    "execution": {
     "iopub.execute_input": "2021-05-09T10:36:09.974158Z",
     "iopub.status.busy": "2021-05-09T10:36:09.972621Z",
     "iopub.status.idle": "2021-05-09T10:36:09.977694Z",
     "shell.execute_reply": "2021-05-09T10:36:09.977043Z"
    },
    "papermill": {
     "duration": 0.071172,
     "end_time": "2021-05-09T10:36:09.977851",
     "exception": false,
     "start_time": "2021-05-09T10:36:09.906679",
     "status": "completed"
    },
    "tags": []
   },
   "outputs": [],
   "source": [
    "# import sagemaker\n",
    "# import boto3\n",
    "# from sagemaker.amazon.amazon_estimator import get_image_uri\n",
    "# from sagemaker.session import s3_input, Session"
   ]
  },
  {
   "cell_type": "code",
   "execution_count": 2,
   "metadata": {
    "execution": {
     "iopub.execute_input": "2021-05-09T10:36:10.110875Z",
     "iopub.status.busy": "2021-05-09T10:36:10.110251Z",
     "iopub.status.idle": "2021-05-09T10:36:10.112222Z",
     "shell.execute_reply": "2021-05-09T10:36:10.112766Z"
    },
    "papermill": {
     "duration": 0.071614,
     "end_time": "2021-05-09T10:36:10.112923",
     "exception": false,
     "start_time": "2021-05-09T10:36:10.041309",
     "status": "completed"
    },
    "tags": []
   },
   "outputs": [],
   "source": [
    "# bucket_name = 'startup-recommender-app'\n",
    "# my_region = boto3.session.Session().region_name"
   ]
  },
  {
   "cell_type": "code",
   "execution_count": 3,
   "metadata": {
    "execution": {
     "iopub.execute_input": "2021-05-09T10:36:10.243562Z",
     "iopub.status.busy": "2021-05-09T10:36:10.242509Z",
     "iopub.status.idle": "2021-05-09T10:36:10.246453Z",
     "shell.execute_reply": "2021-05-09T10:36:10.246938Z"
    },
    "papermill": {
     "duration": 0.069798,
     "end_time": "2021-05-09T10:36:10.247114",
     "exception": false,
     "start_time": "2021-05-09T10:36:10.177316",
     "status": "completed"
    },
    "tags": []
   },
   "outputs": [],
   "source": [
    "# s3 = boto3.client('s3')\n",
    "# existing_buckets = [x['Name'] for x in s3.list_buckets()['Buckets']]\n",
    "\n",
    "# try:\n",
    "    # if bucket_name not in existing_buckets:\n",
    "       # if my_region is None:\n",
    "           # s3.create_bucket(Bucket=bucket_name)\n",
    "          #  print('s3 bucket created successfully')\n",
    "        #else:\n",
    "           # location = {'LocationConstraint': my_region}\n",
    "           # s3.create_bucket(Bucket=bucket_name, CreateBucketConfiguration=location)\n",
    "    #else:\n",
    "      #  print('Already exists')\n",
    "#except Exception as e:\n",
    "   # print('s3 error: ', e)"
   ]
  },
  {
   "cell_type": "code",
   "execution_count": 4,
   "metadata": {
    "execution": {
     "iopub.execute_input": "2021-05-09T10:36:10.376101Z",
     "iopub.status.busy": "2021-05-09T10:36:10.375434Z",
     "iopub.status.idle": "2021-05-09T10:36:10.378780Z",
     "shell.execute_reply": "2021-05-09T10:36:10.378275Z"
    },
    "papermill": {
     "duration": 0.069468,
     "end_time": "2021-05-09T10:36:10.378933",
     "exception": false,
     "start_time": "2021-05-09T10:36:10.309465",
     "status": "completed"
    },
    "tags": []
   },
   "outputs": [],
   "source": [
    "# Setting up the path for model saving\n",
    "#prefix = 'models-as-built-in-algo'\n",
    "#output_path = 's3://{}/{}/output'.format(bucket_name, prefix)\n",
    "#print(output_path)"
   ]
  },
  {
   "cell_type": "code",
   "execution_count": 2,
   "metadata": {
    "execution": {
     "iopub.execute_input": "2021-05-09T10:36:10.513738Z",
     "iopub.status.busy": "2021-05-09T10:36:10.513009Z",
     "iopub.status.idle": "2021-05-09T10:36:10.515666Z",
     "shell.execute_reply": "2021-05-09T10:36:10.516114Z"
    },
    "id": "incorrect-demographic",
    "papermill": {
     "duration": 0.075181,
     "end_time": "2021-05-09T10:36:10.516303",
     "exception": false,
     "start_time": "2021-05-09T10:36:10.441122",
     "status": "completed"
    },
    "tags": []
   },
   "outputs": [],
   "source": [
    "#Importing necessary packages to read files\n",
    "import pandas as pd\n",
    "import numpy as np"
   ]
  },
  {
   "cell_type": "code",
   "execution_count": 3,
   "metadata": {
    "execution": {
     "iopub.execute_input": "2021-05-09T10:36:10.647785Z",
     "iopub.status.busy": "2021-05-09T10:36:10.647045Z",
     "iopub.status.idle": "2021-05-09T10:36:23.674698Z",
     "shell.execute_reply": "2021-05-09T10:36:23.674024Z"
    },
    "id": "UkDPdgwb5_Xk",
    "outputId": "206b6705-f724-477d-f6cf-fb6d9d161292",
    "papermill": {
     "duration": 13.096151,
     "end_time": "2021-05-09T10:36:23.674856",
     "exception": false,
     "start_time": "2021-05-09T10:36:10.578705",
     "status": "completed"
    },
    "tags": []
   },
   "outputs": [],
   "source": [
    "df1 = pd.read_csv('../input/startup-investments/objects.csv', low_memory=False)"
   ]
  },
  {
   "cell_type": "code",
   "execution_count": 15,
   "metadata": {},
   "outputs": [
    {
     "data": {
      "text/plain": [
       "(196553, 40)"
      ]
     },
     "execution_count": 15,
     "metadata": {},
     "output_type": "execute_result"
    }
   ],
   "source": [
    "df5.shape"
   ]
  },
  {
   "cell_type": "code",
   "execution_count": 6,
   "metadata": {
    "execution": {
     "iopub.execute_input": "2021-05-09T10:36:23.809949Z",
     "iopub.status.busy": "2021-05-09T10:36:23.808911Z",
     "iopub.status.idle": "2021-05-09T10:36:23.816496Z",
     "shell.execute_reply": "2021-05-09T10:36:23.816943Z"
    },
    "id": "h514HpFK5_Xm",
    "outputId": "6259833e-f896-4b08-9816-9193d0f89353",
    "papermill": {
     "duration": 0.078002,
     "end_time": "2021-05-09T10:36:23.817130",
     "exception": false,
     "start_time": "2021-05-09T10:36:23.739128",
     "status": "completed"
    },
    "tags": []
   },
   "outputs": [
    {
     "name": "stdout",
     "output_type": "stream",
     "text": [
      "parent_id 3\n",
      "category_code 7\n",
      "founded_at 9\n",
      "closed_at 10\n",
      "short_description 17\n",
      "description 18\n",
      "country_code 21\n",
      "state_code 22\n",
      "city 23\n",
      "first_investment_at 25\n",
      "last_investment_at 26\n",
      "first_funding_at 29\n",
      "last_funding_at 30\n",
      "first_milestone_at 33\n",
      "last_milestone_at 34\n",
      "created_by 37\n"
     ]
    }
   ],
   "source": [
    "# Parse the columns raising the warning above correctly\n",
    "list = df1.columns.to_list()\n",
    "list_2 = [3,7,9,10,17,18,21,22,23,25,26,29,30,33,34,37]\n",
    "for i in list_2:\n",
    "    print(list[i], i)"
   ]
  },
  {
   "cell_type": "code",
   "execution_count": 7,
   "metadata": {
    "execution": {
     "iopub.execute_input": "2021-05-09T10:36:23.950544Z",
     "iopub.status.busy": "2021-05-09T10:36:23.949852Z",
     "iopub.status.idle": "2021-05-09T10:36:31.869051Z",
     "shell.execute_reply": "2021-05-09T10:36:31.868452Z"
    },
    "id": "HL3QdpJf5_Xn",
    "papermill": {
     "duration": 7.988218,
     "end_time": "2021-05-09T10:36:31.869237",
     "exception": false,
     "start_time": "2021-05-09T10:36:23.881019",
     "status": "completed"
    },
    "tags": []
   },
   "outputs": [],
   "source": [
    "#Objects Data\n",
    "df1 = pd.read_csv('../input/startup-investments/objects.csv', dtype={'parent_id':'object', 'category_code': 'object', 'short_description': 'object', 'description': 'object', 'country_code': 'object', 'state_code': 'object', 'city': 'object', 'created_by': 'object'}, parse_dates=[9, 10, 25, 26, 29, 30, 33, 34])"
   ]
  },
  {
   "cell_type": "code",
   "execution_count": 8,
   "metadata": {
    "execution": {
     "iopub.execute_input": "2021-05-09T10:36:32.013013Z",
     "iopub.status.busy": "2021-05-09T10:36:32.012126Z",
     "iopub.status.idle": "2021-05-09T10:36:32.043654Z",
     "shell.execute_reply": "2021-05-09T10:36:32.044171Z"
    },
    "id": "h_6JNJ9G5_Xn",
    "outputId": "10f1a79a-d8fe-43a0-c90f-6f776d2a13bf",
    "papermill": {
     "duration": 0.108105,
     "end_time": "2021-05-09T10:36:32.044373",
     "exception": false,
     "start_time": "2021-05-09T10:36:31.936268",
     "status": "completed"
    },
    "tags": []
   },
   "outputs": [
    {
     "data": {
      "text/html": [
       "<div>\n",
       "<style scoped>\n",
       "    .dataframe tbody tr th:only-of-type {\n",
       "        vertical-align: middle;\n",
       "    }\n",
       "\n",
       "    .dataframe tbody tr th {\n",
       "        vertical-align: top;\n",
       "    }\n",
       "\n",
       "    .dataframe thead th {\n",
       "        text-align: right;\n",
       "    }\n",
       "</style>\n",
       "<table border=\"1\" class=\"dataframe\">\n",
       "  <thead>\n",
       "    <tr style=\"text-align: right;\">\n",
       "      <th></th>\n",
       "      <th>id</th>\n",
       "      <th>entity_type</th>\n",
       "      <th>entity_id</th>\n",
       "      <th>parent_id</th>\n",
       "      <th>name</th>\n",
       "      <th>normalized_name</th>\n",
       "      <th>permalink</th>\n",
       "      <th>category_code</th>\n",
       "      <th>status</th>\n",
       "      <th>founded_at</th>\n",
       "      <th>...</th>\n",
       "      <th>last_funding_at</th>\n",
       "      <th>funding_rounds</th>\n",
       "      <th>funding_total_usd</th>\n",
       "      <th>first_milestone_at</th>\n",
       "      <th>last_milestone_at</th>\n",
       "      <th>milestones</th>\n",
       "      <th>relationships</th>\n",
       "      <th>created_by</th>\n",
       "      <th>created_at</th>\n",
       "      <th>updated_at</th>\n",
       "    </tr>\n",
       "  </thead>\n",
       "  <tbody>\n",
       "    <tr>\n",
       "      <th>0</th>\n",
       "      <td>c:1</td>\n",
       "      <td>Company</td>\n",
       "      <td>1</td>\n",
       "      <td>NaN</td>\n",
       "      <td>Wetpaint</td>\n",
       "      <td>wetpaint</td>\n",
       "      <td>/company/wetpaint</td>\n",
       "      <td>web</td>\n",
       "      <td>operating</td>\n",
       "      <td>2005-10-17</td>\n",
       "      <td>...</td>\n",
       "      <td>2008-05-19</td>\n",
       "      <td>3</td>\n",
       "      <td>39750000.0</td>\n",
       "      <td>2010-09-05</td>\n",
       "      <td>2013-09-18</td>\n",
       "      <td>5</td>\n",
       "      <td>17</td>\n",
       "      <td>initial-importer</td>\n",
       "      <td>2007-05-25 06:51:27</td>\n",
       "      <td>2013-04-13 03:29:00</td>\n",
       "    </tr>\n",
       "    <tr>\n",
       "      <th>1</th>\n",
       "      <td>c:10</td>\n",
       "      <td>Company</td>\n",
       "      <td>10</td>\n",
       "      <td>NaN</td>\n",
       "      <td>Flektor</td>\n",
       "      <td>flektor</td>\n",
       "      <td>/company/flektor</td>\n",
       "      <td>games_video</td>\n",
       "      <td>acquired</td>\n",
       "      <td>NaT</td>\n",
       "      <td>...</td>\n",
       "      <td>NaT</td>\n",
       "      <td>0</td>\n",
       "      <td>0.0</td>\n",
       "      <td>NaT</td>\n",
       "      <td>NaT</td>\n",
       "      <td>0</td>\n",
       "      <td>6</td>\n",
       "      <td>initial-importer</td>\n",
       "      <td>2007-05-31 21:11:51</td>\n",
       "      <td>2008-05-23 23:23:14</td>\n",
       "    </tr>\n",
       "    <tr>\n",
       "      <th>2</th>\n",
       "      <td>c:100</td>\n",
       "      <td>Company</td>\n",
       "      <td>100</td>\n",
       "      <td>NaN</td>\n",
       "      <td>There</td>\n",
       "      <td>there</td>\n",
       "      <td>/company/there</td>\n",
       "      <td>games_video</td>\n",
       "      <td>acquired</td>\n",
       "      <td>NaT</td>\n",
       "      <td>...</td>\n",
       "      <td>NaT</td>\n",
       "      <td>0</td>\n",
       "      <td>0.0</td>\n",
       "      <td>2003-02-01</td>\n",
       "      <td>2011-09-23</td>\n",
       "      <td>4</td>\n",
       "      <td>12</td>\n",
       "      <td>initial-importer</td>\n",
       "      <td>2007-08-06 23:52:45</td>\n",
       "      <td>2013-11-04 02:09:48</td>\n",
       "    </tr>\n",
       "    <tr>\n",
       "      <th>3</th>\n",
       "      <td>c:10000</td>\n",
       "      <td>Company</td>\n",
       "      <td>10000</td>\n",
       "      <td>NaN</td>\n",
       "      <td>MYWEBBO</td>\n",
       "      <td>mywebbo</td>\n",
       "      <td>/company/mywebbo</td>\n",
       "      <td>network_hosting</td>\n",
       "      <td>operating</td>\n",
       "      <td>2008-07-26</td>\n",
       "      <td>...</td>\n",
       "      <td>NaT</td>\n",
       "      <td>0</td>\n",
       "      <td>0.0</td>\n",
       "      <td>NaT</td>\n",
       "      <td>NaT</td>\n",
       "      <td>0</td>\n",
       "      <td>0</td>\n",
       "      <td>NaN</td>\n",
       "      <td>2008-08-24 16:51:57</td>\n",
       "      <td>2008-09-06 14:19:18</td>\n",
       "    </tr>\n",
       "    <tr>\n",
       "      <th>4</th>\n",
       "      <td>c:10001</td>\n",
       "      <td>Company</td>\n",
       "      <td>10001</td>\n",
       "      <td>NaN</td>\n",
       "      <td>THE Movie Streamer</td>\n",
       "      <td>the movie streamer</td>\n",
       "      <td>/company/the-movie-streamer</td>\n",
       "      <td>games_video</td>\n",
       "      <td>operating</td>\n",
       "      <td>2008-07-26</td>\n",
       "      <td>...</td>\n",
       "      <td>NaT</td>\n",
       "      <td>0</td>\n",
       "      <td>0.0</td>\n",
       "      <td>NaT</td>\n",
       "      <td>NaT</td>\n",
       "      <td>0</td>\n",
       "      <td>0</td>\n",
       "      <td>NaN</td>\n",
       "      <td>2008-08-24 17:10:34</td>\n",
       "      <td>2008-09-06 14:19:18</td>\n",
       "    </tr>\n",
       "  </tbody>\n",
       "</table>\n",
       "<p>5 rows × 40 columns</p>\n",
       "</div>"
      ],
      "text/plain": [
       "        id entity_type  entity_id parent_id                name  \\\n",
       "0      c:1     Company          1       NaN            Wetpaint   \n",
       "1     c:10     Company         10       NaN             Flektor   \n",
       "2    c:100     Company        100       NaN               There   \n",
       "3  c:10000     Company      10000       NaN             MYWEBBO   \n",
       "4  c:10001     Company      10001       NaN  THE Movie Streamer   \n",
       "\n",
       "      normalized_name                    permalink    category_code  \\\n",
       "0            wetpaint            /company/wetpaint              web   \n",
       "1             flektor             /company/flektor      games_video   \n",
       "2               there               /company/there      games_video   \n",
       "3             mywebbo             /company/mywebbo  network_hosting   \n",
       "4  the movie streamer  /company/the-movie-streamer      games_video   \n",
       "\n",
       "      status founded_at  ... last_funding_at funding_rounds funding_total_usd  \\\n",
       "0  operating 2005-10-17  ...      2008-05-19              3        39750000.0   \n",
       "1   acquired        NaT  ...             NaT              0               0.0   \n",
       "2   acquired        NaT  ...             NaT              0               0.0   \n",
       "3  operating 2008-07-26  ...             NaT              0               0.0   \n",
       "4  operating 2008-07-26  ...             NaT              0               0.0   \n",
       "\n",
       "  first_milestone_at last_milestone_at  milestones  relationships  \\\n",
       "0         2010-09-05        2013-09-18           5             17   \n",
       "1                NaT               NaT           0              6   \n",
       "2         2003-02-01        2011-09-23           4             12   \n",
       "3                NaT               NaT           0              0   \n",
       "4                NaT               NaT           0              0   \n",
       "\n",
       "         created_by           created_at           updated_at  \n",
       "0  initial-importer  2007-05-25 06:51:27  2013-04-13 03:29:00  \n",
       "1  initial-importer  2007-05-31 21:11:51  2008-05-23 23:23:14  \n",
       "2  initial-importer  2007-08-06 23:52:45  2013-11-04 02:09:48  \n",
       "3               NaN  2008-08-24 16:51:57  2008-09-06 14:19:18  \n",
       "4               NaN  2008-08-24 17:10:34  2008-09-06 14:19:18  \n",
       "\n",
       "[5 rows x 40 columns]"
      ]
     },
     "execution_count": 8,
     "metadata": {},
     "output_type": "execute_result"
    }
   ],
   "source": [
    "df1.head()"
   ]
  },
  {
   "cell_type": "code",
   "execution_count": 9,
   "metadata": {
    "execution": {
     "iopub.execute_input": "2021-05-09T10:36:32.178547Z",
     "iopub.status.busy": "2021-05-09T10:36:32.177936Z",
     "iopub.status.idle": "2021-05-09T10:36:32.700965Z",
     "shell.execute_reply": "2021-05-09T10:36:32.701637Z"
    },
    "id": "n6hz5CTO5_Xo",
    "papermill": {
     "duration": 0.590469,
     "end_time": "2021-05-09T10:36:32.701820",
     "exception": false,
     "start_time": "2021-05-09T10:36:32.111351",
     "status": "completed"
    },
    "tags": []
   },
   "outputs": [],
   "source": [
    "#Funding Rounds Data\n",
    "df2 = pd.read_csv('../input/startup-investments/funding_rounds.csv', parse_dates=[3])"
   ]
  },
  {
   "cell_type": "code",
   "execution_count": 10,
   "metadata": {
    "execution": {
     "iopub.execute_input": "2021-05-09T10:36:32.834595Z",
     "iopub.status.busy": "2021-05-09T10:36:32.833922Z",
     "iopub.status.idle": "2021-05-09T10:36:32.867950Z",
     "shell.execute_reply": "2021-05-09T10:36:32.868499Z"
    },
    "id": "aW0jo5ZS5_Xp",
    "outputId": "a4eb2778-4f7a-4f68-eac0-d8e1a51a1d3c",
    "papermill": {
     "duration": 0.101976,
     "end_time": "2021-05-09T10:36:32.868689",
     "exception": false,
     "start_time": "2021-05-09T10:36:32.766713",
     "status": "completed"
    },
    "tags": []
   },
   "outputs": [
    {
     "data": {
      "text/html": [
       "<div>\n",
       "<style scoped>\n",
       "    .dataframe tbody tr th:only-of-type {\n",
       "        vertical-align: middle;\n",
       "    }\n",
       "\n",
       "    .dataframe tbody tr th {\n",
       "        vertical-align: top;\n",
       "    }\n",
       "\n",
       "    .dataframe thead th {\n",
       "        text-align: right;\n",
       "    }\n",
       "</style>\n",
       "<table border=\"1\" class=\"dataframe\">\n",
       "  <thead>\n",
       "    <tr style=\"text-align: right;\">\n",
       "      <th></th>\n",
       "      <th>id</th>\n",
       "      <th>ipo_id</th>\n",
       "      <th>object_id</th>\n",
       "      <th>valuation_amount</th>\n",
       "      <th>valuation_currency_code</th>\n",
       "      <th>raised_amount</th>\n",
       "      <th>raised_currency_code</th>\n",
       "      <th>public_at</th>\n",
       "      <th>stock_symbol</th>\n",
       "      <th>source_url</th>\n",
       "      <th>source_description</th>\n",
       "      <th>created_at</th>\n",
       "      <th>updated_at</th>\n",
       "    </tr>\n",
       "  </thead>\n",
       "  <tbody>\n",
       "    <tr>\n",
       "      <th>0</th>\n",
       "      <td>1</td>\n",
       "      <td>1</td>\n",
       "      <td>c:1654</td>\n",
       "      <td>0.000000e+00</td>\n",
       "      <td>USD</td>\n",
       "      <td>0.0</td>\n",
       "      <td>USD</td>\n",
       "      <td>1980-12-19</td>\n",
       "      <td>NASDAQ:AAPL</td>\n",
       "      <td>NaN</td>\n",
       "      <td>NaN</td>\n",
       "      <td>2008-02-09 05:17:45</td>\n",
       "      <td>2012-04-12 04:02:59</td>\n",
       "    </tr>\n",
       "    <tr>\n",
       "      <th>1</th>\n",
       "      <td>2</td>\n",
       "      <td>2</td>\n",
       "      <td>c:1242</td>\n",
       "      <td>0.000000e+00</td>\n",
       "      <td>USD</td>\n",
       "      <td>0.0</td>\n",
       "      <td>NaN</td>\n",
       "      <td>1986-03-13</td>\n",
       "      <td>NASDAQ:MSFT</td>\n",
       "      <td>NaN</td>\n",
       "      <td>NaN</td>\n",
       "      <td>2008-02-09 05:25:18</td>\n",
       "      <td>2010-12-11 12:39:46</td>\n",
       "    </tr>\n",
       "    <tr>\n",
       "      <th>2</th>\n",
       "      <td>3</td>\n",
       "      <td>3</td>\n",
       "      <td>c:342</td>\n",
       "      <td>0.000000e+00</td>\n",
       "      <td>USD</td>\n",
       "      <td>0.0</td>\n",
       "      <td>NaN</td>\n",
       "      <td>1969-06-09</td>\n",
       "      <td>NYSE:DIS</td>\n",
       "      <td>NaN</td>\n",
       "      <td>NaN</td>\n",
       "      <td>2008-02-09 05:40:32</td>\n",
       "      <td>2010-12-23 08:58:16</td>\n",
       "    </tr>\n",
       "    <tr>\n",
       "      <th>3</th>\n",
       "      <td>4</td>\n",
       "      <td>4</td>\n",
       "      <td>c:59</td>\n",
       "      <td>0.000000e+00</td>\n",
       "      <td>USD</td>\n",
       "      <td>0.0</td>\n",
       "      <td>NaN</td>\n",
       "      <td>2004-08-25</td>\n",
       "      <td>NASDAQ:GOOG</td>\n",
       "      <td>NaN</td>\n",
       "      <td>NaN</td>\n",
       "      <td>2008-02-10 22:51:24</td>\n",
       "      <td>2011-08-01 20:47:08</td>\n",
       "    </tr>\n",
       "    <tr>\n",
       "      <th>4</th>\n",
       "      <td>5</td>\n",
       "      <td>5</td>\n",
       "      <td>c:317</td>\n",
       "      <td>1.000000e+11</td>\n",
       "      <td>USD</td>\n",
       "      <td>0.0</td>\n",
       "      <td>NaN</td>\n",
       "      <td>1997-05-01</td>\n",
       "      <td>NASDAQ:AMZN</td>\n",
       "      <td>NaN</td>\n",
       "      <td>NaN</td>\n",
       "      <td>2008-02-10 23:28:09</td>\n",
       "      <td>2011-08-01 21:11:22</td>\n",
       "    </tr>\n",
       "  </tbody>\n",
       "</table>\n",
       "</div>"
      ],
      "text/plain": [
       "   id  ipo_id object_id  valuation_amount valuation_currency_code  \\\n",
       "0   1       1    c:1654      0.000000e+00                     USD   \n",
       "1   2       2    c:1242      0.000000e+00                     USD   \n",
       "2   3       3     c:342      0.000000e+00                     USD   \n",
       "3   4       4      c:59      0.000000e+00                     USD   \n",
       "4   5       5     c:317      1.000000e+11                     USD   \n",
       "\n",
       "   raised_amount raised_currency_code  public_at stock_symbol source_url  \\\n",
       "0            0.0                  USD 1980-12-19  NASDAQ:AAPL        NaN   \n",
       "1            0.0                  NaN 1986-03-13  NASDAQ:MSFT        NaN   \n",
       "2            0.0                  NaN 1969-06-09     NYSE:DIS        NaN   \n",
       "3            0.0                  NaN 2004-08-25  NASDAQ:GOOG        NaN   \n",
       "4            0.0                  NaN 1997-05-01  NASDAQ:AMZN        NaN   \n",
       "\n",
       "  source_description           created_at           updated_at  \n",
       "0                NaN  2008-02-09 05:17:45  2012-04-12 04:02:59  \n",
       "1                NaN  2008-02-09 05:25:18  2010-12-11 12:39:46  \n",
       "2                NaN  2008-02-09 05:40:32  2010-12-23 08:58:16  \n",
       "3                NaN  2008-02-10 22:51:24  2011-08-01 20:47:08  \n",
       "4                NaN  2008-02-10 23:28:09  2011-08-01 21:11:22  "
      ]
     },
     "execution_count": 10,
     "metadata": {},
     "output_type": "execute_result"
    }
   ],
   "source": [
    "#IPOs Data\n",
    "df3 = pd.read_csv('../input/startup-investments/ipos.csv', parse_dates=[7])\n",
    "df3.head()"
   ]
  },
  {
   "cell_type": "code",
   "execution_count": 11,
   "metadata": {
    "execution": {
     "iopub.execute_input": "2021-05-09T10:36:33.034038Z",
     "iopub.status.busy": "2021-05-09T10:36:33.033447Z",
     "iopub.status.idle": "2021-05-09T10:36:33.073616Z",
     "shell.execute_reply": "2021-05-09T10:36:33.073073Z"
    },
    "id": "yiIfMPy55_Xp",
    "outputId": "6b99197d-eb00-488c-9f54-66549a99d1be",
    "papermill": {
     "duration": 0.133042,
     "end_time": "2021-05-09T10:36:33.073771",
     "exception": false,
     "start_time": "2021-05-09T10:36:32.940729",
     "status": "completed"
    },
    "tags": []
   },
   "outputs": [
    {
     "data": {
      "text/plain": [
       "array(['Company', 'FinancialOrg', 'Person', 'Product'], dtype=object)"
      ]
     },
     "execution_count": 11,
     "metadata": {},
     "output_type": "execute_result"
    }
   ],
   "source": [
    "df1['entity_type'].unique()"
   ]
  },
  {
   "cell_type": "markdown",
   "metadata": {
    "id": "dYRQdOsO5_Xq",
    "papermill": {
     "duration": 0.066134,
     "end_time": "2021-05-09T10:36:33.205271",
     "exception": false,
     "start_time": "2021-05-09T10:36:33.139137",
     "status": "completed"
    },
    "tags": []
   },
   "source": [
    "**Observation**\n",
    "\n",
    "The objects.csv has companies, financial organization, persons, and products data."
   ]
  },
  {
   "cell_type": "code",
   "execution_count": 12,
   "metadata": {
    "execution": {
     "iopub.execute_input": "2021-05-09T10:36:33.407608Z",
     "iopub.status.busy": "2021-05-09T10:36:33.406931Z",
     "iopub.status.idle": "2021-05-09T10:36:33.467420Z",
     "shell.execute_reply": "2021-05-09T10:36:33.466765Z"
    },
    "id": "wN2ehAFh5_Xq",
    "papermill": {
     "duration": 0.197121,
     "end_time": "2021-05-09T10:36:33.467566",
     "exception": false,
     "start_time": "2021-05-09T10:36:33.270445",
     "status": "completed"
    },
    "tags": []
   },
   "outputs": [],
   "source": [
    "df5 = df1[df1['entity_type'] == 'Company']"
   ]
  },
  {
   "cell_type": "markdown",
   "metadata": {
    "id": "UbEGTkZJ5_Xr",
    "papermill": {
     "duration": 0.065257,
     "end_time": "2021-05-09T10:36:33.605404",
     "exception": false,
     "start_time": "2021-05-09T10:36:33.540147",
     "status": "completed"
    },
    "tags": []
   },
   "source": [
    "**_Observaions_**\n",
    "\n",
    "By means of intution, relevant features are selected and irrevelant features are ignored to form a new Dataframe."
   ]
  },
  {
   "cell_type": "code",
   "execution_count": 13,
   "metadata": {
    "execution": {
     "iopub.execute_input": "2021-05-09T10:36:33.744514Z",
     "iopub.status.busy": "2021-05-09T10:36:33.743312Z",
     "iopub.status.idle": "2021-05-09T10:36:33.778411Z",
     "shell.execute_reply": "2021-05-09T10:36:33.777818Z"
    },
    "id": "sag8Is7R5_Xr",
    "papermill": {
     "duration": 0.108226,
     "end_time": "2021-05-09T10:36:33.778560",
     "exception": false,
     "start_time": "2021-05-09T10:36:33.670334",
     "status": "completed"
    },
    "tags": []
   },
   "outputs": [],
   "source": [
    "# Creation of df6\n",
    "df6 = df5[['id','status','normalized_name', 'category_code', 'founded_at', 'closed_at', 'tag_list', 'country_code', 'investment_rounds', 'invested_companies', 'first_funding_at', 'last_funding_at', 'funding_rounds', 'funding_total_usd', 'first_milestone_at', 'last_milestone_at', 'milestones', 'relationships']].copy()"
   ]
  },
  {
   "cell_type": "code",
   "execution_count": 14,
   "metadata": {
    "execution": {
     "iopub.execute_input": "2021-05-09T10:36:33.916408Z",
     "iopub.status.busy": "2021-05-09T10:36:33.915498Z",
     "iopub.status.idle": "2021-05-09T10:36:33.947970Z",
     "shell.execute_reply": "2021-05-09T10:36:33.947454Z"
    },
    "id": "Db_YdGSZ5_Xs",
    "outputId": "3771dbd9-255d-40fb-e9a4-aeb9adbc9738",
    "papermill": {
     "duration": 0.1034,
     "end_time": "2021-05-09T10:36:33.948120",
     "exception": false,
     "start_time": "2021-05-09T10:36:33.844720",
     "status": "completed"
    },
    "tags": []
   },
   "outputs": [
    {
     "data": {
      "text/html": [
       "<div>\n",
       "<style scoped>\n",
       "    .dataframe tbody tr th:only-of-type {\n",
       "        vertical-align: middle;\n",
       "    }\n",
       "\n",
       "    .dataframe tbody tr th {\n",
       "        vertical-align: top;\n",
       "    }\n",
       "\n",
       "    .dataframe thead th {\n",
       "        text-align: right;\n",
       "    }\n",
       "</style>\n",
       "<table border=\"1\" class=\"dataframe\">\n",
       "  <thead>\n",
       "    <tr style=\"text-align: right;\">\n",
       "      <th></th>\n",
       "      <th>tag_list</th>\n",
       "    </tr>\n",
       "  </thead>\n",
       "  <tbody>\n",
       "    <tr>\n",
       "      <th>0</th>\n",
       "      <td>wiki, seattle, elowitz, media-industry, media-...</td>\n",
       "    </tr>\n",
       "    <tr>\n",
       "      <th>1</th>\n",
       "      <td>flektor, photo, video</td>\n",
       "    </tr>\n",
       "    <tr>\n",
       "      <th>2</th>\n",
       "      <td>virtualworld, there, teens</td>\n",
       "    </tr>\n",
       "    <tr>\n",
       "      <th>3</th>\n",
       "      <td>social-network, new, website, web, friends, ch...</td>\n",
       "    </tr>\n",
       "    <tr>\n",
       "      <th>4</th>\n",
       "      <td>watch, full-length, moives, online, for, free,...</td>\n",
       "    </tr>\n",
       "    <tr>\n",
       "      <th>...</th>\n",
       "      <td>...</td>\n",
       "    </tr>\n",
       "    <tr>\n",
       "      <th>196547</th>\n",
       "      <td>techcrunch50, tc50, collective-intelligence, i...</td>\n",
       "    </tr>\n",
       "    <tr>\n",
       "      <th>196548</th>\n",
       "      <td>ecommerce, quickbooks-sync, intuit-gold-partne...</td>\n",
       "    </tr>\n",
       "    <tr>\n",
       "      <th>196549</th>\n",
       "      <td>restaurant-industry-social-network, restaurat-...</td>\n",
       "    </tr>\n",
       "    <tr>\n",
       "      <th>196551</th>\n",
       "      <td>resumes, resume-database, resume-search, recru...</td>\n",
       "    </tr>\n",
       "    <tr>\n",
       "      <th>196552</th>\n",
       "      <td>techcrunch50, tc50, fashion, social-network, s...</td>\n",
       "    </tr>\n",
       "  </tbody>\n",
       "</table>\n",
       "<p>81452 rows × 1 columns</p>\n",
       "</div>"
      ],
      "text/plain": [
       "                                                 tag_list\n",
       "0       wiki, seattle, elowitz, media-industry, media-...\n",
       "1                                   flektor, photo, video\n",
       "2                              virtualworld, there, teens\n",
       "3       social-network, new, website, web, friends, ch...\n",
       "4       watch, full-length, moives, online, for, free,...\n",
       "...                                                   ...\n",
       "196547  techcrunch50, tc50, collective-intelligence, i...\n",
       "196548  ecommerce, quickbooks-sync, intuit-gold-partne...\n",
       "196549  restaurant-industry-social-network, restaurat-...\n",
       "196551  resumes, resume-database, resume-search, recru...\n",
       "196552  techcrunch50, tc50, fashion, social-network, s...\n",
       "\n",
       "[81452 rows x 1 columns]"
      ]
     },
     "execution_count": 14,
     "metadata": {},
     "output_type": "execute_result"
    }
   ],
   "source": [
    "# Looking into the contents of the tag_list feature to check its relevance to the study of this notebook\n",
    "df5[['tag_list']][~(df5['tag_list'].isna())]"
   ]
  },
  {
   "cell_type": "code",
   "execution_count": 16,
   "metadata": {
    "execution": {
     "iopub.execute_input": "2021-05-09T10:36:34.087281Z",
     "iopub.status.busy": "2021-05-09T10:36:34.086566Z",
     "iopub.status.idle": "2021-05-09T10:36:34.090813Z",
     "shell.execute_reply": "2021-05-09T10:36:34.091281Z"
    },
    "id": "dHR7WUGC5_Xt",
    "outputId": "4cca6ebf-3fd4-4da0-d52e-e5e157866c9b",
    "papermill": {
     "duration": 0.076508,
     "end_time": "2021-05-09T10:36:34.091463",
     "exception": false,
     "start_time": "2021-05-09T10:36:34.014955",
     "status": "completed"
    },
    "tags": []
   },
   "outputs": [
    {
     "data": {
      "text/plain": [
       "(196553, 18)"
      ]
     },
     "execution_count": 16,
     "metadata": {},
     "output_type": "execute_result"
    }
   ],
   "source": [
    "df6.shape"
   ]
  },
  {
   "cell_type": "code",
   "execution_count": 17,
   "metadata": {
    "execution": {
     "iopub.execute_input": "2021-05-09T10:36:34.230168Z",
     "iopub.status.busy": "2021-05-09T10:36:34.229574Z",
     "iopub.status.idle": "2021-05-09T10:36:34.355247Z",
     "shell.execute_reply": "2021-05-09T10:36:34.354707Z"
    },
    "id": "uHEjDZ9z5_Xu",
    "outputId": "7e70b326-5157-47f6-86cd-f1af40797bb4",
    "papermill": {
     "duration": 0.196605,
     "end_time": "2021-05-09T10:36:34.355395",
     "exception": false,
     "start_time": "2021-05-09T10:36:34.158790",
     "status": "completed"
    },
    "tags": []
   },
   "outputs": [
    {
     "name": "stdout",
     "output_type": "stream",
     "text": [
      "<class 'pandas.core.frame.DataFrame'>\n",
      "Int64Index: 196553 entries, 0 to 196552\n",
      "Data columns (total 18 columns):\n",
      " #   Column              Non-Null Count   Dtype         \n",
      "---  ------              --------------   -----         \n",
      " 0   id                  196553 non-null  object        \n",
      " 1   status              196553 non-null  object        \n",
      " 2   normalized_name     196549 non-null  object        \n",
      " 3   category_code       123186 non-null  object        \n",
      " 4   founded_at          91227 non-null   datetime64[ns]\n",
      " 5   closed_at           2620 non-null    datetime64[ns]\n",
      " 6   tag_list            81452 non-null   object        \n",
      " 7   country_code        87990 non-null   object        \n",
      " 8   investment_rounds   196553 non-null  int64         \n",
      " 9   invested_companies  196553 non-null  int64         \n",
      " 10  first_funding_at    31507 non-null   datetime64[ns]\n",
      " 11  last_funding_at     31507 non-null   datetime64[ns]\n",
      " 12  funding_rounds      196553 non-null  int64         \n",
      " 13  funding_total_usd   196553 non-null  float64       \n",
      " 14  first_milestone_at  91699 non-null   datetime64[ns]\n",
      " 15  last_milestone_at   91699 non-null   datetime64[ns]\n",
      " 16  milestones          196553 non-null  int64         \n",
      " 17  relationships       196553 non-null  int64         \n",
      "dtypes: datetime64[ns](6), float64(1), int64(5), object(6)\n",
      "memory usage: 28.5+ MB\n"
     ]
    }
   ],
   "source": [
    "df6.info()"
   ]
  },
  {
   "cell_type": "markdown",
   "metadata": {
    "id": "XSFR8uim5_Xv",
    "papermill": {
     "duration": 0.068264,
     "end_time": "2021-05-09T10:36:34.491382",
     "exception": false,
     "start_time": "2021-05-09T10:36:34.423118",
     "status": "completed"
    },
    "tags": []
   },
   "source": [
    "## Feature Engineering\n",
    "\n",
    "From the selected features this notebook will strive to feature engineer at this point to help fill in some null values."
   ]
  },
  {
   "cell_type": "markdown",
   "metadata": {
    "id": "GSGr87ZQ5_Xv",
    "papermill": {
     "duration": 0.069408,
     "end_time": "2021-05-09T10:36:34.631040",
     "exception": false,
     "start_time": "2021-05-09T10:36:34.561632",
     "status": "completed"
    },
    "tags": []
   },
   "source": [
    "1. **Age**"
   ]
  },
  {
   "cell_type": "code",
   "execution_count": 18,
   "metadata": {
    "execution": {
     "iopub.execute_input": "2021-05-09T10:36:34.777624Z",
     "iopub.status.busy": "2021-05-09T10:36:34.776910Z",
     "iopub.status.idle": "2021-05-09T10:36:34.782189Z",
     "shell.execute_reply": "2021-05-09T10:36:34.781520Z"
    },
    "id": "YPT-81fp5_Xw",
    "papermill": {
     "duration": 0.078386,
     "end_time": "2021-05-09T10:36:34.782330",
     "exception": false,
     "start_time": "2021-05-09T10:36:34.703944",
     "status": "completed"
    },
    "tags": []
   },
   "outputs": [],
   "source": [
    "# Base year for operating, acquired and ipo kind of companies\n",
    "BASE_YEAR = df6.closed_at.max()"
   ]
  },
  {
   "cell_type": "code",
   "execution_count": 19,
   "metadata": {
    "execution": {
     "iopub.execute_input": "2021-05-09T10:36:34.928042Z",
     "iopub.status.busy": "2021-05-09T10:36:34.927113Z",
     "iopub.status.idle": "2021-05-09T10:36:34.930796Z",
     "shell.execute_reply": "2021-05-09T10:36:34.931277Z"
    },
    "id": "G41R6OOc5_Xw",
    "outputId": "c4c59ba2-19fb-4561-c26e-4e2826fbb6cb",
    "papermill": {
     "duration": 0.07951,
     "end_time": "2021-05-09T10:36:34.931469",
     "exception": false,
     "start_time": "2021-05-09T10:36:34.851959",
     "status": "completed"
    },
    "tags": []
   },
   "outputs": [
    {
     "data": {
      "text/plain": [
       "datetime.timedelta(days=365, seconds=21600)"
      ]
     },
     "execution_count": 19,
     "metadata": {},
     "output_type": "execute_result"
    }
   ],
   "source": [
    "from datetime import timedelta\n",
    "\n",
    "days_yr = timedelta(days=365.25)\n",
    "days_yr"
   ]
  },
  {
   "cell_type": "code",
   "execution_count": 20,
   "metadata": {
    "execution": {
     "iopub.execute_input": "2021-05-09T10:36:35.088445Z",
     "iopub.status.busy": "2021-05-09T10:36:35.083244Z",
     "iopub.status.idle": "2021-05-09T10:36:46.606042Z",
     "shell.execute_reply": "2021-05-09T10:36:46.606826Z"
    },
    "id": "PK3KnftV5_Xw",
    "outputId": "82b79e88-2244-4a12-84cb-4c60a40bfce7",
    "papermill": {
     "duration": 11.606605,
     "end_time": "2021-05-09T10:36:46.607060",
     "exception": false,
     "start_time": "2021-05-09T10:36:35.000455",
     "status": "completed"
    },
    "tags": []
   },
   "outputs": [
    {
     "name": "stdout",
     "output_type": "stream",
     "text": [
      "CPU times: user 7.44 s, sys: 87.4 ms, total: 7.53 s\n",
      "Wall time: 7.65 s\n"
     ]
    }
   ],
   "source": [
    "%%time\n",
    "# Creating the feature age for the companies\n",
    "age = []\n",
    "\n",
    "for i in range(df6.shape[0]):\n",
    "    if (df6.status.iloc[i] == 'operating') or (df6.status.iloc[i] == 'acquired') or (df6.status.iloc[i] == 'ipo'):\n",
    "        age.append((BASE_YEAR - df6.founded_at.iloc[i])/days_yr)\n",
    "    else:\n",
    "        age.append((df6.closed_at.iloc[i] - df6.founded_at.iloc[i])/days_yr)"
   ]
  },
  {
   "cell_type": "code",
   "execution_count": 21,
   "metadata": {
    "execution": {
     "iopub.execute_input": "2021-05-09T10:36:46.802868Z",
     "iopub.status.busy": "2021-05-09T10:36:46.760773Z",
     "iopub.status.idle": "2021-05-09T10:36:46.873844Z",
     "shell.execute_reply": "2021-05-09T10:36:46.873127Z"
    },
    "id": "oMAjwT2x5_Xx",
    "papermill": {
     "duration": 0.188528,
     "end_time": "2021-05-09T10:36:46.873993",
     "exception": false,
     "start_time": "2021-05-09T10:36:46.685465",
     "status": "completed"
    },
    "tags": []
   },
   "outputs": [],
   "source": [
    "df6.loc[:, 'age'] = age"
   ]
  },
  {
   "cell_type": "code",
   "execution_count": 22,
   "metadata": {
    "execution": {
     "iopub.execute_input": "2021-05-09T10:36:47.017301Z",
     "iopub.status.busy": "2021-05-09T10:36:47.016344Z",
     "iopub.status.idle": "2021-05-09T10:36:47.097914Z",
     "shell.execute_reply": "2021-05-09T10:36:47.098471Z"
    },
    "id": "-sZgNfiH5_Xx",
    "outputId": "bf584053-1b84-48ce-8d13-842feffee17b",
    "papermill": {
     "duration": 0.155715,
     "end_time": "2021-05-09T10:36:47.098671",
     "exception": false,
     "start_time": "2021-05-09T10:36:46.942956",
     "status": "completed"
    },
    "tags": []
   },
   "outputs": [
    {
     "data": {
      "text/html": [
       "<div>\n",
       "<style scoped>\n",
       "    .dataframe tbody tr th:only-of-type {\n",
       "        vertical-align: middle;\n",
       "    }\n",
       "\n",
       "    .dataframe tbody tr th {\n",
       "        vertical-align: top;\n",
       "    }\n",
       "\n",
       "    .dataframe thead th {\n",
       "        text-align: right;\n",
       "    }\n",
       "</style>\n",
       "<table border=\"1\" class=\"dataframe\">\n",
       "  <thead>\n",
       "    <tr style=\"text-align: right;\">\n",
       "      <th></th>\n",
       "      <th>id</th>\n",
       "      <th>status</th>\n",
       "      <th>normalized_name</th>\n",
       "      <th>category_code</th>\n",
       "      <th>founded_at</th>\n",
       "      <th>closed_at</th>\n",
       "      <th>tag_list</th>\n",
       "      <th>country_code</th>\n",
       "      <th>investment_rounds</th>\n",
       "      <th>invested_companies</th>\n",
       "      <th>first_funding_at</th>\n",
       "      <th>last_funding_at</th>\n",
       "      <th>funding_rounds</th>\n",
       "      <th>funding_total_usd</th>\n",
       "      <th>first_milestone_at</th>\n",
       "      <th>last_milestone_at</th>\n",
       "      <th>milestones</th>\n",
       "      <th>relationships</th>\n",
       "      <th>age</th>\n",
       "    </tr>\n",
       "  </thead>\n",
       "  <tbody>\n",
       "    <tr>\n",
       "      <th>936</th>\n",
       "      <td>c:104846</td>\n",
       "      <td>closed</td>\n",
       "      <td>peers</td>\n",
       "      <td>web</td>\n",
       "      <td>2011-09-01</td>\n",
       "      <td>2011-01-01</td>\n",
       "      <td>social, social-networking, mobile, apps, conta...</td>\n",
       "      <td>NaN</td>\n",
       "      <td>0</td>\n",
       "      <td>0</td>\n",
       "      <td>NaT</td>\n",
       "      <td>NaT</td>\n",
       "      <td>0</td>\n",
       "      <td>0.0</td>\n",
       "      <td>NaT</td>\n",
       "      <td>NaT</td>\n",
       "      <td>0</td>\n",
       "      <td>0</td>\n",
       "      <td>-0.665298</td>\n",
       "    </tr>\n",
       "    <tr>\n",
       "      <th>3624</th>\n",
       "      <td>c:125</td>\n",
       "      <td>closed</td>\n",
       "      <td>zooomr</td>\n",
       "      <td>web</td>\n",
       "      <td>2006-03-01</td>\n",
       "      <td>2006-01-01</td>\n",
       "      <td>photos, sharing, international, zooomr</td>\n",
       "      <td>USA</td>\n",
       "      <td>0</td>\n",
       "      <td>0</td>\n",
       "      <td>2006-02-01</td>\n",
       "      <td>2006-02-01</td>\n",
       "      <td>1</td>\n",
       "      <td>50000.0</td>\n",
       "      <td>NaT</td>\n",
       "      <td>NaT</td>\n",
       "      <td>0</td>\n",
       "      <td>2</td>\n",
       "      <td>-0.161533</td>\n",
       "    </tr>\n",
       "    <tr>\n",
       "      <th>7037</th>\n",
       "      <td>c:140734</td>\n",
       "      <td>closed</td>\n",
       "      <td>bluebox now</td>\n",
       "      <td>games_video</td>\n",
       "      <td>2011-08-08</td>\n",
       "      <td>2011-01-01</td>\n",
       "      <td>bluebox, reward, rewards, casual-games, loyalt...</td>\n",
       "      <td>USA</td>\n",
       "      <td>0</td>\n",
       "      <td>0</td>\n",
       "      <td>2011-11-01</td>\n",
       "      <td>2011-11-01</td>\n",
       "      <td>1</td>\n",
       "      <td>0.0</td>\n",
       "      <td>2011-06-12</td>\n",
       "      <td>2011-06-12</td>\n",
       "      <td>1</td>\n",
       "      <td>2</td>\n",
       "      <td>-0.599589</td>\n",
       "    </tr>\n",
       "    <tr>\n",
       "      <th>10819</th>\n",
       "      <td>c:145783</td>\n",
       "      <td>closed</td>\n",
       "      <td>wiredoo</td>\n",
       "      <td>search</td>\n",
       "      <td>2012-12-01</td>\n",
       "      <td>2012-01-01</td>\n",
       "      <td>NaN</td>\n",
       "      <td>NaN</td>\n",
       "      <td>0</td>\n",
       "      <td>0</td>\n",
       "      <td>NaT</td>\n",
       "      <td>NaT</td>\n",
       "      <td>0</td>\n",
       "      <td>0.0</td>\n",
       "      <td>2011-01-01</td>\n",
       "      <td>2011-10-01</td>\n",
       "      <td>2</td>\n",
       "      <td>1</td>\n",
       "      <td>-0.917180</td>\n",
       "    </tr>\n",
       "    <tr>\n",
       "      <th>15888</th>\n",
       "      <td>c:152681</td>\n",
       "      <td>closed</td>\n",
       "      <td>pick a student</td>\n",
       "      <td>consulting</td>\n",
       "      <td>2011-06-30</td>\n",
       "      <td>2011-06-01</td>\n",
       "      <td>crowdsourcing, crowdsolving, student, business...</td>\n",
       "      <td>NaN</td>\n",
       "      <td>0</td>\n",
       "      <td>0</td>\n",
       "      <td>2011-06-14</td>\n",
       "      <td>2011-06-14</td>\n",
       "      <td>1</td>\n",
       "      <td>40000.0</td>\n",
       "      <td>NaT</td>\n",
       "      <td>NaT</td>\n",
       "      <td>0</td>\n",
       "      <td>0</td>\n",
       "      <td>-0.079398</td>\n",
       "    </tr>\n",
       "    <tr>\n",
       "      <th>18755</th>\n",
       "      <td>c:156467</td>\n",
       "      <td>closed</td>\n",
       "      <td>fifth reserve</td>\n",
       "      <td>ecommerce</td>\n",
       "      <td>2012-04-01</td>\n",
       "      <td>2012-01-01</td>\n",
       "      <td>jewelry, jewellery, ecommerce</td>\n",
       "      <td>NaN</td>\n",
       "      <td>0</td>\n",
       "      <td>0</td>\n",
       "      <td>NaT</td>\n",
       "      <td>NaT</td>\n",
       "      <td>0</td>\n",
       "      <td>0.0</td>\n",
       "      <td>NaT</td>\n",
       "      <td>NaT</td>\n",
       "      <td>0</td>\n",
       "      <td>0</td>\n",
       "      <td>-0.249144</td>\n",
       "    </tr>\n",
       "    <tr>\n",
       "      <th>22585</th>\n",
       "      <td>c:161102</td>\n",
       "      <td>closed</td>\n",
       "      <td>peoples software company</td>\n",
       "      <td>web</td>\n",
       "      <td>2008-05-01</td>\n",
       "      <td>2008-01-01</td>\n",
       "      <td>techstars, techstars-boulder-2008</td>\n",
       "      <td>USA</td>\n",
       "      <td>0</td>\n",
       "      <td>0</td>\n",
       "      <td>2008-05-01</td>\n",
       "      <td>2008-05-01</td>\n",
       "      <td>1</td>\n",
       "      <td>0.0</td>\n",
       "      <td>2008-05-01</td>\n",
       "      <td>2008-05-01</td>\n",
       "      <td>1</td>\n",
       "      <td>2</td>\n",
       "      <td>-0.331280</td>\n",
       "    </tr>\n",
       "    <tr>\n",
       "      <th>27535</th>\n",
       "      <td>c:167318</td>\n",
       "      <td>closed</td>\n",
       "      <td>poosh all</td>\n",
       "      <td>mobile</td>\n",
       "      <td>2012-05-01</td>\n",
       "      <td>2012-01-01</td>\n",
       "      <td>iphone, social-networking, android, mobile</td>\n",
       "      <td>NaN</td>\n",
       "      <td>0</td>\n",
       "      <td>0</td>\n",
       "      <td>NaT</td>\n",
       "      <td>NaT</td>\n",
       "      <td>0</td>\n",
       "      <td>0.0</td>\n",
       "      <td>2012-05-01</td>\n",
       "      <td>2012-05-01</td>\n",
       "      <td>1</td>\n",
       "      <td>0</td>\n",
       "      <td>-0.331280</td>\n",
       "    </tr>\n",
       "    <tr>\n",
       "      <th>29421</th>\n",
       "      <td>c:169662</td>\n",
       "      <td>closed</td>\n",
       "      <td>roundcourt</td>\n",
       "      <td>web</td>\n",
       "      <td>2012-02-01</td>\n",
       "      <td>2012-01-01</td>\n",
       "      <td>social-activities, social-discovery</td>\n",
       "      <td>USA</td>\n",
       "      <td>0</td>\n",
       "      <td>0</td>\n",
       "      <td>NaT</td>\n",
       "      <td>NaT</td>\n",
       "      <td>0</td>\n",
       "      <td>0.0</td>\n",
       "      <td>2012-02-01</td>\n",
       "      <td>2012-02-01</td>\n",
       "      <td>1</td>\n",
       "      <td>1</td>\n",
       "      <td>-0.084873</td>\n",
       "    </tr>\n",
       "    <tr>\n",
       "      <th>37570</th>\n",
       "      <td>c:17856</td>\n",
       "      <td>closed</td>\n",
       "      <td>healthlok</td>\n",
       "      <td>web</td>\n",
       "      <td>2008-10-01</td>\n",
       "      <td>2008-01-01</td>\n",
       "      <td>health-care, web-health, health, healthcare, o...</td>\n",
       "      <td>USA</td>\n",
       "      <td>0</td>\n",
       "      <td>0</td>\n",
       "      <td>2006-01-01</td>\n",
       "      <td>2008-01-01</td>\n",
       "      <td>2</td>\n",
       "      <td>0.0</td>\n",
       "      <td>2008-11-01</td>\n",
       "      <td>2008-11-01</td>\n",
       "      <td>1</td>\n",
       "      <td>2</td>\n",
       "      <td>-0.750171</td>\n",
       "    </tr>\n",
       "    <tr>\n",
       "      <th>43392</th>\n",
       "      <td>c:184713</td>\n",
       "      <td>operating</td>\n",
       "      <td>cal color growers</td>\n",
       "      <td>advertising</td>\n",
       "      <td>2014-03-19</td>\n",
       "      <td>NaT</td>\n",
       "      <td>nursery, plants, bedding-plants, flowers</td>\n",
       "      <td>NaN</td>\n",
       "      <td>0</td>\n",
       "      <td>0</td>\n",
       "      <td>NaT</td>\n",
       "      <td>NaT</td>\n",
       "      <td>0</td>\n",
       "      <td>0.0</td>\n",
       "      <td>NaT</td>\n",
       "      <td>NaT</td>\n",
       "      <td>0</td>\n",
       "      <td>0</td>\n",
       "      <td>-0.208077</td>\n",
       "    </tr>\n",
       "    <tr>\n",
       "      <th>48990</th>\n",
       "      <td>c:19122</td>\n",
       "      <td>closed</td>\n",
       "      <td>healthytweet</td>\n",
       "      <td>web</td>\n",
       "      <td>2009-02-10</td>\n",
       "      <td>2009-01-01</td>\n",
       "      <td>healthcare, medical, twitter, medicine, patien...</td>\n",
       "      <td>NaN</td>\n",
       "      <td>0</td>\n",
       "      <td>0</td>\n",
       "      <td>2009-02-18</td>\n",
       "      <td>2009-02-18</td>\n",
       "      <td>1</td>\n",
       "      <td>500000.0</td>\n",
       "      <td>NaT</td>\n",
       "      <td>NaT</td>\n",
       "      <td>0</td>\n",
       "      <td>0</td>\n",
       "      <td>-0.109514</td>\n",
       "    </tr>\n",
       "    <tr>\n",
       "      <th>50495</th>\n",
       "      <td>c:19275</td>\n",
       "      <td>closed</td>\n",
       "      <td>fliggo</td>\n",
       "      <td>games_video</td>\n",
       "      <td>2012-06-11</td>\n",
       "      <td>2009-09-17</td>\n",
       "      <td>video-sharing-community-fliggo-site-creation-p...</td>\n",
       "      <td>USA</td>\n",
       "      <td>0</td>\n",
       "      <td>0</td>\n",
       "      <td>2009-01-01</td>\n",
       "      <td>2009-01-01</td>\n",
       "      <td>1</td>\n",
       "      <td>0.0</td>\n",
       "      <td>2011-03-01</td>\n",
       "      <td>2011-03-01</td>\n",
       "      <td>1</td>\n",
       "      <td>2</td>\n",
       "      <td>-2.732375</td>\n",
       "    </tr>\n",
       "    <tr>\n",
       "      <th>51085</th>\n",
       "      <td>c:193378</td>\n",
       "      <td>closed</td>\n",
       "      <td>geekmaister</td>\n",
       "      <td>mobile</td>\n",
       "      <td>2013-03-01</td>\n",
       "      <td>2013-01-01</td>\n",
       "      <td>gadgets, news, shop</td>\n",
       "      <td>NaN</td>\n",
       "      <td>0</td>\n",
       "      <td>0</td>\n",
       "      <td>2013-03-01</td>\n",
       "      <td>2013-03-01</td>\n",
       "      <td>1</td>\n",
       "      <td>100000.0</td>\n",
       "      <td>NaT</td>\n",
       "      <td>NaT</td>\n",
       "      <td>0</td>\n",
       "      <td>2</td>\n",
       "      <td>-0.161533</td>\n",
       "    </tr>\n",
       "    <tr>\n",
       "      <th>60358</th>\n",
       "      <td>c:20318</td>\n",
       "      <td>closed</td>\n",
       "      <td>skysheet</td>\n",
       "      <td>software</td>\n",
       "      <td>2009-01-01</td>\n",
       "      <td>2008-12-01</td>\n",
       "      <td>y-combinator, excel, spreadsheet</td>\n",
       "      <td>NaN</td>\n",
       "      <td>0</td>\n",
       "      <td>0</td>\n",
       "      <td>2009-03-01</td>\n",
       "      <td>2009-03-01</td>\n",
       "      <td>1</td>\n",
       "      <td>0.0</td>\n",
       "      <td>2009-03-18</td>\n",
       "      <td>2009-03-18</td>\n",
       "      <td>1</td>\n",
       "      <td>0</td>\n",
       "      <td>-0.084873</td>\n",
       "    </tr>\n",
       "    <tr>\n",
       "      <th>79637</th>\n",
       "      <td>c:22425</td>\n",
       "      <td>closed</td>\n",
       "      <td>tempolib</td>\n",
       "      <td>mobile</td>\n",
       "      <td>2009-03-01</td>\n",
       "      <td>2009-02-26</td>\n",
       "      <td>phone, number, temporary</td>\n",
       "      <td>FRA</td>\n",
       "      <td>0</td>\n",
       "      <td>0</td>\n",
       "      <td>NaT</td>\n",
       "      <td>NaT</td>\n",
       "      <td>1</td>\n",
       "      <td>235800.0</td>\n",
       "      <td>NaT</td>\n",
       "      <td>NaT</td>\n",
       "      <td>0</td>\n",
       "      <td>2</td>\n",
       "      <td>-0.008214</td>\n",
       "    </tr>\n",
       "    <tr>\n",
       "      <th>79889</th>\n",
       "      <td>c:2245</td>\n",
       "      <td>closed</td>\n",
       "      <td>advaliant</td>\n",
       "      <td>advertising</td>\n",
       "      <td>2013-04-16</td>\n",
       "      <td>2009-05-04</td>\n",
       "      <td>internet, advertising, marketing, affiliate-ne...</td>\n",
       "      <td>USA</td>\n",
       "      <td>0</td>\n",
       "      <td>0</td>\n",
       "      <td>2004-04-01</td>\n",
       "      <td>2004-04-01</td>\n",
       "      <td>1</td>\n",
       "      <td>100000.0</td>\n",
       "      <td>2007-04-01</td>\n",
       "      <td>2009-05-30</td>\n",
       "      <td>2</td>\n",
       "      <td>6</td>\n",
       "      <td>-3.950719</td>\n",
       "    </tr>\n",
       "    <tr>\n",
       "      <th>84052</th>\n",
       "      <td>c:228926</td>\n",
       "      <td>closed</td>\n",
       "      <td>biziby online marketplace</td>\n",
       "      <td>ecommerce</td>\n",
       "      <td>2013-06-20</td>\n",
       "      <td>2013-01-01</td>\n",
       "      <td>online-marketplace, small-businesses, startups...</td>\n",
       "      <td>NaN</td>\n",
       "      <td>0</td>\n",
       "      <td>0</td>\n",
       "      <td>NaT</td>\n",
       "      <td>NaT</td>\n",
       "      <td>0</td>\n",
       "      <td>0.0</td>\n",
       "      <td>2012-11-01</td>\n",
       "      <td>2012-11-01</td>\n",
       "      <td>1</td>\n",
       "      <td>0</td>\n",
       "      <td>-0.465435</td>\n",
       "    </tr>\n",
       "    <tr>\n",
       "      <th>88392</th>\n",
       "      <td>c:233412</td>\n",
       "      <td>operating</td>\n",
       "      <td>the oak brewery</td>\n",
       "      <td>other</td>\n",
       "      <td>2014-04-01</td>\n",
       "      <td>NaT</td>\n",
       "      <td>craftbeer</td>\n",
       "      <td>NaN</td>\n",
       "      <td>0</td>\n",
       "      <td>0</td>\n",
       "      <td>NaT</td>\n",
       "      <td>NaT</td>\n",
       "      <td>0</td>\n",
       "      <td>0.0</td>\n",
       "      <td>2004-04-01</td>\n",
       "      <td>2004-04-01</td>\n",
       "      <td>1</td>\n",
       "      <td>1</td>\n",
       "      <td>-0.243669</td>\n",
       "    </tr>\n",
       "    <tr>\n",
       "      <th>90265</th>\n",
       "      <td>c:235247</td>\n",
       "      <td>operating</td>\n",
       "      <td>couponji in</td>\n",
       "      <td>ecommerce</td>\n",
       "      <td>2014-05-31</td>\n",
       "      <td>NaT</td>\n",
       "      <td>couponji, coupon, coupons--discount, coupon-co...</td>\n",
       "      <td>IND</td>\n",
       "      <td>0</td>\n",
       "      <td>0</td>\n",
       "      <td>NaT</td>\n",
       "      <td>NaT</td>\n",
       "      <td>0</td>\n",
       "      <td>0.0</td>\n",
       "      <td>NaT</td>\n",
       "      <td>NaT</td>\n",
       "      <td>0</td>\n",
       "      <td>0</td>\n",
       "      <td>-0.407940</td>\n",
       "    </tr>\n",
       "    <tr>\n",
       "      <th>99795</th>\n",
       "      <td>c:244731</td>\n",
       "      <td>operating</td>\n",
       "      <td>raavel</td>\n",
       "      <td>software</td>\n",
       "      <td>2014-08-01</td>\n",
       "      <td>NaT</td>\n",
       "      <td>project-management, collaboration, task-manage...</td>\n",
       "      <td>NaN</td>\n",
       "      <td>0</td>\n",
       "      <td>0</td>\n",
       "      <td>NaT</td>\n",
       "      <td>NaT</td>\n",
       "      <td>0</td>\n",
       "      <td>0.0</td>\n",
       "      <td>NaT</td>\n",
       "      <td>NaT</td>\n",
       "      <td>0</td>\n",
       "      <td>0</td>\n",
       "      <td>-0.577687</td>\n",
       "    </tr>\n",
       "    <tr>\n",
       "      <th>120312</th>\n",
       "      <td>c:264611</td>\n",
       "      <td>operating</td>\n",
       "      <td>compare home loans</td>\n",
       "      <td>finance</td>\n",
       "      <td>2014-02-07</td>\n",
       "      <td>NaT</td>\n",
       "      <td>home-loan, mortgage, mortgages</td>\n",
       "      <td>AUS</td>\n",
       "      <td>0</td>\n",
       "      <td>0</td>\n",
       "      <td>NaT</td>\n",
       "      <td>NaT</td>\n",
       "      <td>0</td>\n",
       "      <td>0.0</td>\n",
       "      <td>2014-02-04</td>\n",
       "      <td>2014-02-04</td>\n",
       "      <td>1</td>\n",
       "      <td>1</td>\n",
       "      <td>-0.098563</td>\n",
       "    </tr>\n",
       "    <tr>\n",
       "      <th>126948</th>\n",
       "      <td>c:271207</td>\n",
       "      <td>operating</td>\n",
       "      <td>solo 72</td>\n",
       "      <td>other</td>\n",
       "      <td>2014-10-01</td>\n",
       "      <td>NaT</td>\n",
       "      <td>elevator-speech, solving-problems</td>\n",
       "      <td>MEX</td>\n",
       "      <td>0</td>\n",
       "      <td>0</td>\n",
       "      <td>NaT</td>\n",
       "      <td>NaT</td>\n",
       "      <td>0</td>\n",
       "      <td>0.0</td>\n",
       "      <td>2013-10-01</td>\n",
       "      <td>2013-10-01</td>\n",
       "      <td>1</td>\n",
       "      <td>1</td>\n",
       "      <td>-0.744695</td>\n",
       "    </tr>\n",
       "    <tr>\n",
       "      <th>128032</th>\n",
       "      <td>c:27229</td>\n",
       "      <td>closed</td>\n",
       "      <td>officialvirtualdj</td>\n",
       "      <td>music</td>\n",
       "      <td>2009-06-21</td>\n",
       "      <td>2009-01-01</td>\n",
       "      <td>officialvirtualdj, officialvirtualdjmusic, off...</td>\n",
       "      <td>GBR</td>\n",
       "      <td>0</td>\n",
       "      <td>0</td>\n",
       "      <td>2009-07-11</td>\n",
       "      <td>2009-07-11</td>\n",
       "      <td>1</td>\n",
       "      <td>34752500.0</td>\n",
       "      <td>NaT</td>\n",
       "      <td>NaT</td>\n",
       "      <td>0</td>\n",
       "      <td>1</td>\n",
       "      <td>-0.468172</td>\n",
       "    </tr>\n",
       "    <tr>\n",
       "      <th>136344</th>\n",
       "      <td>c:280611</td>\n",
       "      <td>closed</td>\n",
       "      <td>yub</td>\n",
       "      <td>ecommerce</td>\n",
       "      <td>2013-01-01</td>\n",
       "      <td>2005-01-01</td>\n",
       "      <td>NaN</td>\n",
       "      <td>USA</td>\n",
       "      <td>0</td>\n",
       "      <td>0</td>\n",
       "      <td>2013-11-19</td>\n",
       "      <td>2013-11-19</td>\n",
       "      <td>1</td>\n",
       "      <td>12000000.0</td>\n",
       "      <td>NaT</td>\n",
       "      <td>NaT</td>\n",
       "      <td>0</td>\n",
       "      <td>7</td>\n",
       "      <td>-8.000000</td>\n",
       "    </tr>\n",
       "    <tr>\n",
       "      <th>137008</th>\n",
       "      <td>c:281300</td>\n",
       "      <td>operating</td>\n",
       "      <td>dragndrop</td>\n",
       "      <td>other</td>\n",
       "      <td>2014-04-01</td>\n",
       "      <td>NaT</td>\n",
       "      <td>NaN</td>\n",
       "      <td>NaN</td>\n",
       "      <td>0</td>\n",
       "      <td>0</td>\n",
       "      <td>NaT</td>\n",
       "      <td>NaT</td>\n",
       "      <td>0</td>\n",
       "      <td>0.0</td>\n",
       "      <td>2014-04-01</td>\n",
       "      <td>2014-04-01</td>\n",
       "      <td>1</td>\n",
       "      <td>1</td>\n",
       "      <td>-0.243669</td>\n",
       "    </tr>\n",
       "    <tr>\n",
       "      <th>142543</th>\n",
       "      <td>c:29478</td>\n",
       "      <td>closed</td>\n",
       "      <td>smr site</td>\n",
       "      <td>search</td>\n",
       "      <td>2009-03-01</td>\n",
       "      <td>2009-01-01</td>\n",
       "      <td>NaN</td>\n",
       "      <td>USA</td>\n",
       "      <td>0</td>\n",
       "      <td>0</td>\n",
       "      <td>2009-05-01</td>\n",
       "      <td>2009-05-01</td>\n",
       "      <td>1</td>\n",
       "      <td>60000.0</td>\n",
       "      <td>NaT</td>\n",
       "      <td>NaT</td>\n",
       "      <td>0</td>\n",
       "      <td>2</td>\n",
       "      <td>-0.161533</td>\n",
       "    </tr>\n",
       "    <tr>\n",
       "      <th>148803</th>\n",
       "      <td>c:367</td>\n",
       "      <td>closed</td>\n",
       "      <td>conecta 2</td>\n",
       "      <td>consulting</td>\n",
       "      <td>2012-06-06</td>\n",
       "      <td>2012-01-01</td>\n",
       "      <td>animationeditor, animatedshorts, animation, fu...</td>\n",
       "      <td>USA</td>\n",
       "      <td>0</td>\n",
       "      <td>0</td>\n",
       "      <td>2007-06-01</td>\n",
       "      <td>2007-06-01</td>\n",
       "      <td>1</td>\n",
       "      <td>15000.0</td>\n",
       "      <td>NaT</td>\n",
       "      <td>NaT</td>\n",
       "      <td>0</td>\n",
       "      <td>5</td>\n",
       "      <td>-0.429843</td>\n",
       "    </tr>\n",
       "    <tr>\n",
       "      <th>148983</th>\n",
       "      <td>c:36889</td>\n",
       "      <td>closed</td>\n",
       "      <td>epic production technologies</td>\n",
       "      <td>games_video</td>\n",
       "      <td>2008-01-01</td>\n",
       "      <td>1998-11-11</td>\n",
       "      <td>NaN</td>\n",
       "      <td>USA</td>\n",
       "      <td>0</td>\n",
       "      <td>0</td>\n",
       "      <td>2009-12-03</td>\n",
       "      <td>2009-12-03</td>\n",
       "      <td>1</td>\n",
       "      <td>1500000.0</td>\n",
       "      <td>NaT</td>\n",
       "      <td>NaT</td>\n",
       "      <td>0</td>\n",
       "      <td>2</td>\n",
       "      <td>-9.138946</td>\n",
       "    </tr>\n",
       "    <tr>\n",
       "      <th>149377</th>\n",
       "      <td>c:3736</td>\n",
       "      <td>closed</td>\n",
       "      <td>wakozi</td>\n",
       "      <td>web</td>\n",
       "      <td>2008-03-21</td>\n",
       "      <td>2007-10-18</td>\n",
       "      <td>NaN</td>\n",
       "      <td>USA</td>\n",
       "      <td>0</td>\n",
       "      <td>0</td>\n",
       "      <td>2006-01-01</td>\n",
       "      <td>2006-01-01</td>\n",
       "      <td>1</td>\n",
       "      <td>0.0</td>\n",
       "      <td>2008-03-28</td>\n",
       "      <td>2008-03-28</td>\n",
       "      <td>1</td>\n",
       "      <td>1</td>\n",
       "      <td>-0.424367</td>\n",
       "    </tr>\n",
       "    <tr>\n",
       "      <th>150481</th>\n",
       "      <td>c:38501</td>\n",
       "      <td>closed</td>\n",
       "      <td>mycontactcard</td>\n",
       "      <td>messaging</td>\n",
       "      <td>2007-01-01</td>\n",
       "      <td>2004-04-27</td>\n",
       "      <td>NaN</td>\n",
       "      <td>USA</td>\n",
       "      <td>0</td>\n",
       "      <td>0</td>\n",
       "      <td>2009-12-24</td>\n",
       "      <td>2009-12-24</td>\n",
       "      <td>1</td>\n",
       "      <td>60000.0</td>\n",
       "      <td>NaT</td>\n",
       "      <td>NaT</td>\n",
       "      <td>0</td>\n",
       "      <td>2</td>\n",
       "      <td>-2.680356</td>\n",
       "    </tr>\n",
       "    <tr>\n",
       "      <th>151765</th>\n",
       "      <td>c:39859</td>\n",
       "      <td>closed</td>\n",
       "      <td>clickinghouse</td>\n",
       "      <td>other</td>\n",
       "      <td>2009-11-12</td>\n",
       "      <td>2009-06-18</td>\n",
       "      <td>NaN</td>\n",
       "      <td>SGP</td>\n",
       "      <td>0</td>\n",
       "      <td>0</td>\n",
       "      <td>2009-01-01</td>\n",
       "      <td>2009-01-01</td>\n",
       "      <td>1</td>\n",
       "      <td>50000.0</td>\n",
       "      <td>NaT</td>\n",
       "      <td>NaT</td>\n",
       "      <td>0</td>\n",
       "      <td>0</td>\n",
       "      <td>-0.402464</td>\n",
       "    </tr>\n",
       "    <tr>\n",
       "      <th>153477</th>\n",
       "      <td>c:41649</td>\n",
       "      <td>closed</td>\n",
       "      <td>tutorialtab</td>\n",
       "      <td>education</td>\n",
       "      <td>2010-03-02</td>\n",
       "      <td>2010-01-01</td>\n",
       "      <td>tutorial, techstars, techstars-boston-2010</td>\n",
       "      <td>NaN</td>\n",
       "      <td>0</td>\n",
       "      <td>0</td>\n",
       "      <td>2010-03-02</td>\n",
       "      <td>2010-03-02</td>\n",
       "      <td>1</td>\n",
       "      <td>12000.0</td>\n",
       "      <td>2010-03-02</td>\n",
       "      <td>2010-03-02</td>\n",
       "      <td>1</td>\n",
       "      <td>2</td>\n",
       "      <td>-0.164271</td>\n",
       "    </tr>\n",
       "    <tr>\n",
       "      <th>155755</th>\n",
       "      <td>c:44051</td>\n",
       "      <td>closed</td>\n",
       "      <td>dinglepharb</td>\n",
       "      <td>games_video</td>\n",
       "      <td>2009-06-01</td>\n",
       "      <td>2009-01-01</td>\n",
       "      <td>facebook, gaming, games, casual, casual-games,...</td>\n",
       "      <td>HKG</td>\n",
       "      <td>0</td>\n",
       "      <td>0</td>\n",
       "      <td>2009-06-01</td>\n",
       "      <td>2009-06-01</td>\n",
       "      <td>1</td>\n",
       "      <td>400000.0</td>\n",
       "      <td>2009-06-01</td>\n",
       "      <td>2009-06-01</td>\n",
       "      <td>1</td>\n",
       "      <td>5</td>\n",
       "      <td>-0.413415</td>\n",
       "    </tr>\n",
       "    <tr>\n",
       "      <th>157065</th>\n",
       "      <td>c:45396</td>\n",
       "      <td>closed</td>\n",
       "      <td>amitive</td>\n",
       "      <td>software</td>\n",
       "      <td>2010-01-01</td>\n",
       "      <td>2009-02-06</td>\n",
       "      <td>NaN</td>\n",
       "      <td>USA</td>\n",
       "      <td>0</td>\n",
       "      <td>0</td>\n",
       "      <td>2006-08-28</td>\n",
       "      <td>2006-08-28</td>\n",
       "      <td>1</td>\n",
       "      <td>16000000.0</td>\n",
       "      <td>NaT</td>\n",
       "      <td>NaT</td>\n",
       "      <td>0</td>\n",
       "      <td>1</td>\n",
       "      <td>-0.900753</td>\n",
       "    </tr>\n",
       "    <tr>\n",
       "      <th>157475</th>\n",
       "      <td>c:4581</td>\n",
       "      <td>closed</td>\n",
       "      <td>catzler</td>\n",
       "      <td>other</td>\n",
       "      <td>2010-09-14</td>\n",
       "      <td>2010-01-01</td>\n",
       "      <td>NaN</td>\n",
       "      <td>USA</td>\n",
       "      <td>0</td>\n",
       "      <td>0</td>\n",
       "      <td>NaT</td>\n",
       "      <td>NaT</td>\n",
       "      <td>0</td>\n",
       "      <td>0.0</td>\n",
       "      <td>2008-05-27</td>\n",
       "      <td>2011-01-06</td>\n",
       "      <td>2</td>\n",
       "      <td>0</td>\n",
       "      <td>-0.700890</td>\n",
       "    </tr>\n",
       "    <tr>\n",
       "      <th>157619</th>\n",
       "      <td>c:45963</td>\n",
       "      <td>closed</td>\n",
       "      <td>avokia</td>\n",
       "      <td>software</td>\n",
       "      <td>2000-01-01</td>\n",
       "      <td>1997-01-01</td>\n",
       "      <td>NaN</td>\n",
       "      <td>CAN</td>\n",
       "      <td>0</td>\n",
       "      <td>0</td>\n",
       "      <td>2006-01-23</td>\n",
       "      <td>2006-01-23</td>\n",
       "      <td>1</td>\n",
       "      <td>6430000.0</td>\n",
       "      <td>NaT</td>\n",
       "      <td>NaT</td>\n",
       "      <td>0</td>\n",
       "      <td>1</td>\n",
       "      <td>-2.997947</td>\n",
       "    </tr>\n",
       "    <tr>\n",
       "      <th>164692</th>\n",
       "      <td>c:53228</td>\n",
       "      <td>closed</td>\n",
       "      <td>hirehive</td>\n",
       "      <td>NaN</td>\n",
       "      <td>2011-02-21</td>\n",
       "      <td>2010-11-05</td>\n",
       "      <td>NaN</td>\n",
       "      <td>NaN</td>\n",
       "      <td>0</td>\n",
       "      <td>0</td>\n",
       "      <td>NaT</td>\n",
       "      <td>NaT</td>\n",
       "      <td>0</td>\n",
       "      <td>0.0</td>\n",
       "      <td>2010-11-05</td>\n",
       "      <td>2010-11-05</td>\n",
       "      <td>1</td>\n",
       "      <td>0</td>\n",
       "      <td>-0.295688</td>\n",
       "    </tr>\n",
       "    <tr>\n",
       "      <th>170675</th>\n",
       "      <td>c:59210</td>\n",
       "      <td>closed</td>\n",
       "      <td>shoppingperte</td>\n",
       "      <td>ecommerce</td>\n",
       "      <td>2010-09-01</td>\n",
       "      <td>2010-01-01</td>\n",
       "      <td>ebay, store, negozio</td>\n",
       "      <td>NaN</td>\n",
       "      <td>0</td>\n",
       "      <td>0</td>\n",
       "      <td>NaT</td>\n",
       "      <td>NaT</td>\n",
       "      <td>0</td>\n",
       "      <td>0.0</td>\n",
       "      <td>2007-01-01</td>\n",
       "      <td>2007-01-01</td>\n",
       "      <td>1</td>\n",
       "      <td>1</td>\n",
       "      <td>-0.665298</td>\n",
       "    </tr>\n",
       "    <tr>\n",
       "      <th>170819</th>\n",
       "      <td>c:59353</td>\n",
       "      <td>closed</td>\n",
       "      <td>cortex healthcare</td>\n",
       "      <td>enterprise</td>\n",
       "      <td>2009-01-01</td>\n",
       "      <td>2000-08-30</td>\n",
       "      <td>healthcare, knowledge-management, enterprise-s...</td>\n",
       "      <td>USA</td>\n",
       "      <td>0</td>\n",
       "      <td>0</td>\n",
       "      <td>2010-01-01</td>\n",
       "      <td>2010-01-01</td>\n",
       "      <td>1</td>\n",
       "      <td>60000.0</td>\n",
       "      <td>2010-10-18</td>\n",
       "      <td>2010-10-18</td>\n",
       "      <td>1</td>\n",
       "      <td>7</td>\n",
       "      <td>-8.339493</td>\n",
       "    </tr>\n",
       "    <tr>\n",
       "      <th>172144</th>\n",
       "      <td>c:60677</td>\n",
       "      <td>closed</td>\n",
       "      <td>beefirst in</td>\n",
       "      <td>advertising</td>\n",
       "      <td>2010-10-29</td>\n",
       "      <td>2010-01-01</td>\n",
       "      <td>advertising, marketing, social-media, communit...</td>\n",
       "      <td>NaN</td>\n",
       "      <td>0</td>\n",
       "      <td>0</td>\n",
       "      <td>2010-01-01</td>\n",
       "      <td>2010-01-01</td>\n",
       "      <td>1</td>\n",
       "      <td>9523.0</td>\n",
       "      <td>2010-10-29</td>\n",
       "      <td>2010-10-29</td>\n",
       "      <td>1</td>\n",
       "      <td>2</td>\n",
       "      <td>-0.824093</td>\n",
       "    </tr>\n",
       "    <tr>\n",
       "      <th>184870</th>\n",
       "      <td>c:7409</td>\n",
       "      <td>closed</td>\n",
       "      <td>recoil</td>\n",
       "      <td>games_video</td>\n",
       "      <td>2010-08-01</td>\n",
       "      <td>2009-01-04</td>\n",
       "      <td>iphone, android, gps, analytics, advertising</td>\n",
       "      <td>USA</td>\n",
       "      <td>0</td>\n",
       "      <td>0</td>\n",
       "      <td>NaT</td>\n",
       "      <td>NaT</td>\n",
       "      <td>0</td>\n",
       "      <td>0.0</td>\n",
       "      <td>NaT</td>\n",
       "      <td>NaT</td>\n",
       "      <td>0</td>\n",
       "      <td>2</td>\n",
       "      <td>-1.571526</td>\n",
       "    </tr>\n",
       "    <tr>\n",
       "      <th>186274</th>\n",
       "      <td>c:75835</td>\n",
       "      <td>closed</td>\n",
       "      <td>sproutups platform</td>\n",
       "      <td>network_hosting</td>\n",
       "      <td>2011-04-01</td>\n",
       "      <td>2011-01-01</td>\n",
       "      <td>startups, entrepreneurs, social, network, plat...</td>\n",
       "      <td>NaN</td>\n",
       "      <td>0</td>\n",
       "      <td>0</td>\n",
       "      <td>NaT</td>\n",
       "      <td>NaT</td>\n",
       "      <td>0</td>\n",
       "      <td>0.0</td>\n",
       "      <td>2010-10-01</td>\n",
       "      <td>2010-10-01</td>\n",
       "      <td>1</td>\n",
       "      <td>1</td>\n",
       "      <td>-0.246407</td>\n",
       "    </tr>\n",
       "    <tr>\n",
       "      <th>186899</th>\n",
       "      <td>c:7669</td>\n",
       "      <td>closed</td>\n",
       "      <td>pharmanation</td>\n",
       "      <td>web</td>\n",
       "      <td>2008-05-01</td>\n",
       "      <td>2008-01-01</td>\n",
       "      <td>pharmaceutical-industry-community</td>\n",
       "      <td>USA</td>\n",
       "      <td>0</td>\n",
       "      <td>0</td>\n",
       "      <td>2007-12-01</td>\n",
       "      <td>2007-12-01</td>\n",
       "      <td>1</td>\n",
       "      <td>25000000.0</td>\n",
       "      <td>2008-09-30</td>\n",
       "      <td>2008-09-30</td>\n",
       "      <td>1</td>\n",
       "      <td>1</td>\n",
       "      <td>-0.331280</td>\n",
       "    </tr>\n",
       "    <tr>\n",
       "      <th>193324</th>\n",
       "      <td>c:84375</td>\n",
       "      <td>closed</td>\n",
       "      <td>getcrave</td>\n",
       "      <td>software</td>\n",
       "      <td>2011-04-16</td>\n",
       "      <td>2011-01-01</td>\n",
       "      <td>crave, food, drink-foodie, gourmet, gourmand, ...</td>\n",
       "      <td>USA</td>\n",
       "      <td>0</td>\n",
       "      <td>0</td>\n",
       "      <td>NaT</td>\n",
       "      <td>NaT</td>\n",
       "      <td>0</td>\n",
       "      <td>0.0</td>\n",
       "      <td>NaT</td>\n",
       "      <td>NaT</td>\n",
       "      <td>0</td>\n",
       "      <td>0</td>\n",
       "      <td>-0.287474</td>\n",
       "    </tr>\n",
       "    <tr>\n",
       "      <th>194148</th>\n",
       "      <td>c:85394</td>\n",
       "      <td>closed</td>\n",
       "      <td>bizy</td>\n",
       "      <td>ecommerce</td>\n",
       "      <td>2011-03-01</td>\n",
       "      <td>2011-01-01</td>\n",
       "      <td>deals, daily-deals, ecommerce, business-to-bus...</td>\n",
       "      <td>USA</td>\n",
       "      <td>0</td>\n",
       "      <td>0</td>\n",
       "      <td>NaT</td>\n",
       "      <td>NaT</td>\n",
       "      <td>0</td>\n",
       "      <td>0.0</td>\n",
       "      <td>2011-08-17</td>\n",
       "      <td>2011-08-17</td>\n",
       "      <td>1</td>\n",
       "      <td>0</td>\n",
       "      <td>-0.161533</td>\n",
       "    </tr>\n",
       "    <tr>\n",
       "      <th>194241</th>\n",
       "      <td>c:85493</td>\n",
       "      <td>closed</td>\n",
       "      <td>techoz</td>\n",
       "      <td>consulting</td>\n",
       "      <td>2009-09-09</td>\n",
       "      <td>2009-08-18</td>\n",
       "      <td>NaN</td>\n",
       "      <td>NaN</td>\n",
       "      <td>0</td>\n",
       "      <td>0</td>\n",
       "      <td>2009-09-09</td>\n",
       "      <td>2009-09-09</td>\n",
       "      <td>1</td>\n",
       "      <td>50000.0</td>\n",
       "      <td>2004-08-01</td>\n",
       "      <td>2004-08-01</td>\n",
       "      <td>1</td>\n",
       "      <td>1</td>\n",
       "      <td>-0.060233</td>\n",
       "    </tr>\n",
       "    <tr>\n",
       "      <th>195391</th>\n",
       "      <td>c:8957</td>\n",
       "      <td>closed</td>\n",
       "      <td>anthillz</td>\n",
       "      <td>web</td>\n",
       "      <td>2008-03-29</td>\n",
       "      <td>2008-01-01</td>\n",
       "      <td>reviews, reputation, client, feedback, referen...</td>\n",
       "      <td>USA</td>\n",
       "      <td>0</td>\n",
       "      <td>0</td>\n",
       "      <td>2008-09-01</td>\n",
       "      <td>2008-09-01</td>\n",
       "      <td>1</td>\n",
       "      <td>0.0</td>\n",
       "      <td>2008-09-04</td>\n",
       "      <td>2008-09-04</td>\n",
       "      <td>1</td>\n",
       "      <td>0</td>\n",
       "      <td>-0.240931</td>\n",
       "    </tr>\n",
       "  </tbody>\n",
       "</table>\n",
       "</div>"
      ],
      "text/plain": [
       "              id     status               normalized_name    category_code  \\\n",
       "936     c:104846     closed                         peers              web   \n",
       "3624       c:125     closed                        zooomr              web   \n",
       "7037    c:140734     closed                   bluebox now      games_video   \n",
       "10819   c:145783     closed                       wiredoo           search   \n",
       "15888   c:152681     closed                pick a student       consulting   \n",
       "18755   c:156467     closed                 fifth reserve        ecommerce   \n",
       "22585   c:161102     closed      peoples software company              web   \n",
       "27535   c:167318     closed                     poosh all           mobile   \n",
       "29421   c:169662     closed                    roundcourt              web   \n",
       "37570    c:17856     closed                     healthlok              web   \n",
       "43392   c:184713  operating             cal color growers      advertising   \n",
       "48990    c:19122     closed                  healthytweet              web   \n",
       "50495    c:19275     closed                        fliggo      games_video   \n",
       "51085   c:193378     closed                   geekmaister           mobile   \n",
       "60358    c:20318     closed                      skysheet         software   \n",
       "79637    c:22425     closed                      tempolib           mobile   \n",
       "79889     c:2245     closed                     advaliant      advertising   \n",
       "84052   c:228926     closed     biziby online marketplace        ecommerce   \n",
       "88392   c:233412  operating               the oak brewery            other   \n",
       "90265   c:235247  operating                   couponji in        ecommerce   \n",
       "99795   c:244731  operating                        raavel         software   \n",
       "120312  c:264611  operating            compare home loans          finance   \n",
       "126948  c:271207  operating                       solo 72            other   \n",
       "128032   c:27229     closed             officialvirtualdj            music   \n",
       "136344  c:280611     closed                           yub        ecommerce   \n",
       "137008  c:281300  operating                     dragndrop            other   \n",
       "142543   c:29478     closed                      smr site           search   \n",
       "148803     c:367     closed                     conecta 2       consulting   \n",
       "148983   c:36889     closed  epic production technologies      games_video   \n",
       "149377    c:3736     closed                        wakozi              web   \n",
       "150481   c:38501     closed                 mycontactcard        messaging   \n",
       "151765   c:39859     closed                 clickinghouse            other   \n",
       "153477   c:41649     closed                   tutorialtab        education   \n",
       "155755   c:44051     closed                   dinglepharb      games_video   \n",
       "157065   c:45396     closed                       amitive         software   \n",
       "157475    c:4581     closed                       catzler            other   \n",
       "157619   c:45963     closed                        avokia         software   \n",
       "164692   c:53228     closed                      hirehive              NaN   \n",
       "170675   c:59210     closed                 shoppingperte        ecommerce   \n",
       "170819   c:59353     closed             cortex healthcare       enterprise   \n",
       "172144   c:60677     closed                   beefirst in      advertising   \n",
       "184870    c:7409     closed                        recoil      games_video   \n",
       "186274   c:75835     closed            sproutups platform  network_hosting   \n",
       "186899    c:7669     closed                  pharmanation              web   \n",
       "193324   c:84375     closed                      getcrave         software   \n",
       "194148   c:85394     closed                          bizy        ecommerce   \n",
       "194241   c:85493     closed                        techoz       consulting   \n",
       "195391    c:8957     closed                      anthillz              web   \n",
       "\n",
       "       founded_at  closed_at  \\\n",
       "936    2011-09-01 2011-01-01   \n",
       "3624   2006-03-01 2006-01-01   \n",
       "7037   2011-08-08 2011-01-01   \n",
       "10819  2012-12-01 2012-01-01   \n",
       "15888  2011-06-30 2011-06-01   \n",
       "18755  2012-04-01 2012-01-01   \n",
       "22585  2008-05-01 2008-01-01   \n",
       "27535  2012-05-01 2012-01-01   \n",
       "29421  2012-02-01 2012-01-01   \n",
       "37570  2008-10-01 2008-01-01   \n",
       "43392  2014-03-19        NaT   \n",
       "48990  2009-02-10 2009-01-01   \n",
       "50495  2012-06-11 2009-09-17   \n",
       "51085  2013-03-01 2013-01-01   \n",
       "60358  2009-01-01 2008-12-01   \n",
       "79637  2009-03-01 2009-02-26   \n",
       "79889  2013-04-16 2009-05-04   \n",
       "84052  2013-06-20 2013-01-01   \n",
       "88392  2014-04-01        NaT   \n",
       "90265  2014-05-31        NaT   \n",
       "99795  2014-08-01        NaT   \n",
       "120312 2014-02-07        NaT   \n",
       "126948 2014-10-01        NaT   \n",
       "128032 2009-06-21 2009-01-01   \n",
       "136344 2013-01-01 2005-01-01   \n",
       "137008 2014-04-01        NaT   \n",
       "142543 2009-03-01 2009-01-01   \n",
       "148803 2012-06-06 2012-01-01   \n",
       "148983 2008-01-01 1998-11-11   \n",
       "149377 2008-03-21 2007-10-18   \n",
       "150481 2007-01-01 2004-04-27   \n",
       "151765 2009-11-12 2009-06-18   \n",
       "153477 2010-03-02 2010-01-01   \n",
       "155755 2009-06-01 2009-01-01   \n",
       "157065 2010-01-01 2009-02-06   \n",
       "157475 2010-09-14 2010-01-01   \n",
       "157619 2000-01-01 1997-01-01   \n",
       "164692 2011-02-21 2010-11-05   \n",
       "170675 2010-09-01 2010-01-01   \n",
       "170819 2009-01-01 2000-08-30   \n",
       "172144 2010-10-29 2010-01-01   \n",
       "184870 2010-08-01 2009-01-04   \n",
       "186274 2011-04-01 2011-01-01   \n",
       "186899 2008-05-01 2008-01-01   \n",
       "193324 2011-04-16 2011-01-01   \n",
       "194148 2011-03-01 2011-01-01   \n",
       "194241 2009-09-09 2009-08-18   \n",
       "195391 2008-03-29 2008-01-01   \n",
       "\n",
       "                                                 tag_list country_code  \\\n",
       "936     social, social-networking, mobile, apps, conta...          NaN   \n",
       "3624               photos, sharing, international, zooomr          USA   \n",
       "7037    bluebox, reward, rewards, casual-games, loyalt...          USA   \n",
       "10819                                                 NaN          NaN   \n",
       "15888   crowdsourcing, crowdsolving, student, business...          NaN   \n",
       "18755                       jewelry, jewellery, ecommerce          NaN   \n",
       "22585                   techstars, techstars-boulder-2008          USA   \n",
       "27535          iphone, social-networking, android, mobile          NaN   \n",
       "29421                 social-activities, social-discovery          USA   \n",
       "37570   health-care, web-health, health, healthcare, o...          USA   \n",
       "43392            nursery, plants, bedding-plants, flowers          NaN   \n",
       "48990   healthcare, medical, twitter, medicine, patien...          NaN   \n",
       "50495   video-sharing-community-fliggo-site-creation-p...          USA   \n",
       "51085                                 gadgets, news, shop          NaN   \n",
       "60358                    y-combinator, excel, spreadsheet          NaN   \n",
       "79637                            phone, number, temporary          FRA   \n",
       "79889   internet, advertising, marketing, affiliate-ne...          USA   \n",
       "84052   online-marketplace, small-businesses, startups...          NaN   \n",
       "88392                                           craftbeer          NaN   \n",
       "90265   couponji, coupon, coupons--discount, coupon-co...          IND   \n",
       "99795   project-management, collaboration, task-manage...          NaN   \n",
       "120312                     home-loan, mortgage, mortgages          AUS   \n",
       "126948                  elevator-speech, solving-problems          MEX   \n",
       "128032  officialvirtualdj, officialvirtualdjmusic, off...          GBR   \n",
       "136344                                                NaN          USA   \n",
       "137008                                                NaN          NaN   \n",
       "142543                                                NaN          USA   \n",
       "148803  animationeditor, animatedshorts, animation, fu...          USA   \n",
       "148983                                                NaN          USA   \n",
       "149377                                                NaN          USA   \n",
       "150481                                                NaN          USA   \n",
       "151765                                                NaN          SGP   \n",
       "153477         tutorial, techstars, techstars-boston-2010          NaN   \n",
       "155755  facebook, gaming, games, casual, casual-games,...          HKG   \n",
       "157065                                                NaN          USA   \n",
       "157475                                                NaN          USA   \n",
       "157619                                                NaN          CAN   \n",
       "164692                                                NaN          NaN   \n",
       "170675                               ebay, store, negozio          NaN   \n",
       "170819  healthcare, knowledge-management, enterprise-s...          USA   \n",
       "172144  advertising, marketing, social-media, communit...          NaN   \n",
       "184870       iphone, android, gps, analytics, advertising          USA   \n",
       "186274  startups, entrepreneurs, social, network, plat...          NaN   \n",
       "186899                  pharmaceutical-industry-community          USA   \n",
       "193324  crave, food, drink-foodie, gourmet, gourmand, ...          USA   \n",
       "194148  deals, daily-deals, ecommerce, business-to-bus...          USA   \n",
       "194241                                                NaN          NaN   \n",
       "195391  reviews, reputation, client, feedback, referen...          USA   \n",
       "\n",
       "        investment_rounds  invested_companies first_funding_at  \\\n",
       "936                     0                   0              NaT   \n",
       "3624                    0                   0       2006-02-01   \n",
       "7037                    0                   0       2011-11-01   \n",
       "10819                   0                   0              NaT   \n",
       "15888                   0                   0       2011-06-14   \n",
       "18755                   0                   0              NaT   \n",
       "22585                   0                   0       2008-05-01   \n",
       "27535                   0                   0              NaT   \n",
       "29421                   0                   0              NaT   \n",
       "37570                   0                   0       2006-01-01   \n",
       "43392                   0                   0              NaT   \n",
       "48990                   0                   0       2009-02-18   \n",
       "50495                   0                   0       2009-01-01   \n",
       "51085                   0                   0       2013-03-01   \n",
       "60358                   0                   0       2009-03-01   \n",
       "79637                   0                   0              NaT   \n",
       "79889                   0                   0       2004-04-01   \n",
       "84052                   0                   0              NaT   \n",
       "88392                   0                   0              NaT   \n",
       "90265                   0                   0              NaT   \n",
       "99795                   0                   0              NaT   \n",
       "120312                  0                   0              NaT   \n",
       "126948                  0                   0              NaT   \n",
       "128032                  0                   0       2009-07-11   \n",
       "136344                  0                   0       2013-11-19   \n",
       "137008                  0                   0              NaT   \n",
       "142543                  0                   0       2009-05-01   \n",
       "148803                  0                   0       2007-06-01   \n",
       "148983                  0                   0       2009-12-03   \n",
       "149377                  0                   0       2006-01-01   \n",
       "150481                  0                   0       2009-12-24   \n",
       "151765                  0                   0       2009-01-01   \n",
       "153477                  0                   0       2010-03-02   \n",
       "155755                  0                   0       2009-06-01   \n",
       "157065                  0                   0       2006-08-28   \n",
       "157475                  0                   0              NaT   \n",
       "157619                  0                   0       2006-01-23   \n",
       "164692                  0                   0              NaT   \n",
       "170675                  0                   0              NaT   \n",
       "170819                  0                   0       2010-01-01   \n",
       "172144                  0                   0       2010-01-01   \n",
       "184870                  0                   0              NaT   \n",
       "186274                  0                   0              NaT   \n",
       "186899                  0                   0       2007-12-01   \n",
       "193324                  0                   0              NaT   \n",
       "194148                  0                   0              NaT   \n",
       "194241                  0                   0       2009-09-09   \n",
       "195391                  0                   0       2008-09-01   \n",
       "\n",
       "       last_funding_at  funding_rounds  funding_total_usd first_milestone_at  \\\n",
       "936                NaT               0                0.0                NaT   \n",
       "3624        2006-02-01               1            50000.0                NaT   \n",
       "7037        2011-11-01               1                0.0         2011-06-12   \n",
       "10819              NaT               0                0.0         2011-01-01   \n",
       "15888       2011-06-14               1            40000.0                NaT   \n",
       "18755              NaT               0                0.0                NaT   \n",
       "22585       2008-05-01               1                0.0         2008-05-01   \n",
       "27535              NaT               0                0.0         2012-05-01   \n",
       "29421              NaT               0                0.0         2012-02-01   \n",
       "37570       2008-01-01               2                0.0         2008-11-01   \n",
       "43392              NaT               0                0.0                NaT   \n",
       "48990       2009-02-18               1           500000.0                NaT   \n",
       "50495       2009-01-01               1                0.0         2011-03-01   \n",
       "51085       2013-03-01               1           100000.0                NaT   \n",
       "60358       2009-03-01               1                0.0         2009-03-18   \n",
       "79637              NaT               1           235800.0                NaT   \n",
       "79889       2004-04-01               1           100000.0         2007-04-01   \n",
       "84052              NaT               0                0.0         2012-11-01   \n",
       "88392              NaT               0                0.0         2004-04-01   \n",
       "90265              NaT               0                0.0                NaT   \n",
       "99795              NaT               0                0.0                NaT   \n",
       "120312             NaT               0                0.0         2014-02-04   \n",
       "126948             NaT               0                0.0         2013-10-01   \n",
       "128032      2009-07-11               1         34752500.0                NaT   \n",
       "136344      2013-11-19               1         12000000.0                NaT   \n",
       "137008             NaT               0                0.0         2014-04-01   \n",
       "142543      2009-05-01               1            60000.0                NaT   \n",
       "148803      2007-06-01               1            15000.0                NaT   \n",
       "148983      2009-12-03               1          1500000.0                NaT   \n",
       "149377      2006-01-01               1                0.0         2008-03-28   \n",
       "150481      2009-12-24               1            60000.0                NaT   \n",
       "151765      2009-01-01               1            50000.0                NaT   \n",
       "153477      2010-03-02               1            12000.0         2010-03-02   \n",
       "155755      2009-06-01               1           400000.0         2009-06-01   \n",
       "157065      2006-08-28               1         16000000.0                NaT   \n",
       "157475             NaT               0                0.0         2008-05-27   \n",
       "157619      2006-01-23               1          6430000.0                NaT   \n",
       "164692             NaT               0                0.0         2010-11-05   \n",
       "170675             NaT               0                0.0         2007-01-01   \n",
       "170819      2010-01-01               1            60000.0         2010-10-18   \n",
       "172144      2010-01-01               1             9523.0         2010-10-29   \n",
       "184870             NaT               0                0.0                NaT   \n",
       "186274             NaT               0                0.0         2010-10-01   \n",
       "186899      2007-12-01               1         25000000.0         2008-09-30   \n",
       "193324             NaT               0                0.0                NaT   \n",
       "194148             NaT               0                0.0         2011-08-17   \n",
       "194241      2009-09-09               1            50000.0         2004-08-01   \n",
       "195391      2008-09-01               1                0.0         2008-09-04   \n",
       "\n",
       "       last_milestone_at  milestones  relationships       age  \n",
       "936                  NaT           0              0 -0.665298  \n",
       "3624                 NaT           0              2 -0.161533  \n",
       "7037          2011-06-12           1              2 -0.599589  \n",
       "10819         2011-10-01           2              1 -0.917180  \n",
       "15888                NaT           0              0 -0.079398  \n",
       "18755                NaT           0              0 -0.249144  \n",
       "22585         2008-05-01           1              2 -0.331280  \n",
       "27535         2012-05-01           1              0 -0.331280  \n",
       "29421         2012-02-01           1              1 -0.084873  \n",
       "37570         2008-11-01           1              2 -0.750171  \n",
       "43392                NaT           0              0 -0.208077  \n",
       "48990                NaT           0              0 -0.109514  \n",
       "50495         2011-03-01           1              2 -2.732375  \n",
       "51085                NaT           0              2 -0.161533  \n",
       "60358         2009-03-18           1              0 -0.084873  \n",
       "79637                NaT           0              2 -0.008214  \n",
       "79889         2009-05-30           2              6 -3.950719  \n",
       "84052         2012-11-01           1              0 -0.465435  \n",
       "88392         2004-04-01           1              1 -0.243669  \n",
       "90265                NaT           0              0 -0.407940  \n",
       "99795                NaT           0              0 -0.577687  \n",
       "120312        2014-02-04           1              1 -0.098563  \n",
       "126948        2013-10-01           1              1 -0.744695  \n",
       "128032               NaT           0              1 -0.468172  \n",
       "136344               NaT           0              7 -8.000000  \n",
       "137008        2014-04-01           1              1 -0.243669  \n",
       "142543               NaT           0              2 -0.161533  \n",
       "148803               NaT           0              5 -0.429843  \n",
       "148983               NaT           0              2 -9.138946  \n",
       "149377        2008-03-28           1              1 -0.424367  \n",
       "150481               NaT           0              2 -2.680356  \n",
       "151765               NaT           0              0 -0.402464  \n",
       "153477        2010-03-02           1              2 -0.164271  \n",
       "155755        2009-06-01           1              5 -0.413415  \n",
       "157065               NaT           0              1 -0.900753  \n",
       "157475        2011-01-06           2              0 -0.700890  \n",
       "157619               NaT           0              1 -2.997947  \n",
       "164692        2010-11-05           1              0 -0.295688  \n",
       "170675        2007-01-01           1              1 -0.665298  \n",
       "170819        2010-10-18           1              7 -8.339493  \n",
       "172144        2010-10-29           1              2 -0.824093  \n",
       "184870               NaT           0              2 -1.571526  \n",
       "186274        2010-10-01           1              1 -0.246407  \n",
       "186899        2008-09-30           1              1 -0.331280  \n",
       "193324               NaT           0              0 -0.287474  \n",
       "194148        2011-08-17           1              0 -0.161533  \n",
       "194241        2004-08-01           1              1 -0.060233  \n",
       "195391        2008-09-04           1              0 -0.240931  "
      ]
     },
     "execution_count": 22,
     "metadata": {},
     "output_type": "execute_result"
    }
   ],
   "source": [
    "df6[df6.age < 0]"
   ]
  },
  {
   "cell_type": "markdown",
   "metadata": {
    "id": "pq58LRqV5_Xy",
    "papermill": {
     "duration": 0.07472,
     "end_time": "2021-05-09T10:36:47.248346",
     "exception": false,
     "start_time": "2021-05-09T10:36:47.173626",
     "status": "completed"
    },
    "tags": []
   },
   "source": [
    "2. **Category**"
   ]
  },
  {
   "cell_type": "code",
   "execution_count": 23,
   "metadata": {
    "execution": {
     "iopub.execute_input": "2021-05-09T10:36:47.395795Z",
     "iopub.status.busy": "2021-05-09T10:36:47.394729Z",
     "iopub.status.idle": "2021-05-09T10:36:47.447959Z",
     "shell.execute_reply": "2021-05-09T10:36:47.447315Z"
    },
    "id": "jnhxeBXb5_Xy",
    "outputId": "0da75d75-b0ce-43a3-f511-1162aa2d805d",
    "papermill": {
     "duration": 0.127597,
     "end_time": "2021-05-09T10:36:47.448098",
     "exception": false,
     "start_time": "2021-05-09T10:36:47.320501",
     "status": "completed"
    },
    "tags": []
   },
   "outputs": [
    {
     "data": {
      "text/plain": [
       "(array(['web', 'games_video', 'network_hosting', 'advertising',\n",
       "        'cleantech', nan, 'enterprise', 'other', 'consulting', 'mobile',\n",
       "        'health', 'software', 'analytics', 'finance', 'education',\n",
       "        'medical', 'manufacturing', 'biotech', 'ecommerce',\n",
       "        'public_relations', 'hardware', 'search', 'news', 'government',\n",
       "        'security', 'photo_video', 'travel', 'semiconductor', 'social',\n",
       "        'legal', 'transportation', 'hospitality', 'sports', 'nonprofit',\n",
       "        'fashion', 'messaging', 'music', 'automotive', 'design',\n",
       "        'real_estate', 'local', 'nanotech', 'pets'], dtype=object), 43)"
      ]
     },
     "execution_count": 23,
     "metadata": {},
     "output_type": "execute_result"
    }
   ],
   "source": [
    "df6.category_code.unique(), len(df6.category_code.unique())"
   ]
  },
  {
   "cell_type": "code",
   "execution_count": 24,
   "metadata": {
    "execution": {
     "iopub.execute_input": "2021-05-09T10:36:47.597067Z",
     "iopub.status.busy": "2021-05-09T10:36:47.596414Z",
     "iopub.status.idle": "2021-05-09T10:36:47.601887Z",
     "shell.execute_reply": "2021-05-09T10:36:47.602414Z"
    },
    "id": "CZa2bc2w5_Xz",
    "papermill": {
     "duration": 0.082637,
     "end_time": "2021-05-09T10:36:47.602591",
     "exception": false,
     "start_time": "2021-05-09T10:36:47.519954",
     "status": "completed"
    },
    "tags": []
   },
   "outputs": [],
   "source": [
    "# Creating a new feature to generalize the category code\n",
    "\n",
    "leisure = ['games_video', 'photo_video', 'social', 'hospitality', 'sports', 'fashion', 'messaging', 'music']\n",
    "bizsupport = ['network_hosting', 'advertising', 'enterprise', 'consulting', 'analytics', 'public_relations', 'security', 'legal']\n",
    "building = ['cleantech', 'manufacturing', 'semiconductor', 'automotive', 'real_eastate', 'nanotech']\n",
    "petcare = ['pets']\n",
    "travel = ['travel', 'transportation']\n",
    "health = ['health', 'medical', 'biotech']\n",
    "other = ['web', 'other', 'mobile', 'software', 'finance', 'education', 'ecommerce', 'search', 'hardware', 'news', 'government', 'nonprofit', 'local',]"
   ]
  },
  {
   "cell_type": "code",
   "execution_count": 25,
   "metadata": {
    "execution": {
     "iopub.execute_input": "2021-05-09T10:36:47.749853Z",
     "iopub.status.busy": "2021-05-09T10:36:47.749171Z",
     "iopub.status.idle": "2021-05-09T10:36:51.196140Z",
     "shell.execute_reply": "2021-05-09T10:36:51.196657Z"
    },
    "id": "XljSflI85_Xz",
    "papermill": {
     "duration": 3.52206,
     "end_time": "2021-05-09T10:36:51.196845",
     "exception": false,
     "start_time": "2021-05-09T10:36:47.674785",
     "status": "completed"
    },
    "tags": []
   },
   "outputs": [],
   "source": [
    "new_catg = []\n",
    "\n",
    "for i in range(df6.category_code.shape[0]):\n",
    "    x = df6.category_code.iloc[i]\n",
    "    if x in leisure:\n",
    "        new_catg.append('LE')\n",
    "    elif x in bizsupport:\n",
    "        new_catg.append('BZ')\n",
    "    elif x in building:\n",
    "        new_catg.append('BU')\n",
    "    elif x in petcare:\n",
    "        new_catg.append('PC')\n",
    "    elif x in travel:\n",
    "        new_catg.append('TR')\n",
    "    elif x in health:\n",
    "        new_catg.append('HE')\n",
    "    else:\n",
    "        new_catg.append('OT')\n"
   ]
  },
  {
   "cell_type": "code",
   "execution_count": 26,
   "metadata": {
    "execution": {
     "iopub.execute_input": "2021-05-09T10:36:51.344776Z",
     "iopub.status.busy": "2021-05-09T10:36:51.344157Z",
     "iopub.status.idle": "2021-05-09T10:36:51.427641Z",
     "shell.execute_reply": "2021-05-09T10:36:51.427056Z"
    },
    "id": "_iMJaRjv5_X4",
    "papermill": {
     "duration": 0.15809,
     "end_time": "2021-05-09T10:36:51.427791",
     "exception": false,
     "start_time": "2021-05-09T10:36:51.269701",
     "status": "completed"
    },
    "tags": []
   },
   "outputs": [],
   "source": [
    "df6.loc[:,\"category\"] = new_catg"
   ]
  },
  {
   "cell_type": "markdown",
   "metadata": {
    "id": "o15AvGv15_X5",
    "papermill": {
     "duration": 0.072846,
     "end_time": "2021-05-09T10:36:51.574117",
     "exception": false,
     "start_time": "2021-05-09T10:36:51.501271",
     "status": "completed"
    },
    "tags": []
   },
   "source": [
    "3. **Continent**"
   ]
  },
  {
   "cell_type": "code",
   "execution_count": 27,
   "metadata": {
    "execution": {
     "iopub.execute_input": "2021-05-09T10:36:51.740352Z",
     "iopub.status.busy": "2021-05-09T10:36:51.739642Z",
     "iopub.status.idle": "2021-05-09T10:36:51.904482Z",
     "shell.execute_reply": "2021-05-09T10:36:51.904955Z"
    },
    "id": "jtlKkflm5_X5",
    "outputId": "cc0a309a-c44b-4c80-e6cf-3ce7ef0fd67d",
    "papermill": {
     "duration": 0.257889,
     "end_time": "2021-05-09T10:36:51.905134",
     "exception": false,
     "start_time": "2021-05-09T10:36:51.647245",
     "status": "completed"
    },
    "tags": []
   },
   "outputs": [
    {
     "data": {
      "text/plain": [
       "(array(['AFG', 'AGO', 'AIA', 'ALB', 'AND', 'ANT', 'ARA', 'ARE', 'ARG',\n",
       "        'ARM', 'ATG', 'AUS', 'AUT', 'AZE', 'BDI', 'BEL', 'BEN', 'BGD',\n",
       "        'BGR', 'BHR', 'BHS', 'BIH', 'BLR', 'BLZ', 'BMU', 'BOL', 'BRA',\n",
       "        'BRB', 'BRN', 'BWA', 'CAN', 'CHE', 'CHL', 'CHN', 'CIV', 'CMR',\n",
       "        'COL', 'CRI', 'CSS', 'CUB', 'CYM', 'CYP', 'CZE', 'DEU', 'DMA',\n",
       "        'DNK', 'DOM', 'DZA', 'ECU', 'EGY', 'ESP', 'EST', 'ETH', 'FIN',\n",
       "        'FRA', 'FST', 'GBR', 'GEO', 'GHA', 'GIB', 'GIN', 'GLP', 'GRC',\n",
       "        'GRD', 'GTM', 'HKG', 'HMI', 'HND', 'HRV', 'HTI', 'HUN', 'IDN',\n",
       "        'IND', 'IOT', 'IRL', 'IRN', 'IRQ', 'ISL', 'ISR', 'ITA', 'JAM',\n",
       "        'JOR', 'JPN', 'KAZ', 'KEN', 'KGZ', 'KHM', 'KOR', 'KWT', 'LAO',\n",
       "        'LBN', 'LIE', 'LKA', 'LSO', 'LTU', 'LUX', 'LVA', 'MAC', 'MAR',\n",
       "        'MCO', 'MDA', 'MDG', 'MDV', 'MEX', 'MKD', 'MLT', 'MMR', 'MTQ',\n",
       "        'MUS', 'MYS', 'NAM', 'NCL', 'NER', 'NFK', 'NGA', 'NIC', 'NLD',\n",
       "        'NOR', 'NPL', 'NRU', 'NZL', 'OMN', 'PAK', 'PAN', 'PCN', 'PER',\n",
       "        'PHL', 'POL', 'PRI', 'PRK', 'PRT', 'PRY', 'PST', 'QAT', 'REU',\n",
       "        'ROM', 'RUS', 'RWA', 'SAU', 'SDN', 'SEN', 'SGP', 'SLE', 'SLV',\n",
       "        'SMR', 'SOM', 'SUR', 'SVK', 'SVN', 'SWE', 'SWZ', 'SYC', 'SYR',\n",
       "        'THA', 'TJK', 'TTO', 'TUN', 'TUR', 'TWN', 'TZA', 'UGA', 'UKR',\n",
       "        'UMI', 'URY', 'USA', 'UZB', 'VCT', 'VEN', 'VGB', 'VIR', 'VNM',\n",
       "        'YEM', 'ZAF', 'ZMB', 'ZWE', nan], dtype=object), 176)"
      ]
     },
     "execution_count": 27,
     "metadata": {},
     "output_type": "execute_result"
    }
   ],
   "source": [
    "# Looking into the number and unique values in the country_code feature\n",
    "df6.country_code.sort_values().unique(), len(df6.country_code.unique())"
   ]
  },
  {
   "cell_type": "code",
   "execution_count": 28,
   "metadata": {
    "execution": {
     "iopub.execute_input": "2021-05-09T10:36:52.062110Z",
     "iopub.status.busy": "2021-05-09T10:36:52.061447Z",
     "iopub.status.idle": "2021-05-09T10:36:52.063399Z",
     "shell.execute_reply": "2021-05-09T10:36:52.063871Z"
    },
    "id": "6eY7McJA5_X5",
    "papermill": {
     "duration": 0.086416,
     "end_time": "2021-05-09T10:36:52.064034",
     "exception": false,
     "start_time": "2021-05-09T10:36:51.977618",
     "status": "completed"
    },
    "tags": []
   },
   "outputs": [],
   "source": [
    "# Creating a new feature to generalize the country_code\n",
    "\n",
    "Africa = ['AGO', 'BDI', 'BEN', 'BWA', 'CIV', 'CMR', 'DZA', 'EGY', 'ETH', 'GHA', 'GIN', 'KEN', 'LSO', 'MAR', 'MDG', 'MUS', 'NAM', 'NER','NGA', 'REU','RWA', 'SDN','SEN', 'SLE', 'SOM','SWZ', 'SYC', 'TUN', 'TZA', 'UGA', 'ZAF', 'ZMB', 'ZWE']\n",
    "Asia = ['AFG', 'ARE', 'BGD', 'BHR', 'BRN', 'CHN', 'HKG', 'IDN', 'IND', 'IOT', 'IRN', 'IRQ', 'ISR','JOR', 'JPN', 'KAZ', 'KGZ', 'KHM', 'KOR', 'KWT','LAO', 'LBN', 'LKA', 'MAC', 'MDV', 'MMR', 'MYS', 'NPL', 'OMN', 'PAK', 'PCN','PHL','PRK','PST', 'QAT', 'SAU', 'SGP','SYR', 'THA', 'TJK', 'TWN', 'UZB', 'VNM', 'YEM']\n",
    "Europe = ['AIA', 'ALB', 'AND', 'ARM', 'AUT', 'AZE', 'BEL', 'BGR','BIH', 'BLR', 'CHE', 'CYP', 'CZE', 'DEU', 'DNK','ESP', 'EST', 'FIN', 'FRA', 'GBR', 'GEO', 'GIB', 'GLB', 'GRC', 'HRV', 'HUN', 'IRL', 'ISL', 'ITA', 'LIE', 'LTU','LUX', 'LVA', 'MCO', 'MDA', 'MKD', 'MLT', 'NLD', 'NOR', 'POL', 'PRT', 'ROM', 'RUS', 'SMR', 'SVK', 'SVN','SWE', 'TUR', 'UKR']\n",
    "North_America = ['ATG', 'BHS','BLZ', 'BMU', 'BRB', 'CAN', 'CRI','CUB','CYM', 'DMA', 'GRD', 'GTM', 'HND', 'HTI', 'JAM', 'MEX', 'MTQ', 'PAN', 'PRI', 'SLV', 'UMI','USA', 'VGB', 'VIR']\n",
    "South_America = ['ARG', 'BOL', 'BRA', 'CHL', 'COL', 'DOM', 'ECU', 'NIC', 'PER', 'PRY', 'SUR', 'TTO', 'URY','VEN', 'VCT']\n",
    "Other = ['ANT', 'ARA', 'AUS', 'CSS', 'FST', 'HMI','NCL', 'NFK','NRU', 'NZL']\n"
   ]
  },
  {
   "cell_type": "code",
   "execution_count": 29,
   "metadata": {
    "execution": {
     "iopub.execute_input": "2021-05-09T10:36:52.213202Z",
     "iopub.status.busy": "2021-05-09T10:36:52.212429Z",
     "iopub.status.idle": "2021-05-09T10:36:56.468200Z",
     "shell.execute_reply": "2021-05-09T10:36:56.468756Z"
    },
    "id": "oTyvcb-H5_X6",
    "papermill": {
     "duration": 4.331993,
     "end_time": "2021-05-09T10:36:56.468958",
     "exception": false,
     "start_time": "2021-05-09T10:36:52.136965",
     "status": "completed"
    },
    "tags": []
   },
   "outputs": [],
   "source": [
    "continent = []\n",
    "\n",
    "for i in range(df6.country_code.shape[0]):\n",
    "    x = df6.country_code.iloc[i]\n",
    "    if x in Africa:\n",
    "        continent.append('AF')\n",
    "    elif x in Asia:\n",
    "        continent.append('AS')\n",
    "    elif x in Europe:\n",
    "        continent.append('EU')\n",
    "    elif x in North_America:\n",
    "        continent.append('NA')\n",
    "    elif x in South_America:\n",
    "        continent.append('SA')\n",
    "    else:\n",
    "        continent.append('UT')\n"
   ]
  },
  {
   "cell_type": "code",
   "execution_count": 30,
   "metadata": {
    "execution": {
     "iopub.execute_input": "2021-05-09T10:36:56.619794Z",
     "iopub.status.busy": "2021-05-09T10:36:56.619048Z",
     "iopub.status.idle": "2021-05-09T10:36:56.699911Z",
     "shell.execute_reply": "2021-05-09T10:36:56.700520Z"
    },
    "id": "XbelFwn25_X7",
    "papermill": {
     "duration": 0.158784,
     "end_time": "2021-05-09T10:36:56.700711",
     "exception": false,
     "start_time": "2021-05-09T10:36:56.541927",
     "status": "completed"
    },
    "tags": []
   },
   "outputs": [],
   "source": [
    "df6.loc[:,'continent']= continent"
   ]
  },
  {
   "cell_type": "code",
   "execution_count": 31,
   "metadata": {
    "execution": {
     "iopub.execute_input": "2021-05-09T10:36:56.853335Z",
     "iopub.status.busy": "2021-05-09T10:36:56.852642Z",
     "iopub.status.idle": "2021-05-09T10:36:56.896499Z",
     "shell.execute_reply": "2021-05-09T10:36:56.897002Z"
    },
    "id": "58ge_zDw5_X8",
    "outputId": "51edebab-5a44-4440-92aa-abbc79514618",
    "papermill": {
     "duration": 0.122602,
     "end_time": "2021-05-09T10:36:56.897201",
     "exception": false,
     "start_time": "2021-05-09T10:36:56.774599",
     "status": "completed"
    },
    "tags": []
   },
   "outputs": [
    {
     "data": {
      "text/plain": [
       "(43486, 21)"
      ]
     },
     "execution_count": 31,
     "metadata": {},
     "output_type": "execute_result"
    }
   ],
   "source": [
    "df6[~(df6['founded_at'].isna()) & ~(df6['first_milestone_at'].isna())].shape"
   ]
  },
  {
   "cell_type": "code",
   "execution_count": 32,
   "metadata": {
    "execution": {
     "iopub.execute_input": "2021-05-09T10:36:57.049441Z",
     "iopub.status.busy": "2021-05-09T10:36:57.048782Z",
     "iopub.status.idle": "2021-05-09T10:36:57.064975Z",
     "shell.execute_reply": "2021-05-09T10:36:57.064468Z"
    },
    "id": "Kp6hqL8x5_X9",
    "outputId": "52177839-7e7b-452a-b67f-8706afe7cfca",
    "papermill": {
     "duration": 0.093627,
     "end_time": "2021-05-09T10:36:57.065128",
     "exception": false,
     "start_time": "2021-05-09T10:36:56.971501",
     "status": "completed"
    },
    "tags": []
   },
   "outputs": [
    {
     "data": {
      "text/plain": [
       "(15136, 21)"
      ]
     },
     "execution_count": 32,
     "metadata": {},
     "output_type": "execute_result"
    }
   ],
   "source": [
    "df6[~(df6['founded_at'].isna()) & ~(df6['first_milestone_at'].isna()) & ~(df6['first_funding_at'].isna())].shape"
   ]
  },
  {
   "cell_type": "markdown",
   "metadata": {
    "id": "XwaJ2NAI5_X_",
    "papermill": {
     "duration": 0.074153,
     "end_time": "2021-05-09T10:36:57.213906",
     "exception": false,
     "start_time": "2021-05-09T10:36:57.139753",
     "status": "completed"
    },
    "tags": []
   },
   "source": [
    "**Observation**\n",
    "\n",
    "From the little exploration, we loose about half of the data when considering first_funding_at feature"
   ]
  },
  {
   "cell_type": "markdown",
   "metadata": {
    "id": "uh2qwJMX5_X_",
    "papermill": {
     "duration": 0.073787,
     "end_time": "2021-05-09T10:36:57.361115",
     "exception": false,
     "start_time": "2021-05-09T10:36:57.287328",
     "status": "completed"
    },
    "tags": []
   },
   "source": [
    "4. **Funding Type**"
   ]
  },
  {
   "cell_type": "code",
   "execution_count": 33,
   "metadata": {
    "execution": {
     "iopub.execute_input": "2021-05-09T10:36:57.513409Z",
     "iopub.status.busy": "2021-05-09T10:36:57.512692Z",
     "iopub.status.idle": "2021-05-09T10:36:57.585275Z",
     "shell.execute_reply": "2021-05-09T10:36:57.585786Z"
    },
    "id": "MDDqW_3r5_YA",
    "outputId": "62eb8db4-95be-4e2d-9e18-a2653882b8c1",
    "papermill": {
     "duration": 0.151174,
     "end_time": "2021-05-09T10:36:57.585997",
     "exception": false,
     "start_time": "2021-05-09T10:36:57.434823",
     "status": "completed"
    },
    "tags": []
   },
   "outputs": [
    {
     "name": "stdout",
     "output_type": "stream",
     "text": [
      "<class 'pandas.core.frame.DataFrame'>\n",
      "RangeIndex: 52928 entries, 0 to 52927\n",
      "Data columns (total 23 columns):\n",
      " #   Column                    Non-Null Count  Dtype         \n",
      "---  ------                    --------------  -----         \n",
      " 0   id                        52928 non-null  int64         \n",
      " 1   funding_round_id          52928 non-null  int64         \n",
      " 2   object_id                 52928 non-null  object        \n",
      " 3   funded_at                 52680 non-null  datetime64[ns]\n",
      " 4   funding_round_type        52928 non-null  object        \n",
      " 5   funding_round_code        52928 non-null  object        \n",
      " 6   raised_amount_usd         52928 non-null  float64       \n",
      " 7   raised_amount             52928 non-null  float64       \n",
      " 8   raised_currency_code      49862 non-null  object        \n",
      " 9   pre_money_valuation_usd   52928 non-null  float64       \n",
      " 10  pre_money_valuation       52928 non-null  float64       \n",
      " 11  pre_money_currency_code   26883 non-null  object        \n",
      " 12  post_money_valuation_usd  52928 non-null  float64       \n",
      " 13  post_money_valuation      52928 non-null  float64       \n",
      " 14  post_money_currency_code  30448 non-null  object        \n",
      " 15  participants              52928 non-null  int64         \n",
      " 16  is_first_round            52928 non-null  int64         \n",
      " 17  is_last_round             52928 non-null  int64         \n",
      " 18  source_url                40382 non-null  object        \n",
      " 19  source_description        43439 non-null  object        \n",
      " 20  created_by                48291 non-null  object        \n",
      " 21  created_at                52928 non-null  object        \n",
      " 22  updated_at                52928 non-null  object        \n",
      "dtypes: datetime64[ns](1), float64(6), int64(5), object(11)\n",
      "memory usage: 9.3+ MB\n"
     ]
    }
   ],
   "source": [
    "df2.info()"
   ]
  },
  {
   "cell_type": "code",
   "execution_count": 34,
   "metadata": {
    "execution": {
     "iopub.execute_input": "2021-05-09T10:36:57.769391Z",
     "iopub.status.busy": "2021-05-09T10:36:57.768653Z",
     "iopub.status.idle": "2021-05-09T10:36:57.773969Z",
     "shell.execute_reply": "2021-05-09T10:36:57.773401Z"
    },
    "id": "qEqGLx4v5_YA",
    "outputId": "cd745de4-ec58-4346-ec38-d8d462588a19",
    "papermill": {
     "duration": 0.113556,
     "end_time": "2021-05-09T10:36:57.774123",
     "exception": false,
     "start_time": "2021-05-09T10:36:57.660567",
     "status": "completed"
    },
    "tags": []
   },
   "outputs": [
    {
     "data": {
      "text/html": [
       "<div>\n",
       "<style scoped>\n",
       "    .dataframe tbody tr th:only-of-type {\n",
       "        vertical-align: middle;\n",
       "    }\n",
       "\n",
       "    .dataframe tbody tr th {\n",
       "        vertical-align: top;\n",
       "    }\n",
       "\n",
       "    .dataframe thead th {\n",
       "        text-align: right;\n",
       "    }\n",
       "</style>\n",
       "<table border=\"1\" class=\"dataframe\">\n",
       "  <thead>\n",
       "    <tr style=\"text-align: right;\">\n",
       "      <th></th>\n",
       "      <th>id</th>\n",
       "      <th>funding_round_id</th>\n",
       "      <th>object_id</th>\n",
       "      <th>funded_at</th>\n",
       "      <th>funding_round_type</th>\n",
       "      <th>funding_round_code</th>\n",
       "      <th>raised_amount_usd</th>\n",
       "      <th>raised_amount</th>\n",
       "      <th>raised_currency_code</th>\n",
       "      <th>pre_money_valuation_usd</th>\n",
       "      <th>...</th>\n",
       "      <th>post_money_valuation</th>\n",
       "      <th>post_money_currency_code</th>\n",
       "      <th>participants</th>\n",
       "      <th>is_first_round</th>\n",
       "      <th>is_last_round</th>\n",
       "      <th>source_url</th>\n",
       "      <th>source_description</th>\n",
       "      <th>created_by</th>\n",
       "      <th>created_at</th>\n",
       "      <th>updated_at</th>\n",
       "    </tr>\n",
       "  </thead>\n",
       "  <tbody>\n",
       "    <tr>\n",
       "      <th>0</th>\n",
       "      <td>1</td>\n",
       "      <td>1</td>\n",
       "      <td>c:4</td>\n",
       "      <td>2006-12-01</td>\n",
       "      <td>series-b</td>\n",
       "      <td>b</td>\n",
       "      <td>8500000.0</td>\n",
       "      <td>8500000.0</td>\n",
       "      <td>USD</td>\n",
       "      <td>0.0</td>\n",
       "      <td>...</td>\n",
       "      <td>0.0</td>\n",
       "      <td>NaN</td>\n",
       "      <td>2</td>\n",
       "      <td>0</td>\n",
       "      <td>0</td>\n",
       "      <td>http://www.marketingvox.com/archives/2006/12/2...</td>\n",
       "      <td>NaN</td>\n",
       "      <td>initial-importer</td>\n",
       "      <td>2007-07-04 04:52:57</td>\n",
       "      <td>2008-02-27 23:14:29</td>\n",
       "    </tr>\n",
       "    <tr>\n",
       "      <th>1</th>\n",
       "      <td>2</td>\n",
       "      <td>2</td>\n",
       "      <td>c:5</td>\n",
       "      <td>2004-09-01</td>\n",
       "      <td>angel</td>\n",
       "      <td>angel</td>\n",
       "      <td>500000.0</td>\n",
       "      <td>500000.0</td>\n",
       "      <td>USD</td>\n",
       "      <td>0.0</td>\n",
       "      <td>...</td>\n",
       "      <td>0.0</td>\n",
       "      <td>USD</td>\n",
       "      <td>2</td>\n",
       "      <td>0</td>\n",
       "      <td>1</td>\n",
       "      <td>NaN</td>\n",
       "      <td>NaN</td>\n",
       "      <td>initial-importer</td>\n",
       "      <td>2007-05-27 06:08:18</td>\n",
       "      <td>2013-06-28 20:07:23</td>\n",
       "    </tr>\n",
       "    <tr>\n",
       "      <th>2</th>\n",
       "      <td>3</td>\n",
       "      <td>3</td>\n",
       "      <td>c:5</td>\n",
       "      <td>2005-05-01</td>\n",
       "      <td>series-a</td>\n",
       "      <td>a</td>\n",
       "      <td>12700000.0</td>\n",
       "      <td>12700000.0</td>\n",
       "      <td>USD</td>\n",
       "      <td>115000000.0</td>\n",
       "      <td>...</td>\n",
       "      <td>0.0</td>\n",
       "      <td>USD</td>\n",
       "      <td>3</td>\n",
       "      <td>0</td>\n",
       "      <td>0</td>\n",
       "      <td>http://www.techcrunch.com/2007/11/02/jim-breye...</td>\n",
       "      <td>Jim Breyer: Extra $500 Million Round For Faceb...</td>\n",
       "      <td>initial-importer</td>\n",
       "      <td>2007-05-27 06:09:10</td>\n",
       "      <td>2013-06-28 20:07:23</td>\n",
       "    </tr>\n",
       "    <tr>\n",
       "      <th>3</th>\n",
       "      <td>4</td>\n",
       "      <td>4</td>\n",
       "      <td>c:5</td>\n",
       "      <td>2006-04-01</td>\n",
       "      <td>series-b</td>\n",
       "      <td>b</td>\n",
       "      <td>27500000.0</td>\n",
       "      <td>27500000.0</td>\n",
       "      <td>USD</td>\n",
       "      <td>525000000.0</td>\n",
       "      <td>...</td>\n",
       "      <td>0.0</td>\n",
       "      <td>USD</td>\n",
       "      <td>4</td>\n",
       "      <td>0</td>\n",
       "      <td>0</td>\n",
       "      <td>http://www.facebook.com/press/info.php?factsheet</td>\n",
       "      <td>Facebook Funding</td>\n",
       "      <td>initial-importer</td>\n",
       "      <td>2007-05-27 06:09:36</td>\n",
       "      <td>2013-06-28 20:07:24</td>\n",
       "    </tr>\n",
       "    <tr>\n",
       "      <th>4</th>\n",
       "      <td>5</td>\n",
       "      <td>5</td>\n",
       "      <td>c:7299</td>\n",
       "      <td>2006-05-01</td>\n",
       "      <td>series-b</td>\n",
       "      <td>b</td>\n",
       "      <td>10500000.0</td>\n",
       "      <td>10500000.0</td>\n",
       "      <td>USD</td>\n",
       "      <td>0.0</td>\n",
       "      <td>...</td>\n",
       "      <td>0.0</td>\n",
       "      <td>NaN</td>\n",
       "      <td>2</td>\n",
       "      <td>0</td>\n",
       "      <td>0</td>\n",
       "      <td>http://www.techcrunch.com/2006/05/14/photobuck...</td>\n",
       "      <td>PhotoBucket Closes $10.5M From Trinity Ventures</td>\n",
       "      <td>initial-importer</td>\n",
       "      <td>2007-05-29 11:05:59</td>\n",
       "      <td>2008-04-16 17:09:12</td>\n",
       "    </tr>\n",
       "  </tbody>\n",
       "</table>\n",
       "<p>5 rows × 23 columns</p>\n",
       "</div>"
      ],
      "text/plain": [
       "   id  funding_round_id object_id  funded_at funding_round_type  \\\n",
       "0   1                 1       c:4 2006-12-01           series-b   \n",
       "1   2                 2       c:5 2004-09-01              angel   \n",
       "2   3                 3       c:5 2005-05-01           series-a   \n",
       "3   4                 4       c:5 2006-04-01           series-b   \n",
       "4   5                 5    c:7299 2006-05-01           series-b   \n",
       "\n",
       "  funding_round_code  raised_amount_usd  raised_amount raised_currency_code  \\\n",
       "0                  b          8500000.0      8500000.0                  USD   \n",
       "1              angel           500000.0       500000.0                  USD   \n",
       "2                  a         12700000.0     12700000.0                  USD   \n",
       "3                  b         27500000.0     27500000.0                  USD   \n",
       "4                  b         10500000.0     10500000.0                  USD   \n",
       "\n",
       "   pre_money_valuation_usd  ...  post_money_valuation  \\\n",
       "0                      0.0  ...                   0.0   \n",
       "1                      0.0  ...                   0.0   \n",
       "2              115000000.0  ...                   0.0   \n",
       "3              525000000.0  ...                   0.0   \n",
       "4                      0.0  ...                   0.0   \n",
       "\n",
       "  post_money_currency_code  participants  is_first_round is_last_round  \\\n",
       "0                      NaN             2               0             0   \n",
       "1                      USD             2               0             1   \n",
       "2                      USD             3               0             0   \n",
       "3                      USD             4               0             0   \n",
       "4                      NaN             2               0             0   \n",
       "\n",
       "                                          source_url  \\\n",
       "0  http://www.marketingvox.com/archives/2006/12/2...   \n",
       "1                                                NaN   \n",
       "2  http://www.techcrunch.com/2007/11/02/jim-breye...   \n",
       "3   http://www.facebook.com/press/info.php?factsheet   \n",
       "4  http://www.techcrunch.com/2006/05/14/photobuck...   \n",
       "\n",
       "                                  source_description        created_by  \\\n",
       "0                                                NaN  initial-importer   \n",
       "1                                                NaN  initial-importer   \n",
       "2  Jim Breyer: Extra $500 Million Round For Faceb...  initial-importer   \n",
       "3                                   Facebook Funding  initial-importer   \n",
       "4    PhotoBucket Closes $10.5M From Trinity Ventures  initial-importer   \n",
       "\n",
       "            created_at           updated_at  \n",
       "0  2007-07-04 04:52:57  2008-02-27 23:14:29  \n",
       "1  2007-05-27 06:08:18  2013-06-28 20:07:23  \n",
       "2  2007-05-27 06:09:10  2013-06-28 20:07:23  \n",
       "3  2007-05-27 06:09:36  2013-06-28 20:07:24  \n",
       "4  2007-05-29 11:05:59  2008-04-16 17:09:12  \n",
       "\n",
       "[5 rows x 23 columns]"
      ]
     },
     "execution_count": 34,
     "metadata": {},
     "output_type": "execute_result"
    }
   ],
   "source": [
    "df2.head()"
   ]
  },
  {
   "cell_type": "code",
   "execution_count": 35,
   "metadata": {
    "execution": {
     "iopub.execute_input": "2021-05-09T10:36:57.935774Z",
     "iopub.status.busy": "2021-05-09T10:36:57.935105Z",
     "iopub.status.idle": "2021-05-09T10:36:58.033332Z",
     "shell.execute_reply": "2021-05-09T10:36:58.033800Z"
    },
    "id": "s4J7koyP5_YB",
    "papermill": {
     "duration": 0.182782,
     "end_time": "2021-05-09T10:36:58.033990",
     "exception": false,
     "start_time": "2021-05-09T10:36:57.851208",
     "status": "completed"
    },
    "tags": []
   },
   "outputs": [],
   "source": [
    "funding_type = df2.groupby(['object_id', 'funding_round_type'])['funding_round_type'].count().unstack()"
   ]
  },
  {
   "cell_type": "code",
   "execution_count": 36,
   "metadata": {
    "execution": {
     "iopub.execute_input": "2021-05-09T10:36:58.192401Z",
     "iopub.status.busy": "2021-05-09T10:36:58.191346Z",
     "iopub.status.idle": "2021-05-09T10:36:58.197644Z",
     "shell.execute_reply": "2021-05-09T10:36:58.196968Z"
    },
    "id": "f3b1bump5_YB",
    "papermill": {
     "duration": 0.087417,
     "end_time": "2021-05-09T10:36:58.197784",
     "exception": false,
     "start_time": "2021-05-09T10:36:58.110367",
     "status": "completed"
    },
    "tags": []
   },
   "outputs": [],
   "source": [
    "funding_type.fillna(value=0, axis=1, inplace=True)"
   ]
  },
  {
   "cell_type": "code",
   "execution_count": 37,
   "metadata": {
    "execution": {
     "iopub.execute_input": "2021-05-09T10:36:58.376665Z",
     "iopub.status.busy": "2021-05-09T10:36:58.376000Z",
     "iopub.status.idle": "2021-05-09T10:36:58.380435Z",
     "shell.execute_reply": "2021-05-09T10:36:58.380923Z"
    },
    "id": "T9FSKjoN5_YC",
    "outputId": "0866caa6-76dc-4326-b7d9-6a026e5bcc1e",
    "papermill": {
     "duration": 0.106999,
     "end_time": "2021-05-09T10:36:58.381117",
     "exception": false,
     "start_time": "2021-05-09T10:36:58.274118",
     "status": "completed"
    },
    "tags": []
   },
   "outputs": [
    {
     "data": {
      "text/html": [
       "<div>\n",
       "<style scoped>\n",
       "    .dataframe tbody tr th:only-of-type {\n",
       "        vertical-align: middle;\n",
       "    }\n",
       "\n",
       "    .dataframe tbody tr th {\n",
       "        vertical-align: top;\n",
       "    }\n",
       "\n",
       "    .dataframe thead th {\n",
       "        text-align: right;\n",
       "    }\n",
       "</style>\n",
       "<table border=\"1\" class=\"dataframe\">\n",
       "  <thead>\n",
       "    <tr style=\"text-align: right;\">\n",
       "      <th>funding_round_type</th>\n",
       "      <th>angel</th>\n",
       "      <th>crowdfunding</th>\n",
       "      <th>other</th>\n",
       "      <th>post-ipo</th>\n",
       "      <th>private-equity</th>\n",
       "      <th>series-a</th>\n",
       "      <th>series-b</th>\n",
       "      <th>series-c+</th>\n",
       "      <th>venture</th>\n",
       "    </tr>\n",
       "    <tr>\n",
       "      <th>object_id</th>\n",
       "      <th></th>\n",
       "      <th></th>\n",
       "      <th></th>\n",
       "      <th></th>\n",
       "      <th></th>\n",
       "      <th></th>\n",
       "      <th></th>\n",
       "      <th></th>\n",
       "      <th></th>\n",
       "    </tr>\n",
       "  </thead>\n",
       "  <tbody>\n",
       "    <tr>\n",
       "      <th>c:1</th>\n",
       "      <td>0.0</td>\n",
       "      <td>0.0</td>\n",
       "      <td>0.0</td>\n",
       "      <td>0.0</td>\n",
       "      <td>0.0</td>\n",
       "      <td>1.0</td>\n",
       "      <td>1.0</td>\n",
       "      <td>1.0</td>\n",
       "      <td>0.0</td>\n",
       "    </tr>\n",
       "    <tr>\n",
       "      <th>c:1001</th>\n",
       "      <td>0.0</td>\n",
       "      <td>0.0</td>\n",
       "      <td>0.0</td>\n",
       "      <td>0.0</td>\n",
       "      <td>0.0</td>\n",
       "      <td>1.0</td>\n",
       "      <td>0.0</td>\n",
       "      <td>0.0</td>\n",
       "      <td>0.0</td>\n",
       "    </tr>\n",
       "    <tr>\n",
       "      <th>c:10014</th>\n",
       "      <td>1.0</td>\n",
       "      <td>0.0</td>\n",
       "      <td>0.0</td>\n",
       "      <td>0.0</td>\n",
       "      <td>0.0</td>\n",
       "      <td>0.0</td>\n",
       "      <td>0.0</td>\n",
       "      <td>0.0</td>\n",
       "      <td>0.0</td>\n",
       "    </tr>\n",
       "    <tr>\n",
       "      <th>c:10015</th>\n",
       "      <td>0.0</td>\n",
       "      <td>0.0</td>\n",
       "      <td>0.0</td>\n",
       "      <td>0.0</td>\n",
       "      <td>0.0</td>\n",
       "      <td>1.0</td>\n",
       "      <td>1.0</td>\n",
       "      <td>2.0</td>\n",
       "      <td>1.0</td>\n",
       "    </tr>\n",
       "    <tr>\n",
       "      <th>c:100155</th>\n",
       "      <td>0.0</td>\n",
       "      <td>0.0</td>\n",
       "      <td>1.0</td>\n",
       "      <td>0.0</td>\n",
       "      <td>0.0</td>\n",
       "      <td>0.0</td>\n",
       "      <td>2.0</td>\n",
       "      <td>0.0</td>\n",
       "      <td>0.0</td>\n",
       "    </tr>\n",
       "    <tr>\n",
       "      <th>...</th>\n",
       "      <td>...</td>\n",
       "      <td>...</td>\n",
       "      <td>...</td>\n",
       "      <td>...</td>\n",
       "      <td>...</td>\n",
       "      <td>...</td>\n",
       "      <td>...</td>\n",
       "      <td>...</td>\n",
       "      <td>...</td>\n",
       "    </tr>\n",
       "    <tr>\n",
       "      <th>c:99853</th>\n",
       "      <td>1.0</td>\n",
       "      <td>0.0</td>\n",
       "      <td>0.0</td>\n",
       "      <td>0.0</td>\n",
       "      <td>0.0</td>\n",
       "      <td>0.0</td>\n",
       "      <td>0.0</td>\n",
       "      <td>0.0</td>\n",
       "      <td>0.0</td>\n",
       "    </tr>\n",
       "    <tr>\n",
       "      <th>c:9989</th>\n",
       "      <td>2.0</td>\n",
       "      <td>0.0</td>\n",
       "      <td>0.0</td>\n",
       "      <td>0.0</td>\n",
       "      <td>0.0</td>\n",
       "      <td>0.0</td>\n",
       "      <td>0.0</td>\n",
       "      <td>0.0</td>\n",
       "      <td>0.0</td>\n",
       "    </tr>\n",
       "    <tr>\n",
       "      <th>c:9994</th>\n",
       "      <td>2.0</td>\n",
       "      <td>0.0</td>\n",
       "      <td>0.0</td>\n",
       "      <td>0.0</td>\n",
       "      <td>0.0</td>\n",
       "      <td>0.0</td>\n",
       "      <td>0.0</td>\n",
       "      <td>0.0</td>\n",
       "      <td>0.0</td>\n",
       "    </tr>\n",
       "    <tr>\n",
       "      <th>c:9995</th>\n",
       "      <td>1.0</td>\n",
       "      <td>0.0</td>\n",
       "      <td>0.0</td>\n",
       "      <td>0.0</td>\n",
       "      <td>0.0</td>\n",
       "      <td>0.0</td>\n",
       "      <td>0.0</td>\n",
       "      <td>0.0</td>\n",
       "      <td>0.0</td>\n",
       "    </tr>\n",
       "    <tr>\n",
       "      <th>c:9998</th>\n",
       "      <td>1.0</td>\n",
       "      <td>0.0</td>\n",
       "      <td>0.0</td>\n",
       "      <td>0.0</td>\n",
       "      <td>0.0</td>\n",
       "      <td>0.0</td>\n",
       "      <td>0.0</td>\n",
       "      <td>0.0</td>\n",
       "      <td>0.0</td>\n",
       "    </tr>\n",
       "  </tbody>\n",
       "</table>\n",
       "<p>31939 rows × 9 columns</p>\n",
       "</div>"
      ],
      "text/plain": [
       "funding_round_type  angel  crowdfunding  other  post-ipo  private-equity  \\\n",
       "object_id                                                                  \n",
       "c:1                   0.0           0.0    0.0       0.0             0.0   \n",
       "c:1001                0.0           0.0    0.0       0.0             0.0   \n",
       "c:10014               1.0           0.0    0.0       0.0             0.0   \n",
       "c:10015               0.0           0.0    0.0       0.0             0.0   \n",
       "c:100155              0.0           0.0    1.0       0.0             0.0   \n",
       "...                   ...           ...    ...       ...             ...   \n",
       "c:99853               1.0           0.0    0.0       0.0             0.0   \n",
       "c:9989                2.0           0.0    0.0       0.0             0.0   \n",
       "c:9994                2.0           0.0    0.0       0.0             0.0   \n",
       "c:9995                1.0           0.0    0.0       0.0             0.0   \n",
       "c:9998                1.0           0.0    0.0       0.0             0.0   \n",
       "\n",
       "funding_round_type  series-a  series-b  series-c+  venture  \n",
       "object_id                                                   \n",
       "c:1                      1.0       1.0        1.0      0.0  \n",
       "c:1001                   1.0       0.0        0.0      0.0  \n",
       "c:10014                  0.0       0.0        0.0      0.0  \n",
       "c:10015                  1.0       1.0        2.0      1.0  \n",
       "c:100155                 0.0       2.0        0.0      0.0  \n",
       "...                      ...       ...        ...      ...  \n",
       "c:99853                  0.0       0.0        0.0      0.0  \n",
       "c:9989                   0.0       0.0        0.0      0.0  \n",
       "c:9994                   0.0       0.0        0.0      0.0  \n",
       "c:9995                   0.0       0.0        0.0      0.0  \n",
       "c:9998                   0.0       0.0        0.0      0.0  \n",
       "\n",
       "[31939 rows x 9 columns]"
      ]
     },
     "execution_count": 37,
     "metadata": {},
     "output_type": "execute_result"
    }
   ],
   "source": [
    "funding_type"
   ]
  },
  {
   "cell_type": "code",
   "execution_count": 38,
   "metadata": {
    "execution": {
     "iopub.execute_input": "2021-05-09T10:36:58.609313Z",
     "iopub.status.busy": "2021-05-09T10:36:58.608581Z",
     "iopub.status.idle": "2021-05-09T10:36:58.700841Z",
     "shell.execute_reply": "2021-05-09T10:36:58.699835Z"
    },
    "id": "NKFQksgk5_YC",
    "papermill": {
     "duration": 0.242196,
     "end_time": "2021-05-09T10:36:58.700997",
     "exception": false,
     "start_time": "2021-05-09T10:36:58.458801",
     "status": "completed"
    },
    "tags": []
   },
   "outputs": [],
   "source": [
    "df7 = pd.merge(left=df6, right=funding_type ,how='inner', left_on='id', right_on=funding_type.index)"
   ]
  },
  {
   "cell_type": "code",
   "execution_count": 39,
   "metadata": {
    "execution": {
     "iopub.execute_input": "2021-05-09T10:36:58.882055Z",
     "iopub.status.busy": "2021-05-09T10:36:58.875043Z",
     "iopub.status.idle": "2021-05-09T10:36:58.908227Z",
     "shell.execute_reply": "2021-05-09T10:36:58.908759Z"
    },
    "id": "HOPCtAmR5_YD",
    "outputId": "6161e199-086e-4977-bcea-29b4a589b550",
    "papermill": {
     "duration": 0.131405,
     "end_time": "2021-05-09T10:36:58.908948",
     "exception": false,
     "start_time": "2021-05-09T10:36:58.777543",
     "status": "completed"
    },
    "tags": []
   },
   "outputs": [
    {
     "name": "stdout",
     "output_type": "stream",
     "text": [
      "<class 'pandas.core.frame.DataFrame'>\n",
      "Int64Index: 31707 entries, 0 to 31706\n",
      "Data columns (total 30 columns):\n",
      " #   Column              Non-Null Count  Dtype         \n",
      "---  ------              --------------  -----         \n",
      " 0   id                  31707 non-null  object        \n",
      " 1   status              31707 non-null  object        \n",
      " 2   normalized_name     31707 non-null  object        \n",
      " 3   category_code       30463 non-null  object        \n",
      " 4   founded_at          24467 non-null  datetime64[ns]\n",
      " 5   closed_at           2114 non-null   datetime64[ns]\n",
      " 6   tag_list            13913 non-null  object        \n",
      " 7   country_code        29565 non-null  object        \n",
      " 8   investment_rounds   31707 non-null  int64         \n",
      " 9   invested_companies  31707 non-null  int64         \n",
      " 10  first_funding_at    31507 non-null  datetime64[ns]\n",
      " 11  last_funding_at     31507 non-null  datetime64[ns]\n",
      " 12  funding_rounds      31707 non-null  int64         \n",
      " 13  funding_total_usd   31707 non-null  float64       \n",
      " 14  first_milestone_at  17304 non-null  datetime64[ns]\n",
      " 15  last_milestone_at   17304 non-null  datetime64[ns]\n",
      " 16  milestones          31707 non-null  int64         \n",
      " 17  relationships       31707 non-null  int64         \n",
      " 18  age                 24467 non-null  float64       \n",
      " 19  category            31707 non-null  object        \n",
      " 20  continent           31707 non-null  object        \n",
      " 21  angel               31707 non-null  float64       \n",
      " 22  crowdfunding        31707 non-null  float64       \n",
      " 23  other               31707 non-null  float64       \n",
      " 24  post-ipo            31707 non-null  float64       \n",
      " 25  private-equity      31707 non-null  float64       \n",
      " 26  series-a            31707 non-null  float64       \n",
      " 27  series-b            31707 non-null  float64       \n",
      " 28  series-c+           31707 non-null  float64       \n",
      " 29  venture             31707 non-null  float64       \n",
      "dtypes: datetime64[ns](6), float64(11), int64(5), object(8)\n",
      "memory usage: 7.5+ MB\n"
     ]
    }
   ],
   "source": [
    "df7.info()"
   ]
  },
  {
   "cell_type": "code",
   "execution_count": 40,
   "metadata": {
    "execution": {
     "iopub.execute_input": "2021-05-09T10:36:59.075309Z",
     "iopub.status.busy": "2021-05-09T10:36:59.074623Z",
     "iopub.status.idle": "2021-05-09T10:36:59.093449Z",
     "shell.execute_reply": "2021-05-09T10:36:59.092884Z"
    },
    "id": "wL8lS_7z5_YE",
    "outputId": "06aca30d-7ca6-417d-c237-1d1b4fddc7b6",
    "papermill": {
     "duration": 0.106477,
     "end_time": "2021-05-09T10:36:59.093592",
     "exception": false,
     "start_time": "2021-05-09T10:36:58.987115",
     "status": "completed"
    },
    "tags": []
   },
   "outputs": [
    {
     "data": {
      "text/plain": [
       "id                  169               c:104377\n",
       "status              169                    ipo\n",
       "normalized_name     169           tremor video\n",
       "category_code       169            advertising\n",
       "founded_at          169    2005-01-01 00:00:00\n",
       "closed_at           169                    NaT\n",
       "tag_list            169                    NaN\n",
       "country_code        169                    USA\n",
       "investment_rounds   169                      0\n",
       "invested_companies  169                      0\n",
       "first_funding_at    169    2006-03-01 00:00:00\n",
       "last_funding_at     169    2011-09-12 00:00:00\n",
       "funding_rounds      169                      8\n",
       "funding_total_usd   169            116400000.0\n",
       "first_milestone_at  169    2011-12-01 00:00:00\n",
       "last_milestone_at   169    2013-05-23 00:00:00\n",
       "milestones          169                      3\n",
       "relationships       169                     24\n",
       "age                 169               9.002053\n",
       "category            169                     BZ\n",
       "continent           169                     NA\n",
       "angel               169                    1.0\n",
       "crowdfunding        169                    0.0\n",
       "other               169                    0.0\n",
       "post-ipo            169                    0.0\n",
       "private-equity      169                    0.0\n",
       "series-a            169                    1.0\n",
       "series-b            169                    1.0\n",
       "series-c+           169                    4.0\n",
       "venture             169                    1.0\n",
       "dtype: object"
      ]
     },
     "execution_count": 40,
     "metadata": {},
     "output_type": "execute_result"
    }
   ],
   "source": [
    "df7[df7['id'] == 'c:104377'].unstack()"
   ]
  },
  {
   "cell_type": "markdown",
   "metadata": {
    "id": "Zq7d7TAO5_YE",
    "papermill": {
     "duration": 0.078798,
     "end_time": "2021-05-09T10:36:59.249888",
     "exception": false,
     "start_time": "2021-05-09T10:36:59.171090",
     "status": "completed"
    },
    "tags": []
   },
   "source": [
    "5. **Number of Products**"
   ]
  },
  {
   "cell_type": "code",
   "execution_count": 41,
   "metadata": {
    "execution": {
     "iopub.execute_input": "2021-05-09T10:36:59.478341Z",
     "iopub.status.busy": "2021-05-09T10:36:59.477610Z",
     "iopub.status.idle": "2021-05-09T10:36:59.489609Z",
     "shell.execute_reply": "2021-05-09T10:36:59.488988Z"
    },
    "id": "u3-ISUra5_YE",
    "papermill": {
     "duration": 0.16109,
     "end_time": "2021-05-09T10:36:59.489752",
     "exception": false,
     "start_time": "2021-05-09T10:36:59.328662",
     "status": "completed"
    },
    "tags": []
   },
   "outputs": [],
   "source": [
    "products = df1[df1['entity_type'] == 'Product']"
   ]
  },
  {
   "cell_type": "code",
   "execution_count": 42,
   "metadata": {
    "execution": {
     "iopub.execute_input": "2021-05-09T10:36:59.653109Z",
     "iopub.status.busy": "2021-05-09T10:36:59.652449Z",
     "iopub.status.idle": "2021-05-09T10:36:59.715270Z",
     "shell.execute_reply": "2021-05-09T10:36:59.714646Z"
    },
    "id": "v23RqRDB5_YF",
    "outputId": "e7fe54a5-8187-455f-c4b8-764f7a922e2f",
    "papermill": {
     "duration": 0.147519,
     "end_time": "2021-05-09T10:36:59.715429",
     "exception": false,
     "start_time": "2021-05-09T10:36:59.567910",
     "status": "completed"
    },
    "tags": []
   },
   "outputs": [
    {
     "name": "stdout",
     "output_type": "stream",
     "text": [
      "<class 'pandas.core.frame.DataFrame'>\n",
      "Int64Index: 27738 entries, 434913 to 462650\n",
      "Data columns (total 40 columns):\n",
      " #   Column               Non-Null Count  Dtype         \n",
      "---  ------               --------------  -----         \n",
      " 0   id                   27738 non-null  object        \n",
      " 1   entity_type          27738 non-null  object        \n",
      " 2   entity_id            27738 non-null  int64         \n",
      " 3   parent_id            27715 non-null  object        \n",
      " 4   name                 27738 non-null  object        \n",
      " 5   normalized_name      27736 non-null  object        \n",
      " 6   permalink            27738 non-null  object        \n",
      " 7   category_code        0 non-null      object        \n",
      " 8   status               27738 non-null  object        \n",
      " 9   founded_at           4609 non-null   datetime64[ns]\n",
      " 10  closed_at            189 non-null    datetime64[ns]\n",
      " 11  domain               7970 non-null   object        \n",
      " 12  homepage_url         7970 non-null   object        \n",
      " 13  twitter_username     4482 non-null   object        \n",
      " 14  logo_url             6805 non-null   object        \n",
      " 15  logo_width           27738 non-null  int64         \n",
      " 16  logo_height          27738 non-null  int64         \n",
      " 17  short_description    0 non-null      object        \n",
      " 18  description          0 non-null      object        \n",
      " 19  overview             7441 non-null   object        \n",
      " 20  tag_list             3466 non-null   object        \n",
      " 21  country_code         0 non-null      object        \n",
      " 22  state_code           0 non-null      object        \n",
      " 23  city                 0 non-null      object        \n",
      " 24  region               27738 non-null  object        \n",
      " 25  first_investment_at  0 non-null      datetime64[ns]\n",
      " 26  last_investment_at   0 non-null      datetime64[ns]\n",
      " 27  investment_rounds    27738 non-null  int64         \n",
      " 28  invested_companies   27738 non-null  int64         \n",
      " 29  first_funding_at     0 non-null      datetime64[ns]\n",
      " 30  last_funding_at      0 non-null      datetime64[ns]\n",
      " 31  funding_rounds       27738 non-null  int64         \n",
      " 32  funding_total_usd    27738 non-null  float64       \n",
      " 33  first_milestone_at   1961 non-null   datetime64[ns]\n",
      " 34  last_milestone_at    1961 non-null   datetime64[ns]\n",
      " 35  milestones           27738 non-null  int64         \n",
      " 36  relationships        27738 non-null  int64         \n",
      " 37  created_by           0 non-null      object        \n",
      " 38  created_at           27733 non-null  object        \n",
      " 39  updated_at           27738 non-null  object        \n",
      "dtypes: datetime64[ns](8), float64(1), int64(8), object(23)\n",
      "memory usage: 8.7+ MB\n"
     ]
    }
   ],
   "source": [
    "products.info()"
   ]
  },
  {
   "cell_type": "code",
   "execution_count": 43,
   "metadata": {
    "execution": {
     "iopub.execute_input": "2021-05-09T10:36:59.885800Z",
     "iopub.status.busy": "2021-05-09T10:36:59.884944Z",
     "iopub.status.idle": "2021-05-09T10:36:59.890467Z",
     "shell.execute_reply": "2021-05-09T10:36:59.889882Z"
    },
    "id": "kD8KgT-o5_YF",
    "outputId": "7ddbe14f-0393-4c36-8a08-33cf334249fa",
    "papermill": {
     "duration": 0.089808,
     "end_time": "2021-05-09T10:36:59.890612",
     "exception": false,
     "start_time": "2021-05-09T10:36:59.800804",
     "status": "completed"
    },
    "tags": []
   },
   "outputs": [
    {
     "data": {
      "text/plain": [
       "array(['live', 'operating', 'beta', 'private', 'alpha', 'closed',\n",
       "       'development'], dtype=object)"
      ]
     },
     "execution_count": 43,
     "metadata": {},
     "output_type": "execute_result"
    }
   ],
   "source": [
    "products['status'].unique()"
   ]
  },
  {
   "cell_type": "markdown",
   "metadata": {
    "id": "vY1XAPE_5_YF",
    "papermill": {
     "duration": 0.080448,
     "end_time": "2021-05-09T10:37:00.050496",
     "exception": false,
     "start_time": "2021-05-09T10:36:59.970048",
     "status": "completed"
    },
    "tags": []
   },
   "source": [
    "**Observation**\n",
    "\n",
    "We will create a new feature by re-categorising the status feature"
   ]
  },
  {
   "cell_type": "code",
   "execution_count": 44,
   "metadata": {
    "execution": {
     "iopub.execute_input": "2021-05-09T10:37:00.212637Z",
     "iopub.status.busy": "2021-05-09T10:37:00.211925Z",
     "iopub.status.idle": "2021-05-09T10:37:00.213985Z",
     "shell.execute_reply": "2021-05-09T10:37:00.214521Z"
    },
    "id": "BB9pEtqo5_YG",
    "papermill": {
     "duration": 0.085271,
     "end_time": "2021-05-09T10:37:00.214694",
     "exception": false,
     "start_time": "2021-05-09T10:37:00.129423",
     "status": "completed"
    },
    "tags": []
   },
   "outputs": [],
   "source": [
    "dev = ['alpha', 'beta', 'development']\n",
    "operating = ['live', 'operating', 'private']\n",
    "closed = ['closed']"
   ]
  },
  {
   "cell_type": "code",
   "execution_count": 45,
   "metadata": {
    "execution": {
     "iopub.execute_input": "2021-05-09T10:37:00.391131Z",
     "iopub.status.busy": "2021-05-09T10:37:00.386025Z",
     "iopub.status.idle": "2021-05-09T10:37:00.862609Z",
     "shell.execute_reply": "2021-05-09T10:37:00.862025Z"
    },
    "id": "JHIK0RkJ5_YG",
    "papermill": {
     "duration": 0.566762,
     "end_time": "2021-05-09T10:37:00.862758",
     "exception": false,
     "start_time": "2021-05-09T10:37:00.295996",
     "status": "completed"
    },
    "tags": []
   },
   "outputs": [],
   "source": [
    "status = []\n",
    "\n",
    "for i in range(products.shape[0]):\n",
    "    x = products.status.iloc[i]\n",
    "\n",
    "    if x in dev:\n",
    "        status.append('dev')\n",
    "    elif x in operating:\n",
    "        status.append('operating')\n",
    "    elif x in closed:\n",
    "        status.append('closed')"
   ]
  },
  {
   "cell_type": "code",
   "execution_count": 46,
   "metadata": {
    "execution": {
     "iopub.execute_input": "2021-05-09T10:37:01.028513Z",
     "iopub.status.busy": "2021-05-09T10:37:01.027202Z",
     "iopub.status.idle": "2021-05-09T10:37:01.040015Z",
     "shell.execute_reply": "2021-05-09T10:37:01.039483Z"
    },
    "id": "Rd5q-aMI5_YG",
    "papermill": {
     "duration": 0.097868,
     "end_time": "2021-05-09T10:37:01.040163",
     "exception": false,
     "start_time": "2021-05-09T10:37:00.942295",
     "status": "completed"
    },
    "tags": []
   },
   "outputs": [],
   "source": [
    "products  = products.assign(status = status)"
   ]
  },
  {
   "cell_type": "code",
   "execution_count": 47,
   "metadata": {
    "execution": {
     "iopub.execute_input": "2021-05-09T10:37:01.207199Z",
     "iopub.status.busy": "2021-05-09T10:37:01.206500Z",
     "iopub.status.idle": "2021-05-09T10:37:01.211613Z",
     "shell.execute_reply": "2021-05-09T10:37:01.210938Z"
    },
    "id": "dPvP7-d65_YH",
    "outputId": "49669546-edba-487c-e61d-f4980d6d7cea",
    "papermill": {
     "duration": 0.091074,
     "end_time": "2021-05-09T10:37:01.211760",
     "exception": false,
     "start_time": "2021-05-09T10:37:01.120686",
     "status": "completed"
    },
    "tags": []
   },
   "outputs": [
    {
     "data": {
      "text/plain": [
       "array(['operating', 'dev', 'closed'], dtype=object)"
      ]
     },
     "execution_count": 47,
     "metadata": {},
     "output_type": "execute_result"
    }
   ],
   "source": [
    "products.status.unique()"
   ]
  },
  {
   "cell_type": "code",
   "execution_count": 48,
   "metadata": {
    "execution": {
     "iopub.execute_input": "2021-05-09T10:37:01.404704Z",
     "iopub.status.busy": "2021-05-09T10:37:01.403651Z",
     "iopub.status.idle": "2021-05-09T10:37:01.425503Z",
     "shell.execute_reply": "2021-05-09T10:37:01.424910Z"
    },
    "id": "a4oSHhdU5_YH",
    "papermill": {
     "duration": 0.127732,
     "end_time": "2021-05-09T10:37:01.425655",
     "exception": false,
     "start_time": "2021-05-09T10:37:01.297923",
     "status": "completed"
    },
    "tags": []
   },
   "outputs": [],
   "source": [
    "no_products = products.groupby(['parent_id', 'status'])['status'].count().unstack()\n",
    "no_products.fillna(0, inplace=True)"
   ]
  },
  {
   "cell_type": "code",
   "execution_count": 49,
   "metadata": {
    "execution": {
     "iopub.execute_input": "2021-05-09T10:37:01.596725Z",
     "iopub.status.busy": "2021-05-09T10:37:01.595714Z",
     "iopub.status.idle": "2021-05-09T10:37:01.600341Z",
     "shell.execute_reply": "2021-05-09T10:37:01.599814Z"
    },
    "id": "cAWB78EZ5_YI",
    "outputId": "fa49cf10-5563-4888-cf7a-9b718a794748",
    "papermill": {
     "duration": 0.091545,
     "end_time": "2021-05-09T10:37:01.600482",
     "exception": false,
     "start_time": "2021-05-09T10:37:01.508937",
     "status": "completed"
    },
    "tags": []
   },
   "outputs": [
    {
     "data": {
      "text/plain": [
       "(11972, 3)"
      ]
     },
     "execution_count": 49,
     "metadata": {},
     "output_type": "execute_result"
    }
   ],
   "source": [
    "no_products.shape"
   ]
  },
  {
   "cell_type": "code",
   "execution_count": 50,
   "metadata": {
    "execution": {
     "iopub.execute_input": "2021-05-09T10:37:01.787715Z",
     "iopub.status.busy": "2021-05-09T10:37:01.781368Z",
     "iopub.status.idle": "2021-05-09T10:37:01.828082Z",
     "shell.execute_reply": "2021-05-09T10:37:01.827511Z"
    },
    "id": "hG3hNvEd5_YI",
    "papermill": {
     "duration": 0.14316,
     "end_time": "2021-05-09T10:37:01.828240",
     "exception": false,
     "start_time": "2021-05-09T10:37:01.685080",
     "status": "completed"
    },
    "tags": []
   },
   "outputs": [],
   "source": [
    "df8 = pd.merge(left=df7, right=no_products, how='left', left_on='id', right_on='parent_id')"
   ]
  },
  {
   "cell_type": "markdown",
   "metadata": {
    "id": "2rxtV1YO5_YI",
    "papermill": {
     "duration": 0.085701,
     "end_time": "2021-05-09T10:37:01.999581",
     "exception": false,
     "start_time": "2021-05-09T10:37:01.913880",
     "status": "completed"
    },
    "tags": []
   },
   "source": [
    "**Points to Note**\n",
    "\n",
    "When merging a df7 and no_products we consider df7 as the main data on which the merge should happen. The no_products is shorter than df7 and therefore the resulting dataframe has null values for the new merged part. The major assumption is that an operating company has atleast a product and a closed company has at least a product with them not having any dev product. \n",
    "\n",
    "Thus, we will work with this assumptions for the null values created:\n",
    "\n",
    "1. A company with closed status has 1 closed product\n",
    "2. A company with closed status has 0 operating product\n",
    "3. A company with operating status has 1 operating product\n",
    "4. A company with acquired status has 1 operating product\n",
    "5. A company with ipo status has 1 operating product\n",
    "6. Null values in the closed feature are zero due to the the assumptions 1, 2, 3, 4, and 5\n",
    "7. Null values in the dev feature are zero due to the the assumptions 1, 2, 3, 4, 5, and 6"
   ]
  },
  {
   "cell_type": "code",
   "execution_count": 51,
   "metadata": {
    "execution": {
     "iopub.execute_input": "2021-05-09T10:37:02.176059Z",
     "iopub.status.busy": "2021-05-09T10:37:02.174886Z",
     "iopub.status.idle": "2021-05-09T10:37:02.178988Z",
     "shell.execute_reply": "2021-05-09T10:37:02.178431Z"
    },
    "id": "JObiKsUi5_YJ",
    "papermill": {
     "duration": 0.096841,
     "end_time": "2021-05-09T10:37:02.179123",
     "exception": false,
     "start_time": "2021-05-09T10:37:02.082282",
     "status": "completed"
    },
    "tags": []
   },
   "outputs": [],
   "source": [
    "# Assumption 1\n",
    "df8.loc[(df8.status == 'closed') & (df8.closed.isna()), 'closed'] = 1"
   ]
  },
  {
   "cell_type": "code",
   "execution_count": 52,
   "metadata": {
    "execution": {
     "iopub.execute_input": "2021-05-09T10:37:02.353604Z",
     "iopub.status.busy": "2021-05-09T10:37:02.352912Z",
     "iopub.status.idle": "2021-05-09T10:37:02.356634Z",
     "shell.execute_reply": "2021-05-09T10:37:02.355963Z"
    },
    "id": "El1366vk5_YJ",
    "papermill": {
     "duration": 0.096634,
     "end_time": "2021-05-09T10:37:02.356798",
     "exception": false,
     "start_time": "2021-05-09T10:37:02.260164",
     "status": "completed"
    },
    "tags": []
   },
   "outputs": [],
   "source": [
    "#Assumption 2\n",
    "df8.loc[(df8.status == 'closed') & (df8.operating.isna()), 'operating'] = 0"
   ]
  },
  {
   "cell_type": "code",
   "execution_count": 53,
   "metadata": {
    "execution": {
     "iopub.execute_input": "2021-05-09T10:37:02.522494Z",
     "iopub.status.busy": "2021-05-09T10:37:02.521879Z",
     "iopub.status.idle": "2021-05-09T10:37:02.532582Z",
     "shell.execute_reply": "2021-05-09T10:37:02.533017Z"
    },
    "id": "aYfZlSSi5_YK",
    "papermill": {
     "duration": 0.094885,
     "end_time": "2021-05-09T10:37:02.533211",
     "exception": false,
     "start_time": "2021-05-09T10:37:02.438326",
     "status": "completed"
    },
    "tags": []
   },
   "outputs": [],
   "source": [
    "# Assumption 3\n",
    "df8.loc[(df8.status == 'operating') & (df8.operating.isna()), 'operating'] = 1"
   ]
  },
  {
   "cell_type": "code",
   "execution_count": 54,
   "metadata": {
    "execution": {
     "iopub.execute_input": "2021-05-09T10:37:02.698418Z",
     "iopub.status.busy": "2021-05-09T10:37:02.697722Z",
     "iopub.status.idle": "2021-05-09T10:37:02.709004Z",
     "shell.execute_reply": "2021-05-09T10:37:02.708304Z"
    },
    "id": "9XYeTxOm5_YK",
    "papermill": {
     "duration": 0.095337,
     "end_time": "2021-05-09T10:37:02.709143",
     "exception": false,
     "start_time": "2021-05-09T10:37:02.613806",
     "status": "completed"
    },
    "tags": []
   },
   "outputs": [],
   "source": [
    "# Assumption 4\n",
    "df8.loc[(df8.status == 'acquired') & (df8.operating.isna()), 'operating'] = 1"
   ]
  },
  {
   "cell_type": "code",
   "execution_count": 55,
   "metadata": {
    "execution": {
     "iopub.execute_input": "2021-05-09T10:37:02.882883Z",
     "iopub.status.busy": "2021-05-09T10:37:02.882139Z",
     "iopub.status.idle": "2021-05-09T10:37:02.887075Z",
     "shell.execute_reply": "2021-05-09T10:37:02.886433Z"
    },
    "id": "-AT4oyZY5_YL",
    "papermill": {
     "duration": 0.096528,
     "end_time": "2021-05-09T10:37:02.887227",
     "exception": false,
     "start_time": "2021-05-09T10:37:02.790699",
     "status": "completed"
    },
    "tags": []
   },
   "outputs": [],
   "source": [
    "#Assumption 5\n",
    "df8.loc[(df8.status == 'ipo') & (df8.operating.isna()), 'operating'] = 1"
   ]
  },
  {
   "cell_type": "code",
   "execution_count": 56,
   "metadata": {
    "execution": {
     "iopub.execute_input": "2021-05-09T10:37:03.053920Z",
     "iopub.status.busy": "2021-05-09T10:37:03.053318Z",
     "iopub.status.idle": "2021-05-09T10:37:03.058387Z",
     "shell.execute_reply": "2021-05-09T10:37:03.057838Z"
    },
    "id": "qrb8vh9l5_YL",
    "papermill": {
     "duration": 0.089616,
     "end_time": "2021-05-09T10:37:03.058525",
     "exception": false,
     "start_time": "2021-05-09T10:37:02.968909",
     "status": "completed"
    },
    "tags": []
   },
   "outputs": [],
   "source": [
    "# Assumption 6\n",
    "df8['closed'].fillna(0, inplace=True)"
   ]
  },
  {
   "cell_type": "code",
   "execution_count": 57,
   "metadata": {
    "execution": {
     "iopub.execute_input": "2021-05-09T10:37:03.224287Z",
     "iopub.status.busy": "2021-05-09T10:37:03.223621Z",
     "iopub.status.idle": "2021-05-09T10:37:03.228738Z",
     "shell.execute_reply": "2021-05-09T10:37:03.227985Z"
    },
    "id": "-LlUuNts5_YM",
    "papermill": {
     "duration": 0.089339,
     "end_time": "2021-05-09T10:37:03.228886",
     "exception": false,
     "start_time": "2021-05-09T10:37:03.139547",
     "status": "completed"
    },
    "tags": []
   },
   "outputs": [],
   "source": [
    "# Assumption 7\n",
    "df8['dev'].fillna(0, inplace=True)"
   ]
  },
  {
   "cell_type": "markdown",
   "metadata": {
    "id": "qMBmgZB55_YM",
    "papermill": {
     "duration": 0.082136,
     "end_time": "2021-05-09T10:37:03.392842",
     "exception": false,
     "start_time": "2021-05-09T10:37:03.310706",
     "status": "completed"
    },
    "tags": []
   },
   "source": [
    "## EDA\n",
    "\n",
    "As a general rule of thumb, normal data science follows through EDA to glean insights into how the data is setup and if they have an effect on what is being tried to be achieved.\n",
    "\n",
    "For the sake of this analysis, we will ignore this important step and proceed directly to classification and recommender building based on:\n",
    "1. Disconnect in the .csv files\n",
    "2. Feature engineering coming earlier\n",
    "3. Intuitive selection of features important to the exploration and model building"
   ]
  },
  {
   "cell_type": "code",
   "execution_count": 58,
   "metadata": {
    "execution": {
     "iopub.execute_input": "2021-05-09T10:37:03.560809Z",
     "iopub.status.busy": "2021-05-09T10:37:03.560115Z",
     "iopub.status.idle": "2021-05-09T10:37:04.494574Z",
     "shell.execute_reply": "2021-05-09T10:37:04.493838Z"
    },
    "id": "TCzyBJG05_YN",
    "papermill": {
     "duration": 1.020105,
     "end_time": "2021-05-09T10:37:04.494719",
     "exception": false,
     "start_time": "2021-05-09T10:37:03.474614",
     "status": "completed"
    },
    "tags": []
   },
   "outputs": [],
   "source": [
    "import matplotlib.pyplot as plt\n",
    "import seaborn as sns"
   ]
  },
  {
   "cell_type": "code",
   "execution_count": 59,
   "metadata": {
    "execution": {
     "iopub.execute_input": "2021-05-09T10:37:04.684926Z",
     "iopub.status.busy": "2021-05-09T10:37:04.678649Z",
     "iopub.status.idle": "2021-05-09T10:37:04.710977Z",
     "shell.execute_reply": "2021-05-09T10:37:04.711708Z"
    },
    "id": "76RnISWw5_YN",
    "outputId": "56f6900c-4ee6-4a6b-c9b6-66a16968ee4d",
    "papermill": {
     "duration": 0.134707,
     "end_time": "2021-05-09T10:37:04.711949",
     "exception": false,
     "start_time": "2021-05-09T10:37:04.577242",
     "status": "completed"
    },
    "tags": []
   },
   "outputs": [
    {
     "name": "stdout",
     "output_type": "stream",
     "text": [
      "<class 'pandas.core.frame.DataFrame'>\n",
      "Int64Index: 31707 entries, 0 to 31706\n",
      "Data columns (total 33 columns):\n",
      " #   Column              Non-Null Count  Dtype         \n",
      "---  ------              --------------  -----         \n",
      " 0   id                  31707 non-null  object        \n",
      " 1   status              31707 non-null  object        \n",
      " 2   normalized_name     31707 non-null  object        \n",
      " 3   category_code       30463 non-null  object        \n",
      " 4   founded_at          24467 non-null  datetime64[ns]\n",
      " 5   closed_at           2114 non-null   datetime64[ns]\n",
      " 6   tag_list            13913 non-null  object        \n",
      " 7   country_code        29565 non-null  object        \n",
      " 8   investment_rounds   31707 non-null  int64         \n",
      " 9   invested_companies  31707 non-null  int64         \n",
      " 10  first_funding_at    31507 non-null  datetime64[ns]\n",
      " 11  last_funding_at     31507 non-null  datetime64[ns]\n",
      " 12  funding_rounds      31707 non-null  int64         \n",
      " 13  funding_total_usd   31707 non-null  float64       \n",
      " 14  first_milestone_at  17304 non-null  datetime64[ns]\n",
      " 15  last_milestone_at   17304 non-null  datetime64[ns]\n",
      " 16  milestones          31707 non-null  int64         \n",
      " 17  relationships       31707 non-null  int64         \n",
      " 18  age                 24467 non-null  float64       \n",
      " 19  category            31707 non-null  object        \n",
      " 20  continent           31707 non-null  object        \n",
      " 21  angel               31707 non-null  float64       \n",
      " 22  crowdfunding        31707 non-null  float64       \n",
      " 23  other               31707 non-null  float64       \n",
      " 24  post-ipo            31707 non-null  float64       \n",
      " 25  private-equity      31707 non-null  float64       \n",
      " 26  series-a            31707 non-null  float64       \n",
      " 27  series-b            31707 non-null  float64       \n",
      " 28  series-c+           31707 non-null  float64       \n",
      " 29  venture             31707 non-null  float64       \n",
      " 30  closed              31707 non-null  float64       \n",
      " 31  dev                 31707 non-null  float64       \n",
      " 32  operating           31707 non-null  float64       \n",
      "dtypes: datetime64[ns](6), float64(14), int64(5), object(8)\n",
      "memory usage: 8.2+ MB\n"
     ]
    }
   ],
   "source": [
    "df8.info()"
   ]
  },
  {
   "cell_type": "code",
   "execution_count": 60,
   "metadata": {
    "execution": {
     "iopub.execute_input": "2021-05-09T10:37:04.885977Z",
     "iopub.status.busy": "2021-05-09T10:37:04.885230Z",
     "iopub.status.idle": "2021-05-09T10:37:04.903619Z",
     "shell.execute_reply": "2021-05-09T10:37:04.903053Z"
    },
    "id": "f8MzqYs-5_YO",
    "papermill": {
     "duration": 0.108661,
     "end_time": "2021-05-09T10:37:04.903791",
     "exception": false,
     "start_time": "2021-05-09T10:37:04.795130",
     "status": "completed"
    },
    "tags": []
   },
   "outputs": [],
   "source": [
    "# picking columns for model building\n",
    "data = df8[['status', 'investment_rounds', 'invested_companies', 'funding_rounds', 'funding_total_usd', 'milestones', 'relationships', 'age', 'category', 'continent', 'angel', 'crowdfunding', 'other', 'post-ipo', 'private-equity', 'series-a', 'series-b', 'series-c+', 'venture', 'closed', 'dev', 'operating']].copy()"
   ]
  },
  {
   "cell_type": "code",
   "execution_count": 61,
   "metadata": {
    "execution": {
     "iopub.execute_input": "2021-05-09T10:37:05.081091Z",
     "iopub.status.busy": "2021-05-09T10:37:05.077109Z",
     "iopub.status.idle": "2021-05-09T10:37:05.176613Z",
     "shell.execute_reply": "2021-05-09T10:37:05.177207Z"
    },
    "id": "J2RYcxIH5_YO",
    "outputId": "72a586f2-a7b4-466b-d005-67c5641e92ce",
    "papermill": {
     "duration": 0.18884,
     "end_time": "2021-05-09T10:37:05.177409",
     "exception": false,
     "start_time": "2021-05-09T10:37:04.988569",
     "status": "completed"
    },
    "tags": []
   },
   "outputs": [
    {
     "data": {
      "text/html": [
       "<div>\n",
       "<style scoped>\n",
       "    .dataframe tbody tr th:only-of-type {\n",
       "        vertical-align: middle;\n",
       "    }\n",
       "\n",
       "    .dataframe tbody tr th {\n",
       "        vertical-align: top;\n",
       "    }\n",
       "\n",
       "    .dataframe thead th {\n",
       "        text-align: right;\n",
       "    }\n",
       "</style>\n",
       "<table border=\"1\" class=\"dataframe\">\n",
       "  <thead>\n",
       "    <tr style=\"text-align: right;\">\n",
       "      <th></th>\n",
       "      <th>investment_rounds</th>\n",
       "      <th>invested_companies</th>\n",
       "      <th>funding_rounds</th>\n",
       "      <th>funding_total_usd</th>\n",
       "      <th>milestones</th>\n",
       "      <th>relationships</th>\n",
       "      <th>age</th>\n",
       "      <th>angel</th>\n",
       "      <th>crowdfunding</th>\n",
       "      <th>other</th>\n",
       "      <th>post-ipo</th>\n",
       "      <th>private-equity</th>\n",
       "      <th>series-a</th>\n",
       "      <th>series-b</th>\n",
       "      <th>series-c+</th>\n",
       "      <th>venture</th>\n",
       "      <th>closed</th>\n",
       "      <th>dev</th>\n",
       "      <th>operating</th>\n",
       "    </tr>\n",
       "  </thead>\n",
       "  <tbody>\n",
       "    <tr>\n",
       "      <th>count</th>\n",
       "      <td>31707.000000</td>\n",
       "      <td>31707.000000</td>\n",
       "      <td>31707.000000</td>\n",
       "      <td>3.170700e+04</td>\n",
       "      <td>31707.000000</td>\n",
       "      <td>31707.000000</td>\n",
       "      <td>24467.000000</td>\n",
       "      <td>31707.000000</td>\n",
       "      <td>31707.000000</td>\n",
       "      <td>31707.000000</td>\n",
       "      <td>31707.000000</td>\n",
       "      <td>31707.000000</td>\n",
       "      <td>31707.000000</td>\n",
       "      <td>31707.000000</td>\n",
       "      <td>31707.000000</td>\n",
       "      <td>31707.000000</td>\n",
       "      <td>31707.000000</td>\n",
       "      <td>31707.000000</td>\n",
       "      <td>31707.000000</td>\n",
       "    </tr>\n",
       "    <tr>\n",
       "      <th>mean</th>\n",
       "      <td>0.060775</td>\n",
       "      <td>0.055382</td>\n",
       "      <td>1.659760</td>\n",
       "      <td>1.302538e+07</td>\n",
       "      <td>0.884473</td>\n",
       "      <td>4.236162</td>\n",
       "      <td>7.051525</td>\n",
       "      <td>0.411613</td>\n",
       "      <td>0.003501</td>\n",
       "      <td>0.132147</td>\n",
       "      <td>0.002681</td>\n",
       "      <td>0.032895</td>\n",
       "      <td>0.309679</td>\n",
       "      <td>0.153436</td>\n",
       "      <td>0.132368</td>\n",
       "      <td>0.481439</td>\n",
       "      <td>0.056265</td>\n",
       "      <td>0.012805</td>\n",
       "      <td>1.079667</td>\n",
       "    </tr>\n",
       "    <tr>\n",
       "      <th>std</th>\n",
       "      <td>3.334710</td>\n",
       "      <td>3.126008</td>\n",
       "      <td>1.201666</td>\n",
       "      <td>6.371505e+07</td>\n",
       "      <td>1.030626</td>\n",
       "      <td>11.333178</td>\n",
       "      <td>6.907449</td>\n",
       "      <td>0.652500</td>\n",
       "      <td>0.061164</td>\n",
       "      <td>0.441932</td>\n",
       "      <td>0.070765</td>\n",
       "      <td>0.188174</td>\n",
       "      <td>0.533619</td>\n",
       "      <td>0.396975</td>\n",
       "      <td>0.478038</td>\n",
       "      <td>0.757432</td>\n",
       "      <td>0.247973</td>\n",
       "      <td>0.176418</td>\n",
       "      <td>1.024687</td>\n",
       "    </tr>\n",
       "    <tr>\n",
       "      <th>min</th>\n",
       "      <td>0.000000</td>\n",
       "      <td>0.000000</td>\n",
       "      <td>1.000000</td>\n",
       "      <td>0.000000e+00</td>\n",
       "      <td>0.000000</td>\n",
       "      <td>0.000000</td>\n",
       "      <td>-9.138946</td>\n",
       "      <td>0.000000</td>\n",
       "      <td>0.000000</td>\n",
       "      <td>0.000000</td>\n",
       "      <td>0.000000</td>\n",
       "      <td>0.000000</td>\n",
       "      <td>0.000000</td>\n",
       "      <td>0.000000</td>\n",
       "      <td>0.000000</td>\n",
       "      <td>0.000000</td>\n",
       "      <td>0.000000</td>\n",
       "      <td>0.000000</td>\n",
       "      <td>0.000000</td>\n",
       "    </tr>\n",
       "    <tr>\n",
       "      <th>25%</th>\n",
       "      <td>0.000000</td>\n",
       "      <td>0.000000</td>\n",
       "      <td>1.000000</td>\n",
       "      <td>2.000000e+05</td>\n",
       "      <td>0.000000</td>\n",
       "      <td>1.000000</td>\n",
       "      <td>3.003422</td>\n",
       "      <td>0.000000</td>\n",
       "      <td>0.000000</td>\n",
       "      <td>0.000000</td>\n",
       "      <td>0.000000</td>\n",
       "      <td>0.000000</td>\n",
       "      <td>0.000000</td>\n",
       "      <td>0.000000</td>\n",
       "      <td>0.000000</td>\n",
       "      <td>0.000000</td>\n",
       "      <td>0.000000</td>\n",
       "      <td>0.000000</td>\n",
       "      <td>1.000000</td>\n",
       "    </tr>\n",
       "    <tr>\n",
       "      <th>50%</th>\n",
       "      <td>0.000000</td>\n",
       "      <td>0.000000</td>\n",
       "      <td>1.000000</td>\n",
       "      <td>1.700000e+06</td>\n",
       "      <td>1.000000</td>\n",
       "      <td>2.000000</td>\n",
       "      <td>5.002053</td>\n",
       "      <td>0.000000</td>\n",
       "      <td>0.000000</td>\n",
       "      <td>0.000000</td>\n",
       "      <td>0.000000</td>\n",
       "      <td>0.000000</td>\n",
       "      <td>0.000000</td>\n",
       "      <td>0.000000</td>\n",
       "      <td>0.000000</td>\n",
       "      <td>0.000000</td>\n",
       "      <td>0.000000</td>\n",
       "      <td>0.000000</td>\n",
       "      <td>1.000000</td>\n",
       "    </tr>\n",
       "    <tr>\n",
       "      <th>75%</th>\n",
       "      <td>0.000000</td>\n",
       "      <td>0.000000</td>\n",
       "      <td>2.000000</td>\n",
       "      <td>9.106396e+06</td>\n",
       "      <td>1.000000</td>\n",
       "      <td>5.000000</td>\n",
       "      <td>9.002053</td>\n",
       "      <td>1.000000</td>\n",
       "      <td>0.000000</td>\n",
       "      <td>0.000000</td>\n",
       "      <td>0.000000</td>\n",
       "      <td>0.000000</td>\n",
       "      <td>1.000000</td>\n",
       "      <td>0.000000</td>\n",
       "      <td>0.000000</td>\n",
       "      <td>1.000000</td>\n",
       "      <td>0.000000</td>\n",
       "      <td>0.000000</td>\n",
       "      <td>1.000000</td>\n",
       "    </tr>\n",
       "    <tr>\n",
       "      <th>max</th>\n",
       "      <td>478.000000</td>\n",
       "      <td>459.000000</td>\n",
       "      <td>15.000000</td>\n",
       "      <td>5.700000e+09</td>\n",
       "      <td>9.000000</td>\n",
       "      <td>1046.000000</td>\n",
       "      <td>111.003422</td>\n",
       "      <td>8.000000</td>\n",
       "      <td>3.000000</td>\n",
       "      <td>11.000000</td>\n",
       "      <td>8.000000</td>\n",
       "      <td>4.000000</td>\n",
       "      <td>8.000000</td>\n",
       "      <td>11.000000</td>\n",
       "      <td>7.000000</td>\n",
       "      <td>12.000000</td>\n",
       "      <td>16.000000</td>\n",
       "      <td>18.000000</td>\n",
       "      <td>63.000000</td>\n",
       "    </tr>\n",
       "  </tbody>\n",
       "</table>\n",
       "</div>"
      ],
      "text/plain": [
       "       investment_rounds  invested_companies  funding_rounds  \\\n",
       "count       31707.000000        31707.000000    31707.000000   \n",
       "mean            0.060775            0.055382        1.659760   \n",
       "std             3.334710            3.126008        1.201666   \n",
       "min             0.000000            0.000000        1.000000   \n",
       "25%             0.000000            0.000000        1.000000   \n",
       "50%             0.000000            0.000000        1.000000   \n",
       "75%             0.000000            0.000000        2.000000   \n",
       "max           478.000000          459.000000       15.000000   \n",
       "\n",
       "       funding_total_usd    milestones  relationships           age  \\\n",
       "count       3.170700e+04  31707.000000   31707.000000  24467.000000   \n",
       "mean        1.302538e+07      0.884473       4.236162      7.051525   \n",
       "std         6.371505e+07      1.030626      11.333178      6.907449   \n",
       "min         0.000000e+00      0.000000       0.000000     -9.138946   \n",
       "25%         2.000000e+05      0.000000       1.000000      3.003422   \n",
       "50%         1.700000e+06      1.000000       2.000000      5.002053   \n",
       "75%         9.106396e+06      1.000000       5.000000      9.002053   \n",
       "max         5.700000e+09      9.000000    1046.000000    111.003422   \n",
       "\n",
       "              angel  crowdfunding         other      post-ipo  private-equity  \\\n",
       "count  31707.000000  31707.000000  31707.000000  31707.000000    31707.000000   \n",
       "mean       0.411613      0.003501      0.132147      0.002681        0.032895   \n",
       "std        0.652500      0.061164      0.441932      0.070765        0.188174   \n",
       "min        0.000000      0.000000      0.000000      0.000000        0.000000   \n",
       "25%        0.000000      0.000000      0.000000      0.000000        0.000000   \n",
       "50%        0.000000      0.000000      0.000000      0.000000        0.000000   \n",
       "75%        1.000000      0.000000      0.000000      0.000000        0.000000   \n",
       "max        8.000000      3.000000     11.000000      8.000000        4.000000   \n",
       "\n",
       "           series-a      series-b     series-c+       venture        closed  \\\n",
       "count  31707.000000  31707.000000  31707.000000  31707.000000  31707.000000   \n",
       "mean       0.309679      0.153436      0.132368      0.481439      0.056265   \n",
       "std        0.533619      0.396975      0.478038      0.757432      0.247973   \n",
       "min        0.000000      0.000000      0.000000      0.000000      0.000000   \n",
       "25%        0.000000      0.000000      0.000000      0.000000      0.000000   \n",
       "50%        0.000000      0.000000      0.000000      0.000000      0.000000   \n",
       "75%        1.000000      0.000000      0.000000      1.000000      0.000000   \n",
       "max        8.000000     11.000000      7.000000     12.000000     16.000000   \n",
       "\n",
       "                dev     operating  \n",
       "count  31707.000000  31707.000000  \n",
       "mean       0.012805      1.079667  \n",
       "std        0.176418      1.024687  \n",
       "min        0.000000      0.000000  \n",
       "25%        0.000000      1.000000  \n",
       "50%        0.000000      1.000000  \n",
       "75%        0.000000      1.000000  \n",
       "max       18.000000     63.000000  "
      ]
     },
     "execution_count": 61,
     "metadata": {},
     "output_type": "execute_result"
    }
   ],
   "source": [
    "data.describe()"
   ]
  },
  {
   "cell_type": "markdown",
   "metadata": {
    "id": "-RcLR6105_YP",
    "papermill": {
     "duration": 0.092639,
     "end_time": "2021-05-09T10:37:05.363861",
     "exception": false,
     "start_time": "2021-05-09T10:37:05.271222",
     "status": "completed"
    },
    "tags": []
   },
   "source": [
    "**Observation**\n",
    "\n",
    "The Distribution for all the features looks well except for the _age_ which has missing values and has negative values. Thus, this notebook will drop the negative age values(outliers) and sort the age null values with a categorical feature."
   ]
  },
  {
   "cell_type": "code",
   "execution_count": 62,
   "metadata": {
    "execution": {
     "iopub.execute_input": "2021-05-09T10:37:05.557209Z",
     "iopub.status.busy": "2021-05-09T10:37:05.552201Z",
     "iopub.status.idle": "2021-05-09T10:37:05.612807Z",
     "shell.execute_reply": "2021-05-09T10:37:05.612149Z"
    },
    "id": "I4OhGF-n5_YQ",
    "outputId": "2b3a1ef0-e9ee-4d85-db7b-e006af8b8cd9",
    "papermill": {
     "duration": 0.164439,
     "end_time": "2021-05-09T10:37:05.612948",
     "exception": false,
     "start_time": "2021-05-09T10:37:05.448509",
     "status": "completed"
    },
    "tags": []
   },
   "outputs": [
    {
     "data": {
      "text/html": [
       "<div>\n",
       "<style scoped>\n",
       "    .dataframe tbody tr th:only-of-type {\n",
       "        vertical-align: middle;\n",
       "    }\n",
       "\n",
       "    .dataframe tbody tr th {\n",
       "        vertical-align: top;\n",
       "    }\n",
       "\n",
       "    .dataframe thead th {\n",
       "        text-align: right;\n",
       "    }\n",
       "</style>\n",
       "<table border=\"1\" class=\"dataframe\">\n",
       "  <thead>\n",
       "    <tr style=\"text-align: right;\">\n",
       "      <th></th>\n",
       "      <th>status</th>\n",
       "      <th>investment_rounds</th>\n",
       "      <th>invested_companies</th>\n",
       "      <th>funding_rounds</th>\n",
       "      <th>funding_total_usd</th>\n",
       "      <th>milestones</th>\n",
       "      <th>relationships</th>\n",
       "      <th>age</th>\n",
       "      <th>category</th>\n",
       "      <th>continent</th>\n",
       "      <th>...</th>\n",
       "      <th>other</th>\n",
       "      <th>post-ipo</th>\n",
       "      <th>private-equity</th>\n",
       "      <th>series-a</th>\n",
       "      <th>series-b</th>\n",
       "      <th>series-c+</th>\n",
       "      <th>venture</th>\n",
       "      <th>closed</th>\n",
       "      <th>dev</th>\n",
       "      <th>operating</th>\n",
       "    </tr>\n",
       "  </thead>\n",
       "  <tbody>\n",
       "    <tr>\n",
       "      <th>762</th>\n",
       "      <td>closed</td>\n",
       "      <td>0</td>\n",
       "      <td>0</td>\n",
       "      <td>1</td>\n",
       "      <td>50000.0</td>\n",
       "      <td>0</td>\n",
       "      <td>2</td>\n",
       "      <td>-0.161533</td>\n",
       "      <td>OT</td>\n",
       "      <td>NA</td>\n",
       "      <td>...</td>\n",
       "      <td>0.0</td>\n",
       "      <td>0.0</td>\n",
       "      <td>0.0</td>\n",
       "      <td>0.0</td>\n",
       "      <td>0.0</td>\n",
       "      <td>0.0</td>\n",
       "      <td>0.0</td>\n",
       "      <td>0.0</td>\n",
       "      <td>0.0</td>\n",
       "      <td>1.0</td>\n",
       "    </tr>\n",
       "    <tr>\n",
       "      <th>1444</th>\n",
       "      <td>closed</td>\n",
       "      <td>0</td>\n",
       "      <td>0</td>\n",
       "      <td>1</td>\n",
       "      <td>0.0</td>\n",
       "      <td>1</td>\n",
       "      <td>2</td>\n",
       "      <td>-0.599589</td>\n",
       "      <td>LE</td>\n",
       "      <td>NA</td>\n",
       "      <td>...</td>\n",
       "      <td>0.0</td>\n",
       "      <td>0.0</td>\n",
       "      <td>0.0</td>\n",
       "      <td>0.0</td>\n",
       "      <td>0.0</td>\n",
       "      <td>0.0</td>\n",
       "      <td>0.0</td>\n",
       "      <td>1.0</td>\n",
       "      <td>0.0</td>\n",
       "      <td>0.0</td>\n",
       "    </tr>\n",
       "    <tr>\n",
       "      <th>3092</th>\n",
       "      <td>closed</td>\n",
       "      <td>0</td>\n",
       "      <td>0</td>\n",
       "      <td>1</td>\n",
       "      <td>40000.0</td>\n",
       "      <td>0</td>\n",
       "      <td>0</td>\n",
       "      <td>-0.079398</td>\n",
       "      <td>BZ</td>\n",
       "      <td>UT</td>\n",
       "      <td>...</td>\n",
       "      <td>0.0</td>\n",
       "      <td>0.0</td>\n",
       "      <td>0.0</td>\n",
       "      <td>0.0</td>\n",
       "      <td>0.0</td>\n",
       "      <td>0.0</td>\n",
       "      <td>0.0</td>\n",
       "      <td>1.0</td>\n",
       "      <td>0.0</td>\n",
       "      <td>0.0</td>\n",
       "    </tr>\n",
       "    <tr>\n",
       "      <th>4321</th>\n",
       "      <td>closed</td>\n",
       "      <td>0</td>\n",
       "      <td>0</td>\n",
       "      <td>1</td>\n",
       "      <td>0.0</td>\n",
       "      <td>1</td>\n",
       "      <td>2</td>\n",
       "      <td>-0.331280</td>\n",
       "      <td>OT</td>\n",
       "      <td>NA</td>\n",
       "      <td>...</td>\n",
       "      <td>0.0</td>\n",
       "      <td>0.0</td>\n",
       "      <td>0.0</td>\n",
       "      <td>0.0</td>\n",
       "      <td>0.0</td>\n",
       "      <td>0.0</td>\n",
       "      <td>0.0</td>\n",
       "      <td>1.0</td>\n",
       "      <td>0.0</td>\n",
       "      <td>0.0</td>\n",
       "    </tr>\n",
       "    <tr>\n",
       "      <th>6926</th>\n",
       "      <td>closed</td>\n",
       "      <td>0</td>\n",
       "      <td>0</td>\n",
       "      <td>2</td>\n",
       "      <td>0.0</td>\n",
       "      <td>1</td>\n",
       "      <td>2</td>\n",
       "      <td>-0.750171</td>\n",
       "      <td>OT</td>\n",
       "      <td>NA</td>\n",
       "      <td>...</td>\n",
       "      <td>0.0</td>\n",
       "      <td>0.0</td>\n",
       "      <td>0.0</td>\n",
       "      <td>0.0</td>\n",
       "      <td>0.0</td>\n",
       "      <td>0.0</td>\n",
       "      <td>0.0</td>\n",
       "      <td>0.0</td>\n",
       "      <td>0.0</td>\n",
       "      <td>2.0</td>\n",
       "    </tr>\n",
       "    <tr>\n",
       "      <th>8434</th>\n",
       "      <td>closed</td>\n",
       "      <td>0</td>\n",
       "      <td>0</td>\n",
       "      <td>1</td>\n",
       "      <td>500000.0</td>\n",
       "      <td>0</td>\n",
       "      <td>0</td>\n",
       "      <td>-0.109514</td>\n",
       "      <td>OT</td>\n",
       "      <td>UT</td>\n",
       "      <td>...</td>\n",
       "      <td>0.0</td>\n",
       "      <td>0.0</td>\n",
       "      <td>0.0</td>\n",
       "      <td>0.0</td>\n",
       "      <td>0.0</td>\n",
       "      <td>0.0</td>\n",
       "      <td>0.0</td>\n",
       "      <td>1.0</td>\n",
       "      <td>0.0</td>\n",
       "      <td>0.0</td>\n",
       "    </tr>\n",
       "    <tr>\n",
       "      <th>8586</th>\n",
       "      <td>closed</td>\n",
       "      <td>0</td>\n",
       "      <td>0</td>\n",
       "      <td>1</td>\n",
       "      <td>0.0</td>\n",
       "      <td>1</td>\n",
       "      <td>2</td>\n",
       "      <td>-2.732375</td>\n",
       "      <td>LE</td>\n",
       "      <td>NA</td>\n",
       "      <td>...</td>\n",
       "      <td>0.0</td>\n",
       "      <td>0.0</td>\n",
       "      <td>0.0</td>\n",
       "      <td>0.0</td>\n",
       "      <td>0.0</td>\n",
       "      <td>0.0</td>\n",
       "      <td>0.0</td>\n",
       "      <td>1.0</td>\n",
       "      <td>0.0</td>\n",
       "      <td>0.0</td>\n",
       "    </tr>\n",
       "    <tr>\n",
       "      <th>8655</th>\n",
       "      <td>closed</td>\n",
       "      <td>0</td>\n",
       "      <td>0</td>\n",
       "      <td>1</td>\n",
       "      <td>100000.0</td>\n",
       "      <td>0</td>\n",
       "      <td>2</td>\n",
       "      <td>-0.161533</td>\n",
       "      <td>OT</td>\n",
       "      <td>UT</td>\n",
       "      <td>...</td>\n",
       "      <td>0.0</td>\n",
       "      <td>0.0</td>\n",
       "      <td>0.0</td>\n",
       "      <td>0.0</td>\n",
       "      <td>0.0</td>\n",
       "      <td>0.0</td>\n",
       "      <td>0.0</td>\n",
       "      <td>1.0</td>\n",
       "      <td>0.0</td>\n",
       "      <td>0.0</td>\n",
       "    </tr>\n",
       "    <tr>\n",
       "      <th>9352</th>\n",
       "      <td>closed</td>\n",
       "      <td>0</td>\n",
       "      <td>0</td>\n",
       "      <td>1</td>\n",
       "      <td>0.0</td>\n",
       "      <td>1</td>\n",
       "      <td>0</td>\n",
       "      <td>-0.084873</td>\n",
       "      <td>OT</td>\n",
       "      <td>UT</td>\n",
       "      <td>...</td>\n",
       "      <td>0.0</td>\n",
       "      <td>0.0</td>\n",
       "      <td>0.0</td>\n",
       "      <td>0.0</td>\n",
       "      <td>0.0</td>\n",
       "      <td>0.0</td>\n",
       "      <td>0.0</td>\n",
       "      <td>1.0</td>\n",
       "      <td>0.0</td>\n",
       "      <td>0.0</td>\n",
       "    </tr>\n",
       "    <tr>\n",
       "      <th>10972</th>\n",
       "      <td>closed</td>\n",
       "      <td>0</td>\n",
       "      <td>0</td>\n",
       "      <td>1</td>\n",
       "      <td>235800.0</td>\n",
       "      <td>0</td>\n",
       "      <td>2</td>\n",
       "      <td>-0.008214</td>\n",
       "      <td>OT</td>\n",
       "      <td>EU</td>\n",
       "      <td>...</td>\n",
       "      <td>0.0</td>\n",
       "      <td>0.0</td>\n",
       "      <td>0.0</td>\n",
       "      <td>0.0</td>\n",
       "      <td>0.0</td>\n",
       "      <td>0.0</td>\n",
       "      <td>0.0</td>\n",
       "      <td>1.0</td>\n",
       "      <td>0.0</td>\n",
       "      <td>0.0</td>\n",
       "    </tr>\n",
       "    <tr>\n",
       "      <th>10995</th>\n",
       "      <td>closed</td>\n",
       "      <td>0</td>\n",
       "      <td>0</td>\n",
       "      <td>1</td>\n",
       "      <td>100000.0</td>\n",
       "      <td>2</td>\n",
       "      <td>6</td>\n",
       "      <td>-3.950719</td>\n",
       "      <td>BZ</td>\n",
       "      <td>NA</td>\n",
       "      <td>...</td>\n",
       "      <td>0.0</td>\n",
       "      <td>0.0</td>\n",
       "      <td>0.0</td>\n",
       "      <td>0.0</td>\n",
       "      <td>0.0</td>\n",
       "      <td>0.0</td>\n",
       "      <td>0.0</td>\n",
       "      <td>0.0</td>\n",
       "      <td>1.0</td>\n",
       "      <td>2.0</td>\n",
       "    </tr>\n",
       "    <tr>\n",
       "      <th>16881</th>\n",
       "      <td>closed</td>\n",
       "      <td>0</td>\n",
       "      <td>0</td>\n",
       "      <td>1</td>\n",
       "      <td>34752500.0</td>\n",
       "      <td>0</td>\n",
       "      <td>1</td>\n",
       "      <td>-0.468172</td>\n",
       "      <td>LE</td>\n",
       "      <td>EU</td>\n",
       "      <td>...</td>\n",
       "      <td>0.0</td>\n",
       "      <td>0.0</td>\n",
       "      <td>0.0</td>\n",
       "      <td>1.0</td>\n",
       "      <td>0.0</td>\n",
       "      <td>0.0</td>\n",
       "      <td>0.0</td>\n",
       "      <td>0.0</td>\n",
       "      <td>0.0</td>\n",
       "      <td>2.0</td>\n",
       "    </tr>\n",
       "    <tr>\n",
       "      <th>17977</th>\n",
       "      <td>closed</td>\n",
       "      <td>0</td>\n",
       "      <td>0</td>\n",
       "      <td>1</td>\n",
       "      <td>12000000.0</td>\n",
       "      <td>0</td>\n",
       "      <td>7</td>\n",
       "      <td>-8.000000</td>\n",
       "      <td>OT</td>\n",
       "      <td>NA</td>\n",
       "      <td>...</td>\n",
       "      <td>0.0</td>\n",
       "      <td>0.0</td>\n",
       "      <td>0.0</td>\n",
       "      <td>0.0</td>\n",
       "      <td>0.0</td>\n",
       "      <td>0.0</td>\n",
       "      <td>1.0</td>\n",
       "      <td>1.0</td>\n",
       "      <td>0.0</td>\n",
       "      <td>0.0</td>\n",
       "    </tr>\n",
       "    <tr>\n",
       "      <th>19024</th>\n",
       "      <td>closed</td>\n",
       "      <td>0</td>\n",
       "      <td>0</td>\n",
       "      <td>1</td>\n",
       "      <td>60000.0</td>\n",
       "      <td>0</td>\n",
       "      <td>2</td>\n",
       "      <td>-0.161533</td>\n",
       "      <td>OT</td>\n",
       "      <td>NA</td>\n",
       "      <td>...</td>\n",
       "      <td>0.0</td>\n",
       "      <td>0.0</td>\n",
       "      <td>0.0</td>\n",
       "      <td>0.0</td>\n",
       "      <td>0.0</td>\n",
       "      <td>0.0</td>\n",
       "      <td>0.0</td>\n",
       "      <td>1.0</td>\n",
       "      <td>0.0</td>\n",
       "      <td>0.0</td>\n",
       "    </tr>\n",
       "    <tr>\n",
       "      <th>20641</th>\n",
       "      <td>closed</td>\n",
       "      <td>0</td>\n",
       "      <td>0</td>\n",
       "      <td>1</td>\n",
       "      <td>15000.0</td>\n",
       "      <td>0</td>\n",
       "      <td>5</td>\n",
       "      <td>-0.429843</td>\n",
       "      <td>BZ</td>\n",
       "      <td>NA</td>\n",
       "      <td>...</td>\n",
       "      <td>0.0</td>\n",
       "      <td>0.0</td>\n",
       "      <td>0.0</td>\n",
       "      <td>0.0</td>\n",
       "      <td>0.0</td>\n",
       "      <td>0.0</td>\n",
       "      <td>0.0</td>\n",
       "      <td>0.0</td>\n",
       "      <td>1.0</td>\n",
       "      <td>0.0</td>\n",
       "    </tr>\n",
       "    <tr>\n",
       "      <th>20707</th>\n",
       "      <td>closed</td>\n",
       "      <td>0</td>\n",
       "      <td>0</td>\n",
       "      <td>1</td>\n",
       "      <td>1500000.0</td>\n",
       "      <td>0</td>\n",
       "      <td>2</td>\n",
       "      <td>-9.138946</td>\n",
       "      <td>LE</td>\n",
       "      <td>NA</td>\n",
       "      <td>...</td>\n",
       "      <td>1.0</td>\n",
       "      <td>0.0</td>\n",
       "      <td>0.0</td>\n",
       "      <td>0.0</td>\n",
       "      <td>0.0</td>\n",
       "      <td>0.0</td>\n",
       "      <td>0.0</td>\n",
       "      <td>1.0</td>\n",
       "      <td>0.0</td>\n",
       "      <td>0.0</td>\n",
       "    </tr>\n",
       "    <tr>\n",
       "      <th>20835</th>\n",
       "      <td>closed</td>\n",
       "      <td>0</td>\n",
       "      <td>0</td>\n",
       "      <td>1</td>\n",
       "      <td>0.0</td>\n",
       "      <td>1</td>\n",
       "      <td>1</td>\n",
       "      <td>-0.424367</td>\n",
       "      <td>OT</td>\n",
       "      <td>NA</td>\n",
       "      <td>...</td>\n",
       "      <td>0.0</td>\n",
       "      <td>0.0</td>\n",
       "      <td>0.0</td>\n",
       "      <td>0.0</td>\n",
       "      <td>0.0</td>\n",
       "      <td>0.0</td>\n",
       "      <td>0.0</td>\n",
       "      <td>0.0</td>\n",
       "      <td>0.0</td>\n",
       "      <td>1.0</td>\n",
       "    </tr>\n",
       "    <tr>\n",
       "      <th>21224</th>\n",
       "      <td>closed</td>\n",
       "      <td>0</td>\n",
       "      <td>0</td>\n",
       "      <td>1</td>\n",
       "      <td>60000.0</td>\n",
       "      <td>0</td>\n",
       "      <td>2</td>\n",
       "      <td>-2.680356</td>\n",
       "      <td>LE</td>\n",
       "      <td>NA</td>\n",
       "      <td>...</td>\n",
       "      <td>1.0</td>\n",
       "      <td>0.0</td>\n",
       "      <td>0.0</td>\n",
       "      <td>0.0</td>\n",
       "      <td>0.0</td>\n",
       "      <td>0.0</td>\n",
       "      <td>0.0</td>\n",
       "      <td>1.0</td>\n",
       "      <td>0.0</td>\n",
       "      <td>0.0</td>\n",
       "    </tr>\n",
       "    <tr>\n",
       "      <th>21644</th>\n",
       "      <td>closed</td>\n",
       "      <td>0</td>\n",
       "      <td>0</td>\n",
       "      <td>1</td>\n",
       "      <td>50000.0</td>\n",
       "      <td>0</td>\n",
       "      <td>0</td>\n",
       "      <td>-0.402464</td>\n",
       "      <td>OT</td>\n",
       "      <td>AS</td>\n",
       "      <td>...</td>\n",
       "      <td>0.0</td>\n",
       "      <td>0.0</td>\n",
       "      <td>0.0</td>\n",
       "      <td>0.0</td>\n",
       "      <td>0.0</td>\n",
       "      <td>0.0</td>\n",
       "      <td>0.0</td>\n",
       "      <td>1.0</td>\n",
       "      <td>0.0</td>\n",
       "      <td>0.0</td>\n",
       "    </tr>\n",
       "    <tr>\n",
       "      <th>22161</th>\n",
       "      <td>closed</td>\n",
       "      <td>0</td>\n",
       "      <td>0</td>\n",
       "      <td>1</td>\n",
       "      <td>12000.0</td>\n",
       "      <td>1</td>\n",
       "      <td>2</td>\n",
       "      <td>-0.164271</td>\n",
       "      <td>OT</td>\n",
       "      <td>UT</td>\n",
       "      <td>...</td>\n",
       "      <td>0.0</td>\n",
       "      <td>0.0</td>\n",
       "      <td>0.0</td>\n",
       "      <td>0.0</td>\n",
       "      <td>0.0</td>\n",
       "      <td>0.0</td>\n",
       "      <td>0.0</td>\n",
       "      <td>1.0</td>\n",
       "      <td>0.0</td>\n",
       "      <td>0.0</td>\n",
       "    </tr>\n",
       "    <tr>\n",
       "      <th>22871</th>\n",
       "      <td>closed</td>\n",
       "      <td>0</td>\n",
       "      <td>0</td>\n",
       "      <td>1</td>\n",
       "      <td>400000.0</td>\n",
       "      <td>1</td>\n",
       "      <td>5</td>\n",
       "      <td>-0.413415</td>\n",
       "      <td>LE</td>\n",
       "      <td>AS</td>\n",
       "      <td>...</td>\n",
       "      <td>0.0</td>\n",
       "      <td>0.0</td>\n",
       "      <td>0.0</td>\n",
       "      <td>0.0</td>\n",
       "      <td>0.0</td>\n",
       "      <td>0.0</td>\n",
       "      <td>0.0</td>\n",
       "      <td>1.0</td>\n",
       "      <td>0.0</td>\n",
       "      <td>0.0</td>\n",
       "    </tr>\n",
       "    <tr>\n",
       "      <th>23338</th>\n",
       "      <td>closed</td>\n",
       "      <td>0</td>\n",
       "      <td>0</td>\n",
       "      <td>1</td>\n",
       "      <td>16000000.0</td>\n",
       "      <td>0</td>\n",
       "      <td>1</td>\n",
       "      <td>-0.900753</td>\n",
       "      <td>OT</td>\n",
       "      <td>NA</td>\n",
       "      <td>...</td>\n",
       "      <td>0.0</td>\n",
       "      <td>0.0</td>\n",
       "      <td>0.0</td>\n",
       "      <td>1.0</td>\n",
       "      <td>0.0</td>\n",
       "      <td>0.0</td>\n",
       "      <td>0.0</td>\n",
       "      <td>1.0</td>\n",
       "      <td>0.0</td>\n",
       "      <td>0.0</td>\n",
       "    </tr>\n",
       "    <tr>\n",
       "      <th>23562</th>\n",
       "      <td>closed</td>\n",
       "      <td>0</td>\n",
       "      <td>0</td>\n",
       "      <td>1</td>\n",
       "      <td>6430000.0</td>\n",
       "      <td>0</td>\n",
       "      <td>1</td>\n",
       "      <td>-2.997947</td>\n",
       "      <td>OT</td>\n",
       "      <td>NA</td>\n",
       "      <td>...</td>\n",
       "      <td>0.0</td>\n",
       "      <td>0.0</td>\n",
       "      <td>0.0</td>\n",
       "      <td>0.0</td>\n",
       "      <td>1.0</td>\n",
       "      <td>0.0</td>\n",
       "      <td>0.0</td>\n",
       "      <td>1.0</td>\n",
       "      <td>0.0</td>\n",
       "      <td>0.0</td>\n",
       "    </tr>\n",
       "    <tr>\n",
       "      <th>26822</th>\n",
       "      <td>closed</td>\n",
       "      <td>0</td>\n",
       "      <td>0</td>\n",
       "      <td>1</td>\n",
       "      <td>60000.0</td>\n",
       "      <td>1</td>\n",
       "      <td>7</td>\n",
       "      <td>-8.339493</td>\n",
       "      <td>BZ</td>\n",
       "      <td>NA</td>\n",
       "      <td>...</td>\n",
       "      <td>0.0</td>\n",
       "      <td>0.0</td>\n",
       "      <td>0.0</td>\n",
       "      <td>0.0</td>\n",
       "      <td>0.0</td>\n",
       "      <td>0.0</td>\n",
       "      <td>0.0</td>\n",
       "      <td>1.0</td>\n",
       "      <td>0.0</td>\n",
       "      <td>0.0</td>\n",
       "    </tr>\n",
       "    <tr>\n",
       "      <th>27194</th>\n",
       "      <td>closed</td>\n",
       "      <td>0</td>\n",
       "      <td>0</td>\n",
       "      <td>1</td>\n",
       "      <td>9523.0</td>\n",
       "      <td>1</td>\n",
       "      <td>2</td>\n",
       "      <td>-0.824093</td>\n",
       "      <td>BZ</td>\n",
       "      <td>UT</td>\n",
       "      <td>...</td>\n",
       "      <td>0.0</td>\n",
       "      <td>0.0</td>\n",
       "      <td>0.0</td>\n",
       "      <td>0.0</td>\n",
       "      <td>0.0</td>\n",
       "      <td>0.0</td>\n",
       "      <td>0.0</td>\n",
       "      <td>1.0</td>\n",
       "      <td>0.0</td>\n",
       "      <td>0.0</td>\n",
       "    </tr>\n",
       "    <tr>\n",
       "      <th>29795</th>\n",
       "      <td>closed</td>\n",
       "      <td>0</td>\n",
       "      <td>0</td>\n",
       "      <td>1</td>\n",
       "      <td>25000000.0</td>\n",
       "      <td>1</td>\n",
       "      <td>1</td>\n",
       "      <td>-0.331280</td>\n",
       "      <td>OT</td>\n",
       "      <td>NA</td>\n",
       "      <td>...</td>\n",
       "      <td>0.0</td>\n",
       "      <td>0.0</td>\n",
       "      <td>0.0</td>\n",
       "      <td>1.0</td>\n",
       "      <td>0.0</td>\n",
       "      <td>0.0</td>\n",
       "      <td>0.0</td>\n",
       "      <td>1.0</td>\n",
       "      <td>0.0</td>\n",
       "      <td>0.0</td>\n",
       "    </tr>\n",
       "    <tr>\n",
       "      <th>31134</th>\n",
       "      <td>closed</td>\n",
       "      <td>0</td>\n",
       "      <td>0</td>\n",
       "      <td>1</td>\n",
       "      <td>50000.0</td>\n",
       "      <td>1</td>\n",
       "      <td>1</td>\n",
       "      <td>-0.060233</td>\n",
       "      <td>BZ</td>\n",
       "      <td>UT</td>\n",
       "      <td>...</td>\n",
       "      <td>0.0</td>\n",
       "      <td>0.0</td>\n",
       "      <td>0.0</td>\n",
       "      <td>0.0</td>\n",
       "      <td>0.0</td>\n",
       "      <td>0.0</td>\n",
       "      <td>0.0</td>\n",
       "      <td>1.0</td>\n",
       "      <td>0.0</td>\n",
       "      <td>0.0</td>\n",
       "    </tr>\n",
       "    <tr>\n",
       "      <th>31372</th>\n",
       "      <td>closed</td>\n",
       "      <td>0</td>\n",
       "      <td>0</td>\n",
       "      <td>1</td>\n",
       "      <td>0.0</td>\n",
       "      <td>1</td>\n",
       "      <td>0</td>\n",
       "      <td>-0.240931</td>\n",
       "      <td>OT</td>\n",
       "      <td>NA</td>\n",
       "      <td>...</td>\n",
       "      <td>0.0</td>\n",
       "      <td>0.0</td>\n",
       "      <td>0.0</td>\n",
       "      <td>0.0</td>\n",
       "      <td>0.0</td>\n",
       "      <td>0.0</td>\n",
       "      <td>0.0</td>\n",
       "      <td>1.0</td>\n",
       "      <td>0.0</td>\n",
       "      <td>0.0</td>\n",
       "    </tr>\n",
       "  </tbody>\n",
       "</table>\n",
       "<p>28 rows × 22 columns</p>\n",
       "</div>"
      ],
      "text/plain": [
       "       status  investment_rounds  invested_companies  funding_rounds  \\\n",
       "762    closed                  0                   0               1   \n",
       "1444   closed                  0                   0               1   \n",
       "3092   closed                  0                   0               1   \n",
       "4321   closed                  0                   0               1   \n",
       "6926   closed                  0                   0               2   \n",
       "8434   closed                  0                   0               1   \n",
       "8586   closed                  0                   0               1   \n",
       "8655   closed                  0                   0               1   \n",
       "9352   closed                  0                   0               1   \n",
       "10972  closed                  0                   0               1   \n",
       "10995  closed                  0                   0               1   \n",
       "16881  closed                  0                   0               1   \n",
       "17977  closed                  0                   0               1   \n",
       "19024  closed                  0                   0               1   \n",
       "20641  closed                  0                   0               1   \n",
       "20707  closed                  0                   0               1   \n",
       "20835  closed                  0                   0               1   \n",
       "21224  closed                  0                   0               1   \n",
       "21644  closed                  0                   0               1   \n",
       "22161  closed                  0                   0               1   \n",
       "22871  closed                  0                   0               1   \n",
       "23338  closed                  0                   0               1   \n",
       "23562  closed                  0                   0               1   \n",
       "26822  closed                  0                   0               1   \n",
       "27194  closed                  0                   0               1   \n",
       "29795  closed                  0                   0               1   \n",
       "31134  closed                  0                   0               1   \n",
       "31372  closed                  0                   0               1   \n",
       "\n",
       "       funding_total_usd  milestones  relationships       age category  \\\n",
       "762              50000.0           0              2 -0.161533       OT   \n",
       "1444                 0.0           1              2 -0.599589       LE   \n",
       "3092             40000.0           0              0 -0.079398       BZ   \n",
       "4321                 0.0           1              2 -0.331280       OT   \n",
       "6926                 0.0           1              2 -0.750171       OT   \n",
       "8434            500000.0           0              0 -0.109514       OT   \n",
       "8586                 0.0           1              2 -2.732375       LE   \n",
       "8655            100000.0           0              2 -0.161533       OT   \n",
       "9352                 0.0           1              0 -0.084873       OT   \n",
       "10972           235800.0           0              2 -0.008214       OT   \n",
       "10995           100000.0           2              6 -3.950719       BZ   \n",
       "16881         34752500.0           0              1 -0.468172       LE   \n",
       "17977         12000000.0           0              7 -8.000000       OT   \n",
       "19024            60000.0           0              2 -0.161533       OT   \n",
       "20641            15000.0           0              5 -0.429843       BZ   \n",
       "20707          1500000.0           0              2 -9.138946       LE   \n",
       "20835                0.0           1              1 -0.424367       OT   \n",
       "21224            60000.0           0              2 -2.680356       LE   \n",
       "21644            50000.0           0              0 -0.402464       OT   \n",
       "22161            12000.0           1              2 -0.164271       OT   \n",
       "22871           400000.0           1              5 -0.413415       LE   \n",
       "23338         16000000.0           0              1 -0.900753       OT   \n",
       "23562          6430000.0           0              1 -2.997947       OT   \n",
       "26822            60000.0           1              7 -8.339493       BZ   \n",
       "27194             9523.0           1              2 -0.824093       BZ   \n",
       "29795         25000000.0           1              1 -0.331280       OT   \n",
       "31134            50000.0           1              1 -0.060233       BZ   \n",
       "31372                0.0           1              0 -0.240931       OT   \n",
       "\n",
       "      continent  ...  other  post-ipo  private-equity  series-a  series-b  \\\n",
       "762          NA  ...    0.0       0.0             0.0       0.0       0.0   \n",
       "1444         NA  ...    0.0       0.0             0.0       0.0       0.0   \n",
       "3092         UT  ...    0.0       0.0             0.0       0.0       0.0   \n",
       "4321         NA  ...    0.0       0.0             0.0       0.0       0.0   \n",
       "6926         NA  ...    0.0       0.0             0.0       0.0       0.0   \n",
       "8434         UT  ...    0.0       0.0             0.0       0.0       0.0   \n",
       "8586         NA  ...    0.0       0.0             0.0       0.0       0.0   \n",
       "8655         UT  ...    0.0       0.0             0.0       0.0       0.0   \n",
       "9352         UT  ...    0.0       0.0             0.0       0.0       0.0   \n",
       "10972        EU  ...    0.0       0.0             0.0       0.0       0.0   \n",
       "10995        NA  ...    0.0       0.0             0.0       0.0       0.0   \n",
       "16881        EU  ...    0.0       0.0             0.0       1.0       0.0   \n",
       "17977        NA  ...    0.0       0.0             0.0       0.0       0.0   \n",
       "19024        NA  ...    0.0       0.0             0.0       0.0       0.0   \n",
       "20641        NA  ...    0.0       0.0             0.0       0.0       0.0   \n",
       "20707        NA  ...    1.0       0.0             0.0       0.0       0.0   \n",
       "20835        NA  ...    0.0       0.0             0.0       0.0       0.0   \n",
       "21224        NA  ...    1.0       0.0             0.0       0.0       0.0   \n",
       "21644        AS  ...    0.0       0.0             0.0       0.0       0.0   \n",
       "22161        UT  ...    0.0       0.0             0.0       0.0       0.0   \n",
       "22871        AS  ...    0.0       0.0             0.0       0.0       0.0   \n",
       "23338        NA  ...    0.0       0.0             0.0       1.0       0.0   \n",
       "23562        NA  ...    0.0       0.0             0.0       0.0       1.0   \n",
       "26822        NA  ...    0.0       0.0             0.0       0.0       0.0   \n",
       "27194        UT  ...    0.0       0.0             0.0       0.0       0.0   \n",
       "29795        NA  ...    0.0       0.0             0.0       1.0       0.0   \n",
       "31134        UT  ...    0.0       0.0             0.0       0.0       0.0   \n",
       "31372        NA  ...    0.0       0.0             0.0       0.0       0.0   \n",
       "\n",
       "       series-c+  venture  closed  dev  operating  \n",
       "762          0.0      0.0     0.0  0.0        1.0  \n",
       "1444         0.0      0.0     1.0  0.0        0.0  \n",
       "3092         0.0      0.0     1.0  0.0        0.0  \n",
       "4321         0.0      0.0     1.0  0.0        0.0  \n",
       "6926         0.0      0.0     0.0  0.0        2.0  \n",
       "8434         0.0      0.0     1.0  0.0        0.0  \n",
       "8586         0.0      0.0     1.0  0.0        0.0  \n",
       "8655         0.0      0.0     1.0  0.0        0.0  \n",
       "9352         0.0      0.0     1.0  0.0        0.0  \n",
       "10972        0.0      0.0     1.0  0.0        0.0  \n",
       "10995        0.0      0.0     0.0  1.0        2.0  \n",
       "16881        0.0      0.0     0.0  0.0        2.0  \n",
       "17977        0.0      1.0     1.0  0.0        0.0  \n",
       "19024        0.0      0.0     1.0  0.0        0.0  \n",
       "20641        0.0      0.0     0.0  1.0        0.0  \n",
       "20707        0.0      0.0     1.0  0.0        0.0  \n",
       "20835        0.0      0.0     0.0  0.0        1.0  \n",
       "21224        0.0      0.0     1.0  0.0        0.0  \n",
       "21644        0.0      0.0     1.0  0.0        0.0  \n",
       "22161        0.0      0.0     1.0  0.0        0.0  \n",
       "22871        0.0      0.0     1.0  0.0        0.0  \n",
       "23338        0.0      0.0     1.0  0.0        0.0  \n",
       "23562        0.0      0.0     1.0  0.0        0.0  \n",
       "26822        0.0      0.0     1.0  0.0        0.0  \n",
       "27194        0.0      0.0     1.0  0.0        0.0  \n",
       "29795        0.0      0.0     1.0  0.0        0.0  \n",
       "31134        0.0      0.0     1.0  0.0        0.0  \n",
       "31372        0.0      0.0     1.0  0.0        0.0  \n",
       "\n",
       "[28 rows x 22 columns]"
      ]
     },
     "execution_count": 62,
     "metadata": {},
     "output_type": "execute_result"
    }
   ],
   "source": [
    "# Determining the rows with negative age values\n",
    "data[data.age < 0]"
   ]
  },
  {
   "cell_type": "code",
   "execution_count": 63,
   "metadata": {
    "execution": {
     "iopub.execute_input": "2021-05-09T10:37:05.789142Z",
     "iopub.status.busy": "2021-05-09T10:37:05.788465Z",
     "iopub.status.idle": "2021-05-09T10:37:05.795863Z",
     "shell.execute_reply": "2021-05-09T10:37:05.796362Z"
    },
    "id": "2UjSflpG5_YQ",
    "papermill": {
     "duration": 0.098325,
     "end_time": "2021-05-09T10:37:05.796549",
     "exception": false,
     "start_time": "2021-05-09T10:37:05.698224",
     "status": "completed"
    },
    "tags": []
   },
   "outputs": [],
   "source": [
    "#Dropping the rows with negative age values\n",
    "data.drop((data.loc[data.age < 0 ].index), axis=0, inplace=True)"
   ]
  },
  {
   "cell_type": "code",
   "execution_count": 64,
   "metadata": {
    "execution": {
     "iopub.execute_input": "2021-05-09T10:37:05.998472Z",
     "iopub.status.busy": "2021-05-09T10:37:05.997671Z",
     "iopub.status.idle": "2021-05-09T10:37:06.301327Z",
     "shell.execute_reply": "2021-05-09T10:37:06.301833Z"
    },
    "id": "Ts1zy_7O5_YR",
    "outputId": "00007d32-910e-46b6-8d1e-a2a64f1d95ef",
    "papermill": {
     "duration": 0.416312,
     "end_time": "2021-05-09T10:37:06.302029",
     "exception": false,
     "start_time": "2021-05-09T10:37:05.885717",
     "status": "completed"
    },
    "tags": []
   },
   "outputs": [
    {
     "data": {
      "image/png": "[encoded data removed]",
      "text/plain": [
       "<Figure size 432x288 with 1 Axes>"
      ]
     },
     "metadata": {
      "needs_background": "light"
     },
     "output_type": "display_data"
    }
   ],
   "source": [
    "# Due to null values in age I will create a new feature (age_set)\n",
    "# Exploration to determine number of classes for the age_set feature\n",
    "data.age.hist(bins=50)\n",
    "plt.show()"
   ]
  },
  {
   "cell_type": "markdown",
   "metadata": {
    "id": "tK1yYOBr5_YR",
    "papermill": {
     "duration": 0.085128,
     "end_time": "2021-05-09T10:37:06.473168",
     "exception": false,
     "start_time": "2021-05-09T10:37:06.388040",
     "status": "completed"
    },
    "tags": []
   },
   "source": [
    "**Observation**\n",
    "\n",
    "1. Concentration of age is below 20 and therefore we will adopt 2 classes(young, old and other for null values)"
   ]
  },
  {
   "cell_type": "code",
   "execution_count": 65,
   "metadata": {
    "execution": {
     "iopub.execute_input": "2021-05-09T10:37:06.671339Z",
     "iopub.status.busy": "2021-05-09T10:37:06.666118Z",
     "iopub.status.idle": "2021-05-09T10:37:07.220779Z",
     "shell.execute_reply": "2021-05-09T10:37:07.221273Z"
    },
    "id": "cYmLbPh65_YR",
    "papermill": {
     "duration": 0.660959,
     "end_time": "2021-05-09T10:37:07.221462",
     "exception": false,
     "start_time": "2021-05-09T10:37:06.560503",
     "status": "completed"
    },
    "tags": []
   },
   "outputs": [],
   "source": [
    "age_set = []\n",
    "\n",
    "for i in range(data.shape[0]):\n",
    "    x = data.age.iloc[i]\n",
    "\n",
    "    if x <= 20:\n",
    "        age_set.append('young')\n",
    "    elif x > 20:\n",
    "        age_set.append('old')\n",
    "    else:\n",
    "        age_set.append('other')\n"
   ]
  },
  {
   "cell_type": "code",
   "execution_count": 66,
   "metadata": {
    "execution": {
     "iopub.execute_input": "2021-05-09T10:37:07.414740Z",
     "iopub.status.busy": "2021-05-09T10:37:07.410997Z",
     "iopub.status.idle": "2021-05-09T10:37:07.417869Z",
     "shell.execute_reply": "2021-05-09T10:37:07.418359Z"
    },
    "id": "KIX2uljM5_YS",
    "papermill": {
     "duration": 0.110142,
     "end_time": "2021-05-09T10:37:07.418553",
     "exception": false,
     "start_time": "2021-05-09T10:37:07.308411",
     "status": "completed"
    },
    "tags": []
   },
   "outputs": [],
   "source": [
    "data.loc[:, 'age_set'] = age_set "
   ]
  },
  {
   "cell_type": "markdown",
   "metadata": {
    "id": "bl1Gt7S-5_YS",
    "papermill": {
     "duration": 0.085852,
     "end_time": "2021-05-09T10:37:07.593065",
     "exception": false,
     "start_time": "2021-05-09T10:37:07.507213",
     "status": "completed"
    },
    "tags": []
   },
   "source": [
    "#### Label Encoding and One-Hot Encoding\n",
    "\n",
    "status and age_set features need to be converted to what models will understand"
   ]
  },
  {
   "cell_type": "code",
   "execution_count": 67,
   "metadata": {
    "execution": {
     "iopub.execute_input": "2021-05-09T10:37:07.773459Z",
     "iopub.status.busy": "2021-05-09T10:37:07.772662Z",
     "iopub.status.idle": "2021-05-09T10:37:07.947697Z",
     "shell.execute_reply": "2021-05-09T10:37:07.947058Z"
    },
    "id": "B4XAE9bM5_YT",
    "papermill": {
     "duration": 0.266505,
     "end_time": "2021-05-09T10:37:07.947847",
     "exception": false,
     "start_time": "2021-05-09T10:37:07.681342",
     "status": "completed"
    },
    "tags": []
   },
   "outputs": [],
   "source": [
    "from sklearn.preprocessing import LabelEncoder, OneHotEncoder, OrdinalEncoder"
   ]
  },
  {
   "cell_type": "code",
   "execution_count": 68,
   "metadata": {
    "execution": {
     "iopub.execute_input": "2021-05-09T10:37:08.144632Z",
     "iopub.status.busy": "2021-05-09T10:37:08.143610Z",
     "iopub.status.idle": "2021-05-09T10:37:08.201722Z",
     "shell.execute_reply": "2021-05-09T10:37:08.201007Z"
    },
    "id": "3lkQ7L_55_YT",
    "papermill": {
     "duration": 0.16547,
     "end_time": "2021-05-09T10:37:08.201863",
     "exception": false,
     "start_time": "2021-05-09T10:37:08.036393",
     "status": "completed"
    },
    "tags": []
   },
   "outputs": [],
   "source": [
    "status_le = LabelEncoder()\n",
    "ageset_le = OrdinalEncoder()\n",
    "continent_oe = OneHotEncoder(drop='first', sparse=False)\n",
    "category_oe = OneHotEncoder(drop='first', sparse=False)\n",
    "\n",
    "status_transformed = status_le.fit_transform(data['status'])\n",
    "ageset_transformed = ageset_le.fit_transform(data[['age_set']])\n",
    "continent_transformed = continent_oe.fit_transform(data[['continent']])\n",
    "category_transformed = category_oe.fit_transform(data[['category']])"
   ]
  },
  {
   "cell_type": "code",
   "execution_count": 69,
   "metadata": {
    "execution": {
     "iopub.execute_input": "2021-05-09T10:37:08.568503Z",
     "iopub.status.busy": "2021-05-09T10:37:08.567686Z",
     "iopub.status.idle": "2021-05-09T10:37:08.572160Z",
     "shell.execute_reply": "2021-05-09T10:37:08.571612Z"
    },
    "id": "YjCkEr2K5_YU",
    "outputId": "325d5bcb-05a1-4f4c-f513-901fba006a9f",
    "papermill": {
     "duration": 0.097225,
     "end_time": "2021-05-09T10:37:08.572320",
     "exception": false,
     "start_time": "2021-05-09T10:37:08.475095",
     "status": "completed"
    },
    "tags": []
   },
   "outputs": [
    {
     "name": "stderr",
     "output_type": "stream",
     "text": [
      "/Users/Chinmay/.local/lib/python3.7/site-packages/sklearn/utils/deprecation.py:87: FutureWarning: Function get_feature_names is deprecated; get_feature_names is deprecated in 1.0 and will be removed in 1.2. Please use get_feature_names_out instead.\n",
      "  warnings.warn(msg, category=FutureWarning)\n"
     ]
    },
    {
     "data": {
      "text/plain": [
       "array(['x0_AS', 'x0_EU', 'x0_NA', 'x0_SA', 'x0_UT'], dtype=object)"
      ]
     },
     "execution_count": 69,
     "metadata": {},
     "output_type": "execute_result"
    }
   ],
   "source": [
    "continent_oe.get_feature_names()"
   ]
  },
  {
   "cell_type": "code",
   "execution_count": 70,
   "metadata": {
    "execution": {
     "iopub.execute_input": "2021-05-09T10:37:08.756407Z",
     "iopub.status.busy": "2021-05-09T10:37:08.755369Z",
     "iopub.status.idle": "2021-05-09T10:37:08.757705Z",
     "shell.execute_reply": "2021-05-09T10:37:08.758198Z"
    },
    "id": "jAi_koM35_YV",
    "papermill": {
     "duration": 0.095253,
     "end_time": "2021-05-09T10:37:08.758368",
     "exception": false,
     "start_time": "2021-05-09T10:37:08.663115",
     "status": "completed"
    },
    "tags": []
   },
   "outputs": [],
   "source": [
    "continent_ = pd.DataFrame(continent_transformed, columns=['AS', 'EU', 'NA', 'SA', 'UT'])\n",
    "category_ = pd.DataFrame(category_transformed, columns=['BZ', 'HE', 'LE', 'OT', 'PC', 'TR'])"
   ]
  },
  {
   "cell_type": "code",
   "execution_count": 71,
   "metadata": {
    "execution": {
     "iopub.execute_input": "2021-05-09T10:37:08.995383Z",
     "iopub.status.busy": "2021-05-09T10:37:08.994375Z",
     "iopub.status.idle": "2021-05-09T10:37:08.999408Z",
     "shell.execute_reply": "2021-05-09T10:37:08.999858Z"
    },
    "id": "X5aCzbsX5_YV",
    "papermill": {
     "duration": 0.096455,
     "end_time": "2021-05-09T10:37:09.000079",
     "exception": false,
     "start_time": "2021-05-09T10:37:08.903624",
     "status": "completed"
    },
    "tags": []
   },
   "outputs": [],
   "source": [
    "data.reset_index(inplace=True)"
   ]
  },
  {
   "cell_type": "code",
   "execution_count": 72,
   "metadata": {
    "execution": {
     "iopub.execute_input": "2021-05-09T10:37:09.178384Z",
     "iopub.status.busy": "2021-05-09T10:37:09.177400Z",
     "iopub.status.idle": "2021-05-09T10:37:09.190597Z",
     "shell.execute_reply": "2021-05-09T10:37:09.189898Z"
    },
    "id": "dR_XKqlF5_YV",
    "papermill": {
     "duration": 0.1032,
     "end_time": "2021-05-09T10:37:09.190739",
     "exception": false,
     "start_time": "2021-05-09T10:37:09.087539",
     "status": "completed"
    },
    "tags": []
   },
   "outputs": [],
   "source": [
    "full_d = pd.concat([data, continent_, category_], axis=1)"
   ]
  },
  {
   "cell_type": "code",
   "execution_count": 73,
   "metadata": {
    "execution": {
     "iopub.execute_input": "2021-05-09T10:37:09.372570Z",
     "iopub.status.busy": "2021-05-09T10:37:09.371876Z",
     "iopub.status.idle": "2021-05-09T10:37:09.377680Z",
     "shell.execute_reply": "2021-05-09T10:37:09.378152Z"
    },
    "id": "PA46vANv5_YV",
    "papermill": {
     "duration": 0.098913,
     "end_time": "2021-05-09T10:37:09.378364",
     "exception": false,
     "start_time": "2021-05-09T10:37:09.279451",
     "status": "completed"
    },
    "tags": []
   },
   "outputs": [],
   "source": [
    "full_d = full_d.assign(status = status_transformed, age_set= ageset_transformed)"
   ]
  },
  {
   "cell_type": "code",
   "execution_count": 74,
   "metadata": {
    "execution": {
     "iopub.execute_input": "2021-05-09T10:37:09.556317Z",
     "iopub.status.busy": "2021-05-09T10:37:09.555585Z",
     "iopub.status.idle": "2021-05-09T10:37:09.566712Z",
     "shell.execute_reply": "2021-05-09T10:37:09.567223Z"
    },
    "id": "cJhq2CvG5_YW",
    "papermill": {
     "duration": 0.101297,
     "end_time": "2021-05-09T10:37:09.567412",
     "exception": false,
     "start_time": "2021-05-09T10:37:09.466115",
     "status": "completed"
    },
    "tags": []
   },
   "outputs": [],
   "source": [
    "full_d.drop(['age', 'category', 'continent', 'index'], axis=1, inplace=True)"
   ]
  },
  {
   "cell_type": "markdown",
   "metadata": {
    "id": "boxaqfqs5_YW",
    "papermill": {
     "duration": 0.087876,
     "end_time": "2021-05-09T10:37:09.742958",
     "exception": false,
     "start_time": "2021-05-09T10:37:09.655082",
     "status": "completed"
    },
    "tags": []
   },
   "source": [
    "#### Scaling\n",
    "\n",
    "Scaling will be done to: funding_total_usd because it has extremely large values\t"
   ]
  },
  {
   "cell_type": "code",
   "execution_count": 75,
   "metadata": {
    "execution": {
     "iopub.execute_input": "2021-05-09T10:37:09.919457Z",
     "iopub.status.busy": "2021-05-09T10:37:09.918788Z",
     "iopub.status.idle": "2021-05-09T10:37:09.922261Z",
     "shell.execute_reply": "2021-05-09T10:37:09.922726Z"
    },
    "id": "j4Gcioz95_YW",
    "papermill": {
     "duration": 0.093379,
     "end_time": "2021-05-09T10:37:09.922903",
     "exception": false,
     "start_time": "2021-05-09T10:37:09.829524",
     "status": "completed"
    },
    "tags": []
   },
   "outputs": [],
   "source": [
    "from sklearn.preprocessing import StandardScaler"
   ]
  },
  {
   "cell_type": "code",
   "execution_count": 76,
   "metadata": {
    "execution": {
     "iopub.execute_input": "2021-05-09T10:37:10.106602Z",
     "iopub.status.busy": "2021-05-09T10:37:10.105897Z",
     "iopub.status.idle": "2021-05-09T10:37:10.116948Z",
     "shell.execute_reply": "2021-05-09T10:37:10.117453Z"
    },
    "id": "8JHKy2FH5_YW",
    "papermill": {
     "duration": 0.105496,
     "end_time": "2021-05-09T10:37:10.117651",
     "exception": false,
     "start_time": "2021-05-09T10:37:10.012155",
     "status": "completed"
    },
    "tags": []
   },
   "outputs": [],
   "source": [
    "funding_scaler = StandardScaler()\n",
    "\n",
    "funding_transformed = funding_scaler.fit_transform(full_d[['funding_total_usd']])"
   ]
  },
  {
   "cell_type": "code",
   "execution_count": 77,
   "metadata": {
    "execution": {
     "iopub.execute_input": "2021-05-09T10:37:10.301992Z",
     "iopub.status.busy": "2021-05-09T10:37:10.301345Z",
     "iopub.status.idle": "2021-05-09T10:37:10.306887Z",
     "shell.execute_reply": "2021-05-09T10:37:10.306248Z"
    },
    "id": "K8pFrdIf5_YX",
    "papermill": {
     "duration": 0.098989,
     "end_time": "2021-05-09T10:37:10.307033",
     "exception": false,
     "start_time": "2021-05-09T10:37:10.208044",
     "status": "completed"
    },
    "tags": []
   },
   "outputs": [],
   "source": [
    "full_d = full_d.assign(funding_total_usd = funding_transformed)"
   ]
  },
  {
   "cell_type": "markdown",
   "metadata": {
    "papermill": {
     "duration": 0.093458,
     "end_time": "2021-05-09T10:37:10.490965",
     "exception": false,
     "start_time": "2021-05-09T10:37:10.397507",
     "status": "completed"
    },
    "tags": []
   },
   "source": [
    "**Observation**\n",
    "\n",
    "1. The process above is not necessary to be repeated. Therefore, a copy of the transformed data will be saved in s3 bucckets after splitting into train and test data"
   ]
  },
  {
   "cell_type": "markdown",
   "metadata": {
    "papermill": {
     "duration": 0.087832,
     "end_time": "2021-05-09T10:37:10.666621",
     "exception": false,
     "start_time": "2021-05-09T10:37:10.578789",
     "status": "completed"
    },
    "tags": []
   },
   "source": [
    "### Train Test Splitting"
   ]
  },
  {
   "cell_type": "code",
   "execution_count": 78,
   "metadata": {
    "execution": {
     "iopub.execute_input": "2021-05-09T10:37:10.843975Z",
     "iopub.status.busy": "2021-05-09T10:37:10.843342Z",
     "iopub.status.idle": "2021-05-09T10:37:10.914596Z",
     "shell.execute_reply": "2021-05-09T10:37:10.913841Z"
    },
    "papermill": {
     "duration": 0.161131,
     "end_time": "2021-05-09T10:37:10.914737",
     "exception": false,
     "start_time": "2021-05-09T10:37:10.753606",
     "status": "completed"
    },
    "tags": []
   },
   "outputs": [],
   "source": [
    "from sklearn.model_selection import train_test_split"
   ]
  },
  {
   "cell_type": "code",
   "execution_count": 79,
   "metadata": {
    "execution": {
     "iopub.execute_input": "2021-05-09T10:37:11.104805Z",
     "iopub.status.busy": "2021-05-09T10:37:11.104092Z",
     "iopub.status.idle": "2021-05-09T10:37:11.117075Z",
     "shell.execute_reply": "2021-05-09T10:37:11.116365Z"
    },
    "papermill": {
     "duration": 0.114627,
     "end_time": "2021-05-09T10:37:11.117240",
     "exception": false,
     "start_time": "2021-05-09T10:37:11.002613",
     "status": "completed"
    },
    "tags": []
   },
   "outputs": [],
   "source": [
    "X_train, X_test, y_train, y_test = train_test_split(full_d.drop(['status', 'invested_companies', 'investment_rounds', 'AS', 'EU', 'NA', 'SA', 'UT', 'BZ', 'HE', 'LE', 'OT', 'PC',\n",
    "       'TR'], axis=1), full_d['status'], test_size=.3, random_state=42)"
   ]
  },
  {
   "cell_type": "code",
   "execution_count": 115,
   "metadata": {},
   "outputs": [
    {
     "data": {
      "text/plain": [
       "31679"
      ]
     },
     "execution_count": 115,
     "metadata": {},
     "output_type": "execute_result"
    }
   ],
   "source": [
    "full_d['status'].value_counts().sum()"
   ]
  },
  {
   "cell_type": "code",
   "execution_count": 80,
   "metadata": {
    "execution": {
     "iopub.execute_input": "2021-05-09T10:37:11.299236Z",
     "iopub.status.busy": "2021-05-09T10:37:11.298537Z",
     "iopub.status.idle": "2021-05-09T10:37:11.816386Z",
     "shell.execute_reply": "2021-05-09T10:37:11.815801Z"
    },
    "papermill": {
     "duration": 0.611673,
     "end_time": "2021-05-09T10:37:11.816540",
     "exception": false,
     "start_time": "2021-05-09T10:37:11.204867",
     "status": "completed"
    },
    "tags": []
   },
   "outputs": [],
   "source": [
    "# import os\n",
    "\n",
    "# Saving Train Data to Buckets\n",
    "pd.concat([y_train, X_train], axis=1).to_csv('./train.csv', index=False)\n",
    "\n",
    "#s3 = boto3.resource('s3')\n",
    "#s3.Object(bucket_name, os.path.join(prefix, 'train/train.csv')).upload_file('./train.csv')\n",
    "# s3_input_train = sagemaker.TrainingInput(s3_data='s3://{}/{}/train'.format(bucket_name,prefix), content_type='csv')"
   ]
  },
  {
   "cell_type": "code",
   "execution_count": 81,
   "metadata": {
    "execution": {
     "iopub.execute_input": "2021-05-09T10:37:12.004946Z",
     "iopub.status.busy": "2021-05-09T10:37:12.000941Z",
     "iopub.status.idle": "2021-05-09T10:37:12.220022Z",
     "shell.execute_reply": "2021-05-09T10:37:12.220593Z"
    },
    "papermill": {
     "duration": 0.316136,
     "end_time": "2021-05-09T10:37:12.220784",
     "exception": false,
     "start_time": "2021-05-09T10:37:11.904648",
     "status": "completed"
    },
    "tags": []
   },
   "outputs": [],
   "source": [
    "# Saving Test Data to Buckets\n",
    "pd.concat([y_test, X_test], axis=1).to_csv('./test.csv', index=False)\n",
    "\n",
    "#s3.Object(bucket_name, os.path.join(prefix, 'test/test.csv')).upload_file('./test.csv')\n",
    "#s3_input_test = sagemaker.TrainingInput(s3_data='s3://{}/{}/test'.format(bucket_name,prefix), content_type='csv')"
   ]
  },
  {
   "cell_type": "code",
   "execution_count": 82,
   "metadata": {
    "papermill": {
     "duration": 0.087827,
     "end_time": "2021-05-09T10:37:12.408274",
     "exception": false,
     "start_time": "2021-05-09T10:37:12.320447",
     "status": "completed"
    },
    "tags": []
   },
   "outputs": [
    {
     "data": {
      "text/html": [
       "<div>\n",
       "<style scoped>\n",
       "    .dataframe tbody tr th:only-of-type {\n",
       "        vertical-align: middle;\n",
       "    }\n",
       "\n",
       "    .dataframe tbody tr th {\n",
       "        vertical-align: top;\n",
       "    }\n",
       "\n",
       "    .dataframe thead th {\n",
       "        text-align: right;\n",
       "    }\n",
       "</style>\n",
       "<table border=\"1\" class=\"dataframe\">\n",
       "  <thead>\n",
       "    <tr style=\"text-align: right;\">\n",
       "      <th></th>\n",
       "      <th>funding_rounds</th>\n",
       "      <th>funding_total_usd</th>\n",
       "      <th>milestones</th>\n",
       "      <th>relationships</th>\n",
       "      <th>angel</th>\n",
       "      <th>crowdfunding</th>\n",
       "      <th>other</th>\n",
       "      <th>post-ipo</th>\n",
       "      <th>private-equity</th>\n",
       "      <th>series-a</th>\n",
       "      <th>series-b</th>\n",
       "      <th>series-c+</th>\n",
       "      <th>venture</th>\n",
       "      <th>closed</th>\n",
       "      <th>dev</th>\n",
       "      <th>operating</th>\n",
       "      <th>age_set</th>\n",
       "    </tr>\n",
       "  </thead>\n",
       "  <tbody>\n",
       "    <tr>\n",
       "      <th>30722</th>\n",
       "      <td>2</td>\n",
       "      <td>-0.181354</td>\n",
       "      <td>2</td>\n",
       "      <td>14</td>\n",
       "      <td>1.0</td>\n",
       "      <td>0.0</td>\n",
       "      <td>0.0</td>\n",
       "      <td>0.0</td>\n",
       "      <td>0.0</td>\n",
       "      <td>1.0</td>\n",
       "      <td>0.0</td>\n",
       "      <td>0.0</td>\n",
       "      <td>0.0</td>\n",
       "      <td>0.0</td>\n",
       "      <td>0.0</td>\n",
       "      <td>2.0</td>\n",
       "      <td>2.0</td>\n",
       "    </tr>\n",
       "    <tr>\n",
       "      <th>6664</th>\n",
       "      <td>1</td>\n",
       "      <td>-0.201343</td>\n",
       "      <td>0</td>\n",
       "      <td>0</td>\n",
       "      <td>1.0</td>\n",
       "      <td>0.0</td>\n",
       "      <td>0.0</td>\n",
       "      <td>0.0</td>\n",
       "      <td>0.0</td>\n",
       "      <td>0.0</td>\n",
       "      <td>0.0</td>\n",
       "      <td>0.0</td>\n",
       "      <td>0.0</td>\n",
       "      <td>0.0</td>\n",
       "      <td>0.0</td>\n",
       "      <td>1.0</td>\n",
       "      <td>2.0</td>\n",
       "    </tr>\n",
       "    <tr>\n",
       "      <th>29197</th>\n",
       "      <td>1</td>\n",
       "      <td>-0.110350</td>\n",
       "      <td>0</td>\n",
       "      <td>3</td>\n",
       "      <td>0.0</td>\n",
       "      <td>0.0</td>\n",
       "      <td>0.0</td>\n",
       "      <td>0.0</td>\n",
       "      <td>0.0</td>\n",
       "      <td>1.0</td>\n",
       "      <td>0.0</td>\n",
       "      <td>0.0</td>\n",
       "      <td>0.0</td>\n",
       "      <td>0.0</td>\n",
       "      <td>0.0</td>\n",
       "      <td>1.0</td>\n",
       "      <td>2.0</td>\n",
       "    </tr>\n",
       "    <tr>\n",
       "      <th>28678</th>\n",
       "      <td>1</td>\n",
       "      <td>-0.204481</td>\n",
       "      <td>0</td>\n",
       "      <td>10</td>\n",
       "      <td>0.0</td>\n",
       "      <td>0.0</td>\n",
       "      <td>0.0</td>\n",
       "      <td>0.0</td>\n",
       "      <td>0.0</td>\n",
       "      <td>0.0</td>\n",
       "      <td>1.0</td>\n",
       "      <td>0.0</td>\n",
       "      <td>0.0</td>\n",
       "      <td>0.0</td>\n",
       "      <td>0.0</td>\n",
       "      <td>4.0</td>\n",
       "      <td>2.0</td>\n",
       "    </tr>\n",
       "    <tr>\n",
       "      <th>30779</th>\n",
       "      <td>1</td>\n",
       "      <td>-0.204481</td>\n",
       "      <td>1</td>\n",
       "      <td>3</td>\n",
       "      <td>1.0</td>\n",
       "      <td>0.0</td>\n",
       "      <td>0.0</td>\n",
       "      <td>0.0</td>\n",
       "      <td>0.0</td>\n",
       "      <td>0.0</td>\n",
       "      <td>0.0</td>\n",
       "      <td>0.0</td>\n",
       "      <td>0.0</td>\n",
       "      <td>0.0</td>\n",
       "      <td>0.0</td>\n",
       "      <td>1.0</td>\n",
       "      <td>2.0</td>\n",
       "    </tr>\n",
       "  </tbody>\n",
       "</table>\n",
       "</div>"
      ],
      "text/plain": [
       "       funding_rounds  funding_total_usd  milestones  relationships  angel  \\\n",
       "30722               2          -0.181354           2             14    1.0   \n",
       "6664                1          -0.201343           0              0    1.0   \n",
       "29197               1          -0.110350           0              3    0.0   \n",
       "28678               1          -0.204481           0             10    0.0   \n",
       "30779               1          -0.204481           1              3    1.0   \n",
       "\n",
       "       crowdfunding  other  post-ipo  private-equity  series-a  series-b  \\\n",
       "30722           0.0    0.0       0.0             0.0       1.0       0.0   \n",
       "6664            0.0    0.0       0.0             0.0       0.0       0.0   \n",
       "29197           0.0    0.0       0.0             0.0       1.0       0.0   \n",
       "28678           0.0    0.0       0.0             0.0       0.0       1.0   \n",
       "30779           0.0    0.0       0.0             0.0       0.0       0.0   \n",
       "\n",
       "       series-c+  venture  closed  dev  operating  age_set  \n",
       "30722        0.0      0.0     0.0  0.0        2.0      2.0  \n",
       "6664         0.0      0.0     0.0  0.0        1.0      2.0  \n",
       "29197        0.0      0.0     0.0  0.0        1.0      2.0  \n",
       "28678        0.0      0.0     0.0  0.0        4.0      2.0  \n",
       "30779        0.0      0.0     0.0  0.0        1.0      2.0  "
      ]
     },
     "execution_count": 82,
     "metadata": {},
     "output_type": "execute_result"
    }
   ],
   "source": [
    "X_train.head()"
   ]
  },
  {
   "cell_type": "code",
   "execution_count": 83,
   "metadata": {},
   "outputs": [
    {
     "data": {
      "text/plain": [
       "1.0     19694\n",
       "0.0      1365\n",
       "2.0       467\n",
       "3.0       256\n",
       "4.0       157\n",
       "5.0        87\n",
       "6.0        54\n",
       "7.0        27\n",
       "8.0        19\n",
       "9.0        11\n",
       "11.0       10\n",
       "10.0        6\n",
       "12.0        6\n",
       "17.0        3\n",
       "15.0        3\n",
       "22.0        1\n",
       "16.0        1\n",
       "30.0        1\n",
       "38.0        1\n",
       "37.0        1\n",
       "14.0        1\n",
       "19.0        1\n",
       "13.0        1\n",
       "63.0        1\n",
       "25.0        1\n",
       "Name: operating, dtype: int64"
      ]
     },
     "execution_count": 83,
     "metadata": {},
     "output_type": "execute_result"
    }
   ],
   "source": [
    "X_train['operating'].value_counts()"
   ]
  },
  {
   "cell_type": "markdown",
   "metadata": {},
   "source": [
    "## SMOTE Over Sampling"
   ]
  },
  {
   "cell_type": "code",
   "execution_count": 84,
   "metadata": {},
   "outputs": [],
   "source": [
    "from imblearn.over_sampling import SMOTE"
   ]
  },
  {
   "cell_type": "code",
   "execution_count": 85,
   "metadata": {},
   "outputs": [],
   "source": [
    "smote = SMOTE(random_state=0)\n",
    "X_resampled, y_resampled = smote.fit_resample(X_train, y_train)"
   ]
  },
  {
   "cell_type": "markdown",
   "metadata": {},
   "source": [
    "## Random Forest"
   ]
  },
  {
   "cell_type": "code",
   "execution_count": 86,
   "metadata": {},
   "outputs": [],
   "source": [
    "from sklearn.ensemble import RandomForestClassifier"
   ]
  },
  {
   "cell_type": "code",
   "execution_count": 87,
   "metadata": {},
   "outputs": [
    {
     "data": {
      "text/plain": [
       "0.8925715488215489"
      ]
     },
     "execution_count": 87,
     "metadata": {},
     "output_type": "execute_result"
    }
   ],
   "source": [
    "clf = RandomForestClassifier(n_estimators = 500, max_depth=10, random_state=0)\n",
    "clf.fit(X_train, y_train)\n",
    "clf.score(X_test, y_test)"
   ]
  },
  {
   "cell_type": "code",
   "execution_count": 88,
   "metadata": {},
   "outputs": [
    {
     "data": {
      "text/plain": [
       "RandomForestClassifier(class_weight='balanced', max_depth=10, n_estimators=500,\n",
       "                       random_state=0)"
      ]
     },
     "execution_count": 88,
     "metadata": {},
     "output_type": "execute_result"
    }
   ],
   "source": [
    "clf = RandomForestClassifier(n_estimators = 500, max_depth=10, random_state=0, class_weight=\"balanced\")\n",
    "clf.fit(X_train, y_train)"
   ]
  },
  {
   "cell_type": "code",
   "execution_count": 89,
   "metadata": {},
   "outputs": [
    {
     "data": {
      "text/plain": [
       "array([1.89872873e-02, 1.50152084e-01, 4.75108133e-02, 9.39874210e-02,\n",
       "       2.84278724e-02, 4.14860287e-05, 9.58319459e-03, 3.12933071e-02,\n",
       "       2.89015983e-02, 2.08042165e-02, 1.78138067e-02, 1.83441517e-02,\n",
       "       1.99222030e-02, 2.27899246e-01, 5.86315346e-03, 2.40626415e-01,\n",
       "       3.98417440e-02])"
      ]
     },
     "execution_count": 89,
     "metadata": {},
     "output_type": "execute_result"
    }
   ],
   "source": [
    "clf.feature_importances_"
   ]
  },
  {
   "cell_type": "code",
   "execution_count": 90,
   "metadata": {},
   "outputs": [
    {
     "data": {
      "text/plain": [
       "0.6695075757575758"
      ]
     },
     "execution_count": 90,
     "metadata": {},
     "output_type": "execute_result"
    }
   ],
   "source": [
    "clf.score(X_test, y_test)"
   ]
  },
  {
   "cell_type": "code",
   "execution_count": 91,
   "metadata": {},
   "outputs": [
    {
     "data": {
      "text/plain": [
       "3    18534\n",
       "0     1799\n",
       "1     1488\n",
       "2      354\n",
       "Name: status, dtype: int64"
      ]
     },
     "execution_count": 91,
     "metadata": {},
     "output_type": "execute_result"
    }
   ],
   "source": [
    "y_train.value_counts()"
   ]
  },
  {
   "cell_type": "markdown",
   "metadata": {},
   "source": [
    "## MLP"
   ]
  },
  {
   "cell_type": "code",
   "execution_count": 92,
   "metadata": {},
   "outputs": [],
   "source": [
    "from sklearn.neural_network import MLPClassifier"
   ]
  },
  {
   "cell_type": "code",
   "execution_count": 93,
   "metadata": {},
   "outputs": [],
   "source": [
    "clf = MLPClassifier(random_state=0, max_iter=500).fit(X_train, y_train)"
   ]
  },
  {
   "cell_type": "code",
   "execution_count": 94,
   "metadata": {},
   "outputs": [
    {
     "data": {
      "text/plain": [
       "0.8913089225589226"
      ]
     },
     "execution_count": 94,
     "metadata": {},
     "output_type": "execute_result"
    }
   ],
   "source": [
    "clf.score(X_test, y_test)"
   ]
  },
  {
   "cell_type": "code",
   "execution_count": 95,
   "metadata": {},
   "outputs": [],
   "source": [
    "clf = MLPClassifier(random_state=0, max_iter=500).fit(X_resampled, y_resampled)"
   ]
  },
  {
   "cell_type": "code",
   "execution_count": 96,
   "metadata": {},
   "outputs": [
    {
     "data": {
      "text/plain": [
       "0.65625"
      ]
     },
     "execution_count": 96,
     "metadata": {},
     "output_type": "execute_result"
    }
   ],
   "source": [
    "clf.score(X_test, y_test)"
   ]
  },
  {
   "cell_type": "code",
   "execution_count": 97,
   "metadata": {},
   "outputs": [
    {
     "data": {
      "text/plain": [
       "3"
      ]
     },
     "execution_count": 97,
     "metadata": {},
     "output_type": "execute_result"
    }
   ],
   "source": [
    "clf.n_layers_"
   ]
  },
  {
   "cell_type": "markdown",
   "metadata": {},
   "source": [
    "## XGBoost"
   ]
  },
  {
   "cell_type": "code",
   "execution_count": 98,
   "metadata": {},
   "outputs": [
    {
     "data": {
      "text/plain": [
       "0.889334836527621"
      ]
     },
     "execution_count": 98,
     "metadata": {},
     "output_type": "execute_result"
    }
   ],
   "source": [
    "from xgboost import XGBClassifier\n",
    "from sklearn.model_selection import cross_val_score\n",
    "cross_val_score(XGBClassifier(), X_train, y_train).mean()"
   ]
  },
  {
   "cell_type": "code",
   "execution_count": 99,
   "metadata": {},
   "outputs": [
    {
     "data": {
      "text/plain": [
       "0.8647627818431183"
      ]
     },
     "execution_count": 99,
     "metadata": {},
     "output_type": "execute_result"
    }
   ],
   "source": [
    "cross_val_score(XGBClassifier(), X_resampled, y_resampled).mean()"
   ]
  },
  {
   "cell_type": "code",
   "execution_count": 100,
   "metadata": {},
   "outputs": [
    {
     "data": {
      "text/plain": [
       "0.8910984848484849"
      ]
     },
     "execution_count": 100,
     "metadata": {},
     "output_type": "execute_result"
    }
   ],
   "source": [
    "xgb_model = XGBClassifier(random_state=42)\n",
    "xgb_model.fit(X_train, y_train)\n",
    "\n",
    "xgb_model.score(X_test, y_test)\n",
    "\n",
    "# print(confusion_matrix(y, y_pred))"
   ]
  },
  {
   "cell_type": "code",
   "execution_count": 101,
   "metadata": {},
   "outputs": [
    {
     "data": {
      "text/plain": [
       "0.7771464646464646"
      ]
     },
     "execution_count": 101,
     "metadata": {},
     "output_type": "execute_result"
    }
   ],
   "source": [
    "xgb_model = XGBClassifier(random_state=42)\n",
    "xgb_model.fit(X_resampled, y_resampled)\n",
    "\n",
    "xgb_model.score(X_test, y_test)\n",
    "\n",
    "# print(confusion_matrix(y, y_pred))"
   ]
  },
  {
   "cell_type": "code",
   "execution_count": 102,
   "metadata": {},
   "outputs": [
    {
     "data": {
      "text/html": [
       "<div>\n",
       "<style scoped>\n",
       "    .dataframe tbody tr th:only-of-type {\n",
       "        vertical-align: middle;\n",
       "    }\n",
       "\n",
       "    .dataframe tbody tr th {\n",
       "        vertical-align: top;\n",
       "    }\n",
       "\n",
       "    .dataframe thead th {\n",
       "        text-align: right;\n",
       "    }\n",
       "</style>\n",
       "<table border=\"1\" class=\"dataframe\">\n",
       "  <thead>\n",
       "    <tr style=\"text-align: right;\">\n",
       "      <th></th>\n",
       "      <th>status</th>\n",
       "      <th>funding_rounds</th>\n",
       "      <th>funding_total_usd</th>\n",
       "      <th>milestones</th>\n",
       "      <th>relationships</th>\n",
       "      <th>angel</th>\n",
       "      <th>crowdfunding</th>\n",
       "      <th>other</th>\n",
       "      <th>post-ipo</th>\n",
       "      <th>private-equity</th>\n",
       "      <th>series-a</th>\n",
       "      <th>series-b</th>\n",
       "      <th>series-c+</th>\n",
       "      <th>venture</th>\n",
       "      <th>closed</th>\n",
       "      <th>dev</th>\n",
       "      <th>operating</th>\n",
       "      <th>age_set</th>\n",
       "    </tr>\n",
       "  </thead>\n",
       "  <tbody>\n",
       "  </tbody>\n",
       "</table>\n",
       "</div>"
      ],
      "text/plain": [
       "Empty DataFrame\n",
       "Columns: [status, funding_rounds, funding_total_usd, milestones, relationships, angel, crowdfunding, other, post-ipo, private-equity, series-a, series-b, series-c+, venture, closed, dev, operating, age_set]\n",
       "Index: []"
      ]
     },
     "execution_count": 102,
     "metadata": {},
     "output_type": "execute_result"
    }
   ],
   "source": [
    "full_d.drop(['invested_companies', 'investment_rounds', 'AS', 'EU', 'NA', 'SA', 'UT', 'BZ', 'HE', 'LE', 'OT', 'PC',\n",
    "       'TR'], axis=1)[full_d['status'] == 'ipo']"
   ]
  },
  {
   "cell_type": "code",
   "execution_count": 103,
   "metadata": {},
   "outputs": [
    {
     "data": {
      "text/html": [
       "<div>\n",
       "<style scoped>\n",
       "    .dataframe tbody tr th:only-of-type {\n",
       "        vertical-align: middle;\n",
       "    }\n",
       "\n",
       "    .dataframe tbody tr th {\n",
       "        vertical-align: top;\n",
       "    }\n",
       "\n",
       "    .dataframe thead th {\n",
       "        text-align: right;\n",
       "    }\n",
       "</style>\n",
       "<table border=\"1\" class=\"dataframe\">\n",
       "  <thead>\n",
       "    <tr style=\"text-align: right;\">\n",
       "      <th></th>\n",
       "      <th>funding_rounds</th>\n",
       "      <th>funding_total_usd</th>\n",
       "      <th>milestones</th>\n",
       "      <th>relationships</th>\n",
       "      <th>angel</th>\n",
       "      <th>crowdfunding</th>\n",
       "      <th>other</th>\n",
       "      <th>post-ipo</th>\n",
       "      <th>private-equity</th>\n",
       "      <th>series-a</th>\n",
       "      <th>series-b</th>\n",
       "      <th>series-c+</th>\n",
       "      <th>venture</th>\n",
       "      <th>closed</th>\n",
       "      <th>dev</th>\n",
       "      <th>operating</th>\n",
       "      <th>age_set</th>\n",
       "    </tr>\n",
       "  </thead>\n",
       "  <tbody>\n",
       "    <tr>\n",
       "      <th>0</th>\n",
       "      <td>8</td>\n",
       "      <td>4000.0</td>\n",
       "      <td>4</td>\n",
       "      <td>32</td>\n",
       "      <td>0</td>\n",
       "      <td>0</td>\n",
       "      <td>0</td>\n",
       "      <td>0</td>\n",
       "      <td>0</td>\n",
       "      <td>0</td>\n",
       "      <td>0</td>\n",
       "      <td>1</td>\n",
       "      <td>0</td>\n",
       "      <td>2</td>\n",
       "      <td>2</td>\n",
       "      <td>4</td>\n",
       "      <td>young</td>\n",
       "    </tr>\n",
       "  </tbody>\n",
       "</table>\n",
       "</div>"
      ],
      "text/plain": [
       "   funding_rounds  funding_total_usd  milestones  relationships  angel  \\\n",
       "0               8             4000.0           4             32      0   \n",
       "\n",
       "   crowdfunding  other  post-ipo  private-equity  series-a  series-b  \\\n",
       "0             0      0         0               0         0         0   \n",
       "\n",
       "   series-c+  venture  closed  dev  operating age_set  \n",
       "0          1        0       2    2          4   young  "
      ]
     },
     "execution_count": 103,
     "metadata": {},
     "output_type": "execute_result"
    }
   ],
   "source": [
    "sample_pred = [[8, 4000.0, 4, 32, 0, 0, 0, 0, 0, 0, 0, 1, 0, 2, 2, 4, \"young\"]]\n",
    "sample_pred_df = pd.DataFrame(sample_pred, columns =['funding_rounds', 'funding_total_usd', 'milestones', 'relationships',\n",
    "       'angel', 'crowdfunding', 'other', 'post-ipo', 'private-equity',\n",
    "       'series-a', 'series-b', 'series-c+', 'venture', 'closed', 'dev',\n",
    "       'operating', 'age_set'])\n",
    "sample_pred_df"
   ]
  },
  {
   "cell_type": "code",
   "execution_count": 104,
   "metadata": {},
   "outputs": [
    {
     "name": "stdout",
     "output_type": "stream",
     "text": [
      "[[-0.20441786]]\n"
     ]
    },
    {
     "data": {
      "text/html": [
       "<div>\n",
       "<style scoped>\n",
       "    .dataframe tbody tr th:only-of-type {\n",
       "        vertical-align: middle;\n",
       "    }\n",
       "\n",
       "    .dataframe tbody tr th {\n",
       "        vertical-align: top;\n",
       "    }\n",
       "\n",
       "    .dataframe thead th {\n",
       "        text-align: right;\n",
       "    }\n",
       "</style>\n",
       "<table border=\"1\" class=\"dataframe\">\n",
       "  <thead>\n",
       "    <tr style=\"text-align: right;\">\n",
       "      <th></th>\n",
       "      <th>funding_rounds</th>\n",
       "      <th>funding_total_usd</th>\n",
       "      <th>milestones</th>\n",
       "      <th>relationships</th>\n",
       "      <th>angel</th>\n",
       "      <th>crowdfunding</th>\n",
       "      <th>other</th>\n",
       "      <th>post-ipo</th>\n",
       "      <th>private-equity</th>\n",
       "      <th>series-a</th>\n",
       "      <th>series-b</th>\n",
       "      <th>series-c+</th>\n",
       "      <th>venture</th>\n",
       "      <th>closed</th>\n",
       "      <th>dev</th>\n",
       "      <th>operating</th>\n",
       "      <th>age_set</th>\n",
       "    </tr>\n",
       "  </thead>\n",
       "  <tbody>\n",
       "    <tr>\n",
       "      <th>0</th>\n",
       "      <td>8</td>\n",
       "      <td>-0.204418</td>\n",
       "      <td>4</td>\n",
       "      <td>32</td>\n",
       "      <td>0</td>\n",
       "      <td>0</td>\n",
       "      <td>0</td>\n",
       "      <td>0</td>\n",
       "      <td>0</td>\n",
       "      <td>0</td>\n",
       "      <td>0</td>\n",
       "      <td>1</td>\n",
       "      <td>0</td>\n",
       "      <td>2</td>\n",
       "      <td>2</td>\n",
       "      <td>4</td>\n",
       "      <td>2.0</td>\n",
       "    </tr>\n",
       "  </tbody>\n",
       "</table>\n",
       "</div>"
      ],
      "text/plain": [
       "   funding_rounds  funding_total_usd  milestones  relationships  angel  \\\n",
       "0               8          -0.204418           4             32      0   \n",
       "\n",
       "   crowdfunding  other  post-ipo  private-equity  series-a  series-b  \\\n",
       "0             0      0         0               0         0         0   \n",
       "\n",
       "   series-c+  venture  closed  dev  operating  age_set  \n",
       "0          1        0       2    2          4      2.0  "
      ]
     },
     "execution_count": 104,
     "metadata": {},
     "output_type": "execute_result"
    }
   ],
   "source": [
    "# age_set = []\n",
    "\n",
    "# for i in range(sample_pred_df.shape[0]):\n",
    "#     x = sample_pred_df.age.iloc[i]\n",
    "\n",
    "#     if x <= 20:\n",
    "#         age_set.append('young')\n",
    "#     elif x > 20:\n",
    "#         age_set.append('old')\n",
    "#     else:\n",
    "#         age_set.append('other')\n",
    "\n",
    "sample_pred = [[8, 4000.0, 4, 32, 0, 0, 0, 0, 0, 0, 0, 1, 0, 2, 2, 4, \"young\"]]\n",
    "sample_pred_df = pd.DataFrame(sample_pred, columns =['funding_rounds', 'funding_total_usd', 'milestones', 'relationships',\n",
    "       'angel', 'crowdfunding', 'other', 'post-ipo', 'private-equity',\n",
    "       'series-a', 'series-b', 'series-c+', 'venture', 'closed', 'dev',\n",
    "       'operating', 'age_set'])\n",
    "sample_pred_df\n",
    "\n",
    "sample_pred_df[['age_set']] = ageset_le.transform(sample_pred_df[['age_set']])\n",
    "test = np.array(sample_pred_df['funding_total_usd']).reshape(-1,1)\n",
    "print(funding_scaler.transform(sample_pred_df[['funding_total_usd']]))\n",
    "sample_pred_df[['funding_total_usd']] = funding_scaler.transform(sample_pred_df[['funding_total_usd']])\n",
    "sample_pred_df"
   ]
  },
  {
   "cell_type": "code",
   "execution_count": 105,
   "metadata": {},
   "outputs": [
    {
     "ename": "NameError",
     "evalue": "name 'dump' is not defined",
     "output_type": "error",
     "traceback": [
      "\u001b[0;31m---------------------------------------------------------------------------\u001b[0m",
      "\u001b[0;31mNameError\u001b[0m                                 Traceback (most recent call last)",
      "\u001b[0;32m<ipython-input-105-6b02f00f125c>\u001b[0m in \u001b[0;36m<module>\u001b[0;34m\u001b[0m\n\u001b[0;32m----> 1\u001b[0;31m \u001b[0mdump\u001b[0m\u001b[0;34m(\u001b[0m\u001b[0mageset_le\u001b[0m\u001b[0;34m,\u001b[0m \u001b[0;34m'ageset_le.joblib'\u001b[0m\u001b[0;34m)\u001b[0m\u001b[0;34m\u001b[0m\u001b[0;34m\u001b[0m\u001b[0m\n\u001b[0m\u001b[1;32m      2\u001b[0m \u001b[0mdump\u001b[0m\u001b[0;34m(\u001b[0m\u001b[0mfunding_scaler\u001b[0m\u001b[0;34m,\u001b[0m \u001b[0;34m'funding_scaler.joblib'\u001b[0m\u001b[0;34m)\u001b[0m\u001b[0;34m\u001b[0m\u001b[0;34m\u001b[0m\u001b[0m\n\u001b[1;32m      3\u001b[0m \u001b[0mdump\u001b[0m\u001b[0;34m(\u001b[0m\u001b[0mstatus_le\u001b[0m\u001b[0;34m,\u001b[0m \u001b[0;34m'status_le.joblib'\u001b[0m\u001b[0;34m)\u001b[0m\u001b[0;34m\u001b[0m\u001b[0;34m\u001b[0m\u001b[0m\n",
      "\u001b[0;31mNameError\u001b[0m: name 'dump' is not defined"
     ]
    }
   ],
   "source": [
    "from joblib import dump, load\n",
    "dump(ageset_le, 'ageset_le.joblib') \n",
    "dump(funding_scaler, 'funding_scaler.joblib') \n",
    "dump(status_le, 'status_le.joblib')"
   ]
  },
  {
   "cell_type": "code",
   "execution_count": 117,
   "metadata": {},
   "outputs": [],
   "source": [
    "import xgboost"
   ]
  },
  {
   "cell_type": "code",
   "execution_count": 118,
   "metadata": {},
   "outputs": [
    {
     "data": {
      "text/plain": [
       "3"
      ]
     },
     "execution_count": 118,
     "metadata": {},
     "output_type": "execute_result"
    }
   ],
   "source": [
    "xgb_model.predict(sample_pred_df)[0]"
   ]
  },
  {
   "cell_type": "code",
   "execution_count": 121,
   "metadata": {},
   "outputs": [
    {
     "data": {
      "image/png": "[encoded data removed]",
      "text/plain": [
       "<Figure size 432x288 with 1 Axes>"
      ]
     },
     "metadata": {
      "needs_background": "light"
     },
     "output_type": "display_data"
    }
   ],
   "source": [
    "xgboost.plot_importance(xgb_model, max_num_features=10).get_figure().gca().set_title(\"\")\n",
    "\n",
    "plt.savefig('feature_plot.pdf', bbox_inches='tight')  "
   ]
  },
  {
   "cell_type": "markdown",
   "metadata": {},
   "source": [
    "## Logistic Regression"
   ]
  },
  {
   "cell_type": "code",
   "execution_count": 122,
   "metadata": {},
   "outputs": [],
   "source": [
    "from sklearn.linear_model import LogisticRegression"
   ]
  },
  {
   "cell_type": "code",
   "execution_count": 123,
   "metadata": {},
   "outputs": [
    {
     "name": "stderr",
     "output_type": "stream",
     "text": [
      "/Users/Chinmay/.local/lib/python3.7/site-packages/sklearn/linear_model/_logistic.py:818: ConvergenceWarning: lbfgs failed to converge (status=1):\n",
      "STOP: TOTAL NO. of ITERATIONS REACHED LIMIT.\n",
      "\n",
      "Increase the number of iterations (max_iter) or scale the data as shown in:\n",
      "    https://scikit-learn.org/stable/modules/preprocessing.html\n",
      "Please also refer to the documentation for alternative solver options:\n",
      "    https://scikit-learn.org/stable/modules/linear_model.html#logistic-regression\n",
      "  extra_warning_msg=_LOGISTIC_SOLVER_CONVERGENCE_MSG,\n"
     ]
    },
    {
     "data": {
      "text/plain": [
       "0.8892045454545454"
      ]
     },
     "execution_count": 123,
     "metadata": {},
     "output_type": "execute_result"
    }
   ],
   "source": [
    "clf = LogisticRegression(random_state=0).fit(X_train, y_train)\n",
    "clf.score(X_test, y_test)"
   ]
  },
  {
   "cell_type": "code",
   "execution_count": 124,
   "metadata": {},
   "outputs": [
    {
     "name": "stderr",
     "output_type": "stream",
     "text": [
      "/Users/Chinmay/.local/lib/python3.7/site-packages/sklearn/linear_model/_logistic.py:818: ConvergenceWarning: lbfgs failed to converge (status=1):\n",
      "STOP: TOTAL NO. of ITERATIONS REACHED LIMIT.\n",
      "\n",
      "Increase the number of iterations (max_iter) or scale the data as shown in:\n",
      "    https://scikit-learn.org/stable/modules/preprocessing.html\n",
      "Please also refer to the documentation for alternative solver options:\n",
      "    https://scikit-learn.org/stable/modules/linear_model.html#logistic-regression\n",
      "  extra_warning_msg=_LOGISTIC_SOLVER_CONVERGENCE_MSG,\n"
     ]
    },
    {
     "data": {
      "text/plain": [
       "0.6813973063973064"
      ]
     },
     "execution_count": 124,
     "metadata": {},
     "output_type": "execute_result"
    }
   ],
   "source": [
    "clf = LogisticRegression(random_state=0).fit(X_resampled, y_resampled)\n",
    "clf.score(X_test, y_test)"
   ]
  },
  {
   "cell_type": "markdown",
   "metadata": {},
   "source": [
    "## Save model"
   ]
  },
  {
   "cell_type": "code",
   "execution_count": 106,
   "metadata": {},
   "outputs": [],
   "source": [
    "from joblib import dump, load"
   ]
  },
  {
   "cell_type": "code",
   "execution_count": 107,
   "metadata": {},
   "outputs": [
    {
     "data": {
      "text/plain": [
       "['xgb_balanced.joblib']"
      ]
     },
     "execution_count": 107,
     "metadata": {},
     "output_type": "execute_result"
    }
   ],
   "source": [
    "dump(xgb_model, 'xgb_balanced.joblib') "
   ]
  },
  {
   "cell_type": "code",
   "execution_count": null,
   "metadata": {},
   "outputs": [],
   "source": []
  }
 ],
 "metadata": {
  "kernelspec": {
   "display_name": "Python 3",
   "language": "python",
   "name": "python3"
  },
  "language_info": {
   "codemirror_mode": {
    "name": "ipython",
    "version": 3
   },
   "file_extension": ".py",
   "mimetype": "text/x-python",
   "name": "python",
   "nbconvert_exporter": "python",
   "pygments_lexer": "ipython3",
   "version": "3.7.1"
  },
  "papermill": {
   "default_parameters": {},
   "duration": 73.045634,
   "end_time": "2021-05-09T10:37:14.303547",
   "environment_variables": {},
   "exception": null,
   "input_path": "__notebook__.ipynb",
   "output_path": "__notebook__.ipynb",
   "parameters": {},
   "start_time": "2021-05-09T10:36:01.257913",
   "version": "2.3.3"
  }
 },
 "nbformat": 4,
 "nbformat_minor": 5
}
